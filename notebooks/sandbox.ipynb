{
 "cells": [
  {
   "cell_type": "code",
   "execution_count": 1,
   "id": "75801914-3639-4239-8b46-46953be89148",
   "metadata": {},
   "outputs": [
    {
     "name": "stderr",
     "output_type": "stream",
     "text": [
      "<unknown>:1: SyntaxWarning: invalid escape sequence '\\s'\n"
     ]
    },
    {
     "data": {
      "text/plain": [
       "{'x': {'fork_coordinates': list,\n",
       "  'fork_domains': list,\n",
       "  'fork_unique_index': list,\n",
       "  'number_of_oric': list,\n",
       "  'free_DnaA_boxes': list,\n",
       "  'total_DnaA_boxes': list}}"
      ]
     },
     "execution_count": 1,
     "metadata": {},
     "output_type": "execute_result"
    }
   ],
   "source": [
    "import importlib\n",
    "import warnings\n",
    "from logging import getLogger\n",
    "from types import ModuleType\n",
    "from process_bigraph import ProcessTypes\n",
    "from bigraph_schema.protocols import function_module\n",
    "from unum import Unum\n",
    "from importlib import import_module\n",
    "from typing import *\n",
    "\n",
    "from wholecell.utils import units\n",
    "from ecoli.experiments.ecoli_master_sim import EcoliSim\n",
    "from ecoli.shared import ecoli_core as ec\n",
    "from ecoli.shared.types.register import test_register_type\n",
    "from ecoli.shared.vivarium_instances.factory import VivariumFactory\n",
    "from ecoli.shared.utils.schemas import listener_schema, get_defaults_schema, collapse_defaults\n",
    "vivarium = VivariumFactory()\n",
    "\n",
    "from ecoli.shared.registry import ModelProcesses\n",
    "import json \n",
    "\n",
    "\n",
    "\n",
    "replication = {\n",
    "    \"x\": {**listener_schema({\n",
    "        \"fork_coordinates\": [],\n",
    "        \"fork_domains\": [],\n",
    "        \"fork_unique_index\": [],\n",
    "        \"number_of_oric\": [],\n",
    "        \"free_DnaA_boxes\": [],\n",
    "        \"total_DnaA_boxes\": [],\n",
    "    })},\n",
    "}\n",
    "    \n",
    "\n",
    "\n",
    "replication\n",
    "get_defaults_schema(replication)"
   ]
  },
  {
   "cell_type": "code",
   "execution_count": 2,
   "id": "94d8bdb1-ea1d-4bde-a532-7e80a63268f7",
   "metadata": {},
   "outputs": [
    {
     "ename": "ValueError",
     "evalue": "no field of name coordinates",
     "output_type": "error",
     "traceback": [
      "\u001b[0;31m---------------------------------------------------------------------------\u001b[0m",
      "\u001b[0;31mValueError\u001b[0m                                Traceback (most recent call last)",
      "Cell \u001b[0;32mIn[2], line 7\u001b[0m\n\u001b[1;32m      4\u001b[0m proc \u001b[38;5;241m=\u001b[39m ReplicationData(core\u001b[38;5;241m=\u001b[39mec)\n\u001b[1;32m      6\u001b[0m s \u001b[38;5;241m=\u001b[39m collapse_defaults(proc\u001b[38;5;241m.\u001b[39minput_schema)\n\u001b[0;32m----> 7\u001b[0m \u001b[43mproc\u001b[49m\u001b[38;5;241;43m.\u001b[39;49m\u001b[43mupdate\u001b[49m\u001b[43m(\u001b[49m\u001b[43ms\u001b[49m\u001b[43m,\u001b[49m\u001b[43m \u001b[49m\u001b[38;5;241;43m11\u001b[39;49m\u001b[43m)\u001b[49m\n",
      "File \u001b[0;32m~/Desktop/repos/ecoli/v2Ecoli/ecoli/migrated/listeners/replication_data.py:74\u001b[0m, in \u001b[0;36mReplicationData.update\u001b[0;34m(self, state, interval)\u001b[0m\n\u001b[1;32m     73\u001b[0m \u001b[38;5;28;01mdef\u001b[39;00m \u001b[38;5;21mupdate\u001b[39m(\u001b[38;5;28mself\u001b[39m, state, interval):\n\u001b[0;32m---> 74\u001b[0m     fork_coordinates, fork_domains, fork_unique_index \u001b[38;5;241m=\u001b[39m \u001b[43mattrs\u001b[49m\u001b[43m(\u001b[49m\n\u001b[1;32m     75\u001b[0m \u001b[43m        \u001b[49m\u001b[43mstate\u001b[49m\u001b[43m[\u001b[49m\u001b[38;5;124;43m\"\u001b[39;49m\u001b[38;5;124;43mactive_replisomes\u001b[39;49m\u001b[38;5;124;43m\"\u001b[39;49m\u001b[43m]\u001b[49m\u001b[43m,\u001b[49m\u001b[43m \u001b[49m\u001b[43m[\u001b[49m\u001b[38;5;124;43m\"\u001b[39;49m\u001b[38;5;124;43mcoordinates\u001b[39;49m\u001b[38;5;124;43m\"\u001b[39;49m\u001b[43m,\u001b[49m\u001b[43m \u001b[49m\u001b[38;5;124;43m\"\u001b[39;49m\u001b[38;5;124;43mdomain_index\u001b[39;49m\u001b[38;5;124;43m\"\u001b[39;49m\u001b[43m,\u001b[49m\u001b[43m \u001b[49m\u001b[38;5;124;43m\"\u001b[39;49m\u001b[38;5;124;43munique_index\u001b[39;49m\u001b[38;5;124;43m\"\u001b[39;49m\u001b[43m]\u001b[49m\n\u001b[1;32m     76\u001b[0m \u001b[43m    \u001b[49m\u001b[43m)\u001b[49m\n\u001b[1;32m     78\u001b[0m     (DnaA_box_bound,) \u001b[38;5;241m=\u001b[39m attrs(state[\u001b[38;5;124m\"\u001b[39m\u001b[38;5;124mDnaA_boxes\u001b[39m\u001b[38;5;124m\"\u001b[39m], [\u001b[38;5;124m\"\u001b[39m\u001b[38;5;124mDnaA_bound\u001b[39m\u001b[38;5;124m\"\u001b[39m])\n\u001b[1;32m     80\u001b[0m     update \u001b[38;5;241m=\u001b[39m {\n\u001b[1;32m     81\u001b[0m         \u001b[38;5;124m\"\u001b[39m\u001b[38;5;124mlisteners\u001b[39m\u001b[38;5;124m\"\u001b[39m: {\n\u001b[1;32m     82\u001b[0m             \u001b[38;5;124m\"\u001b[39m\u001b[38;5;124mreplication_data\u001b[39m\u001b[38;5;124m\"\u001b[39m: {\n\u001b[0;32m   (...)\u001b[0m\n\u001b[1;32m     90\u001b[0m         }\n\u001b[1;32m     91\u001b[0m     }\n",
      "File \u001b[0;32m~/Desktop/repos/ecoli/v2Ecoli/ecoli/library/schema.py:358\u001b[0m, in \u001b[0;36mattrs\u001b[0;34m(states, attributes)\u001b[0m\n\u001b[1;32m    356\u001b[0m \u001b[38;5;66;03m# _entryState has dtype int8 so this works\u001b[39;00m\n\u001b[1;32m    357\u001b[0m mol_mask \u001b[38;5;241m=\u001b[39m states[\u001b[38;5;124m\"\u001b[39m\u001b[38;5;124m_entryState\u001b[39m\u001b[38;5;124m\"\u001b[39m]\u001b[38;5;241m.\u001b[39mview(np\u001b[38;5;241m.\u001b[39mbool_)\n\u001b[0;32m--> 358\u001b[0m \u001b[38;5;28;01mreturn\u001b[39;00m [np\u001b[38;5;241m.\u001b[39masarray(\u001b[43mstates\u001b[49m\u001b[43m[\u001b[49m\u001b[43mattribute\u001b[49m\u001b[43m]\u001b[49m[mol_mask]) \u001b[38;5;28;01mfor\u001b[39;00m attribute \u001b[38;5;129;01min\u001b[39;00m attributes]\n",
      "\u001b[0;31mValueError\u001b[0m: no field of name coordinates"
     ]
    }
   ],
   "source": [
    "from ecoli.migrated.listeners.replication_data import ReplicationData\n",
    "\n",
    "\n",
    "proc = ReplicationData(core=ec)\n",
    "\n",
    "s = collapse_defaults(proc.input_schema)\n",
    "proc.update(s, 11)"
   ]
  },
  {
   "cell_type": "code",
   "execution_count": 24,
   "id": "6be437eb-5083-4c74-93b8-f59998259fc8",
   "metadata": {},
   "outputs": [
    {
     "data": {
      "text/plain": [
       "dtype([('id', '<U100'), ('count', '<f8')])"
      ]
     },
     "execution_count": 24,
     "metadata": {},
     "output_type": "execute_result"
    }
   ],
   "source": [
    "import numpy as np\n",
    "\n",
    "\n",
    "bulk_dtype: np.dtype = np.dtype([\n",
    "    (\"id\", \"<U100\"),\n",
    "    (\"count\", \"<f8\")\n",
    "])\n",
    "\n",
    "np.array([('a', 11)], dtype=bulk_dtype).dtype"
   ]
  },
  {
   "cell_type": "code",
   "execution_count": null,
   "id": "da1fa127-32b7-48d3-b55b-e386a2608305",
   "metadata": {},
   "outputs": [],
   "source": [
    "configpath = '/Users/alexanderpatrie/Desktop/repos/ecoli/v2Ecoli/ecoli/composites/ecoli_configs/test_installation.json'\n",
    "sim = EcoliSim.from_file(configpath)"
   ]
  },
  {
   "cell_type": "code",
   "execution_count": null,
   "id": "a60e9a86-7cad-4c3e-9b1a-e8e546096e4f",
   "metadata": {},
   "outputs": [],
   "source": [
    "import numpy as np \n",
    "\n",
    "\n",
    "doc = {\n",
    "    'complexation': {\n",
    "        '_type': 'process',\n",
    "        'address': 'local:complexation',\n",
    "        'config': {\n",
    "            \"stoichiometry\": [[-1, 1, 0], [0, -1, 1], [1, 0, -1], [-1, 0, 1], [1, -1, 0], [0, 1, -1]],\n",
    "            \"rates\": np.random.random((6,)).tolist(),\n",
    "            \"molecule_names\": [\"A\", \"B\", \"C\"],\n",
    "            \"seed\": 1,\n",
    "            \"reaction_ids\": [1, 2, 3, 4, 5, 6],\n",
    "            \"complex_ids\": [1, 2, 3, 4, 5, 6],\n",
    "        },\n",
    "        'inputs': {\n",
    "            'bulk': ['bulk'],\n",
    "            'timestep': ['timestep']\n",
    "        }\n",
    "    }\n",
    "}"
   ]
  },
  {
   "cell_type": "code",
   "execution_count": null,
   "id": "b1d766c1-07a6-449c-b44e-57a24b22ef84",
   "metadata": {},
   "outputs": [],
   "source": [
    "# flow represents which processes should be connected\n",
    "# topology represents the overall ports for the composite(emitter?)\n",
    "# processes represents the actual processes involved.\n",
    "\n",
    "# THUS, to create the composite doc we should:\n",
    "# 1. For each key(process) in sim.processes, create the composite doc as usual:\n",
    "# 1a. \n",
    "\n",
    "\n",
    "def construct_state(sim: EcoliSim):\n",
    "    sim_processes = sim.processes\n",
    "    state = {}\n",
    "    for process_id in sim_processes:\n",
    "        state[process_id] = {\n",
    "            \"address\": f\"local:{process_id}\",\n",
    "            \"config\": sim.process_configs.get(process_id),\n",
    "            \"inputs\": {}\n",
    "        }\n"
   ]
  }
 ],
 "metadata": {
  "kernelspec": {
   "display_name": "Python 3 (ipykernel)",
   "language": "python",
   "name": "python3"
  },
  "language_info": {
   "codemirror_mode": {
    "name": "ipython",
    "version": 3
   },
   "file_extension": ".py",
   "mimetype": "text/x-python",
   "name": "python",
   "nbconvert_exporter": "python",
   "pygments_lexer": "ipython3",
   "version": "3.12.8"
  }
 },
 "nbformat": 4,
 "nbformat_minor": 5
}
