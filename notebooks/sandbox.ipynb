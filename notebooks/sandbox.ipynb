{
 "cells": [
  {
   "cell_type": "code",
   "execution_count": 28,
   "id": "cfe6b880-e4c0-47e2-9098-bc2ba5e984c1",
   "metadata": {},
   "outputs": [],
   "source": [
    "import importlib\n",
    "import warnings\n",
    "from logging import getLogger\n",
    "from types import ModuleType\n",
    "from process_bigraph import ProcessTypes\n",
    "from bigraph_schema.protocols import function_module\n",
    "from unum import Unum\n",
    "from importlib import import_module\n",
    "from typing import *\n",
    "\n",
    "from wholecell.utils import units\n",
    "from ecoli.shared import ecoli_core as ec\n",
    "from ecoli.shared.types.register import test_register_type\n",
    "from ecoli.instances.base import vivarium_base as v"
   ]
  },
  {
   "cell_type": "code",
   "execution_count": 29,
   "id": "fb14754f-fd4f-4970-a9ce-39ba2b343fff",
   "metadata": {},
   "outputs": [],
   "source": [
    "test_register_type(ec)"
   ]
  },
  {
   "cell_type": "code",
   "execution_count": 30,
   "id": "08d5273a-2703-4edb-a429-fcfe1d926f94",
   "metadata": {},
   "outputs": [
    {
     "data": {
      "text/plain": [
       "{'_apply': 'apply_unum',\n",
       " '_check': 'check_unum',\n",
       " '_divide': 'divide_unum',\n",
       " '_serialize': 'serialize_unum',\n",
       " '_deserialize': 'deserialize_unum',\n",
       " '_type': 'unum',\n",
       " '_default': 1.0 [s/mol]}"
      ]
     },
     "execution_count": 30,
     "metadata": {},
     "output_type": "execute_result"
    }
   ],
   "source": [
    "ec.types().get('unum')"
   ]
  },
  {
   "cell_type": "code",
   "execution_count": 4,
   "id": "1df7dc6a-aa52-4bee-9512-7a3e152877da",
   "metadata": {},
   "outputs": [],
   "source": [
    "from vivarium import Vivarium\n",
    "\n",
    "v = Vivarium(core=ec, processes=ec.process_registry.registry, types=ec.types())"
   ]
  },
  {
   "cell_type": "code",
   "execution_count": 5,
   "id": "eb6cc4fc-0247-4846-a4fd-4fdc241f27ee",
   "metadata": {},
   "outputs": [
    {
     "data": {
      "text/html": [
       "<div>\n",
       "<style scoped>\n",
       "    .dataframe tbody tr th:only-of-type {\n",
       "        vertical-align: middle;\n",
       "    }\n",
       "\n",
       "    .dataframe tbody tr th {\n",
       "        vertical-align: top;\n",
       "    }\n",
       "\n",
       "    .dataframe thead th {\n",
       "        text-align: right;\n",
       "    }\n",
       "</style>\n",
       "<table border=\"1\" class=\"dataframe\">\n",
       "  <thead>\n",
       "    <tr style=\"text-align: right;\">\n",
       "      <th></th>\n",
       "      <th>Process</th>\n",
       "    </tr>\n",
       "  </thead>\n",
       "  <tbody>\n",
       "    <tr>\n",
       "      <th>0</th>\n",
       "      <td>json-emitter</td>\n",
       "    </tr>\n",
       "    <tr>\n",
       "      <th>1</th>\n",
       "      <td>parquet-emitter</td>\n",
       "    </tr>\n",
       "    <tr>\n",
       "      <th>2</th>\n",
       "      <td>two_component_system</td>\n",
       "    </tr>\n",
       "    <tr>\n",
       "      <th>3</th>\n",
       "      <td>toyode</td>\n",
       "    </tr>\n",
       "    <tr>\n",
       "      <th>4</th>\n",
       "      <td>rna_interference</td>\n",
       "    </tr>\n",
       "    <tr>\n",
       "      <th>5</th>\n",
       "      <td>tf_binding</td>\n",
       "    </tr>\n",
       "    <tr>\n",
       "      <th>6</th>\n",
       "      <td>divide</td>\n",
       "    </tr>\n",
       "    <tr>\n",
       "      <th>7</th>\n",
       "      <td>chemostat</td>\n",
       "    </tr>\n",
       "    <tr>\n",
       "      <th>8</th>\n",
       "      <td>bulk_timeline</td>\n",
       "    </tr>\n",
       "    <tr>\n",
       "      <th>9</th>\n",
       "      <td>global_clock</td>\n",
       "    </tr>\n",
       "    <tr>\n",
       "      <th>10</th>\n",
       "      <td>toysystem</td>\n",
       "    </tr>\n",
       "    <tr>\n",
       "      <th>11</th>\n",
       "      <td>polypeptide_elongation</td>\n",
       "    </tr>\n",
       "    <tr>\n",
       "      <th>12</th>\n",
       "      <td>polypeptide_initiation</td>\n",
       "    </tr>\n",
       "    <tr>\n",
       "      <th>13</th>\n",
       "      <td>rna_maturation</td>\n",
       "    </tr>\n",
       "    <tr>\n",
       "      <th>14</th>\n",
       "      <td>console-emitter</td>\n",
       "    </tr>\n",
       "    <tr>\n",
       "      <th>15</th>\n",
       "      <td>parameterscan</td>\n",
       "    </tr>\n",
       "    <tr>\n",
       "      <th>16</th>\n",
       "      <td>transcript_initiation</td>\n",
       "    </tr>\n",
       "    <tr>\n",
       "      <th>17</th>\n",
       "      <td>runprocess</td>\n",
       "    </tr>\n",
       "    <tr>\n",
       "      <th>18</th>\n",
       "      <td>transcript_elongation</td>\n",
       "    </tr>\n",
       "    <tr>\n",
       "      <th>19</th>\n",
       "      <td>tf_unbinding</td>\n",
       "    </tr>\n",
       "    <tr>\n",
       "      <th>20</th>\n",
       "      <td>protein_degradation</td>\n",
       "    </tr>\n",
       "    <tr>\n",
       "      <th>21</th>\n",
       "      <td>complexation</td>\n",
       "    </tr>\n",
       "    <tr>\n",
       "      <th>22</th>\n",
       "      <td>metabolism_redux</td>\n",
       "    </tr>\n",
       "    <tr>\n",
       "      <th>23</th>\n",
       "      <td>grow</td>\n",
       "    </tr>\n",
       "    <tr>\n",
       "      <th>24</th>\n",
       "      <td>composite</td>\n",
       "    </tr>\n",
       "    <tr>\n",
       "      <th>25</th>\n",
       "      <td>equilibrium</td>\n",
       "    </tr>\n",
       "    <tr>\n",
       "      <th>26</th>\n",
       "      <td>ram-emitter</td>\n",
       "    </tr>\n",
       "    <tr>\n",
       "      <th>27</th>\n",
       "      <td>chromosome_structure</td>\n",
       "    </tr>\n",
       "    <tr>\n",
       "      <th>28</th>\n",
       "      <td>rna_degradation</td>\n",
       "    </tr>\n",
       "    <tr>\n",
       "      <th>29</th>\n",
       "      <td>allocator</td>\n",
       "    </tr>\n",
       "  </tbody>\n",
       "</table>\n",
       "</div>"
      ],
      "text/plain": [
       "                   Process\n",
       "0             json-emitter\n",
       "1          parquet-emitter\n",
       "2     two_component_system\n",
       "3                   toyode\n",
       "4         rna_interference\n",
       "5               tf_binding\n",
       "6                   divide\n",
       "7                chemostat\n",
       "8            bulk_timeline\n",
       "9             global_clock\n",
       "10               toysystem\n",
       "11  polypeptide_elongation\n",
       "12  polypeptide_initiation\n",
       "13          rna_maturation\n",
       "14         console-emitter\n",
       "15           parameterscan\n",
       "16   transcript_initiation\n",
       "17              runprocess\n",
       "18   transcript_elongation\n",
       "19            tf_unbinding\n",
       "20     protein_degradation\n",
       "21            complexation\n",
       "22        metabolism_redux\n",
       "23                    grow\n",
       "24               composite\n",
       "25             equilibrium\n",
       "26             ram-emitter\n",
       "27    chromosome_structure\n",
       "28         rna_degradation\n",
       "29               allocator"
      ]
     },
     "execution_count": 5,
     "metadata": {},
     "output_type": "execute_result"
    }
   ],
   "source": [
    "v.get_processes()"
   ]
  },
  {
   "cell_type": "code",
   "execution_count": 8,
   "id": "97708d8d-7cc4-4c88-b800-47677015bbf0",
   "metadata": {},
   "outputs": [
    {
     "data": {
      "text/plain": [
       "['__class__',\n",
       " '__delattr__',\n",
       " '__dict__',\n",
       " '__dir__',\n",
       " '__doc__',\n",
       " '__eq__',\n",
       " '__format__',\n",
       " '__ge__',\n",
       " '__getattribute__',\n",
       " '__getstate__',\n",
       " '__gt__',\n",
       " '__hash__',\n",
       " '__init__',\n",
       " '__init_subclass__',\n",
       " '__le__',\n",
       " '__lt__',\n",
       " '__module__',\n",
       " '__ne__',\n",
       " '__new__',\n",
       " '__reduce__',\n",
       " '__reduce_ex__',\n",
       " '__repr__',\n",
       " '__setattr__',\n",
       " '__sizeof__',\n",
       " '__str__',\n",
       " '__subclasshook__',\n",
       " '__weakref__',\n",
       " '_read_emitter_config',\n",
       " 'add_emitter',\n",
       " 'add_object',\n",
       " 'add_process',\n",
       " 'composite',\n",
       " 'connect_process',\n",
       " 'core',\n",
       " 'diagram',\n",
       " 'emitter_config',\n",
       " 'find_package',\n",
       " 'generate',\n",
       " 'generate_composite_from_document',\n",
       " 'get_dataclass',\n",
       " 'get_processes',\n",
       " 'get_results',\n",
       " 'get_schema',\n",
       " 'get_state',\n",
       " 'get_timeseries',\n",
       " 'get_type',\n",
       " 'get_types',\n",
       " 'get_value',\n",
       " 'make_document',\n",
       " 'plot_timeseries',\n",
       " 'print_processes',\n",
       " 'print_types',\n",
       " 'process_interface',\n",
       " 'process_schema',\n",
       " 'register_processes',\n",
       " 'register_types',\n",
       " 'reset_emitters',\n",
       " 'reset_paths',\n",
       " 'run',\n",
       " 'save',\n",
       " 'set_value',\n",
       " 'step']"
      ]
     },
     "execution_count": 8,
     "metadata": {},
     "output_type": "execute_result"
    }
   ],
   "source": [
    "dir(v)"
   ]
  },
  {
   "cell_type": "code",
   "execution_count": 9,
   "id": "a4045a97-c1a7-4229-ab9d-a6a33b3cbf51",
   "metadata": {},
   "outputs": [
    {
     "data": {
      "text/plain": [
       "'(rate:float)'"
      ]
     },
     "execution_count": 9,
     "metadata": {},
     "output_type": "execute_result"
    }
   ],
   "source": [
    "v.process_schema('grow')"
   ]
  },
  {
   "cell_type": "code",
   "execution_count": 10,
   "id": "cbe0d3a3-c622-4296-8007-78123267a00f",
   "metadata": {},
   "outputs": [],
   "source": [
    "from process_bigraph.processes import TOY_PROCESSES"
   ]
  },
  {
   "cell_type": "code",
   "execution_count": 11,
   "id": "26eece45-513b-4bdf-bb40-e44d5dd76645",
   "metadata": {},
   "outputs": [],
   "source": [
    "g = TOY_PROCESSES.get(\"grow\")(core=ec)"
   ]
  },
  {
   "cell_type": "code",
   "execution_count": 12,
   "id": "134a9651-fd2a-4ace-b0ea-608d9fc694da",
   "metadata": {},
   "outputs": [
    {
     "data": {
      "text/plain": [
       "({'mass': 'float'}, {'mass': 'float'})"
      ]
     },
     "execution_count": 12,
     "metadata": {},
     "output_type": "execute_result"
    }
   ],
   "source": [
    "g.inputs(), g.outputs()"
   ]
  },
  {
   "cell_type": "code",
   "execution_count": 13,
   "id": "dacfeafa-f6f6-4032-b52b-ffd55ca9ee8f",
   "metadata": {},
   "outputs": [],
   "source": [
    "schema = {'mass': ['mass']}\n",
    "v.add_process('grow', 'grow', config={'rate': 0.22}, inputs=schema, outputs=schema)"
   ]
  },
  {
   "cell_type": "code",
   "execution_count": 14,
   "id": "333ceda3-dce2-4e31-8790-0a2e40147094",
   "metadata": {},
   "outputs": [
    {
     "data": {
      "text/plain": [
       "Vivarium( \n",
       "{ 'global_time': 0.0,\n",
       "  'grow': { 'address': 'local:grow',\n",
       "            'config': {'rate': 0.22},\n",
       "            'inputs': {'mass': ['mass']},\n",
       "            'instance': <process_bigraph.processes.growth_division.Grow object at 0x176f537a0>,\n",
       "            'interval': 1.0,\n",
       "            'outputs': {'mass': ['mass']},\n",
       "            'shared': None},\n",
       "  'mass': 0.0})"
      ]
     },
     "execution_count": 14,
     "metadata": {},
     "output_type": "execute_result"
    }
   ],
   "source": [
    "v"
   ]
  },
  {
   "cell_type": "code",
   "execution_count": 15,
   "id": "e45b33f5-1cc3-4c05-a11d-29e371da681e",
   "metadata": {},
   "outputs": [],
   "source": [
    "v.add_emitter()"
   ]
  },
  {
   "cell_type": "code",
   "execution_count": 16,
   "id": "71f2c12f-7683-4936-a372-f0f069649f14",
   "metadata": {},
   "outputs": [
    {
     "data": {
      "text/plain": [
       "Vivarium( \n",
       "{ 'emitter': { 'address': 'local:parquet-emitter',\n",
       "               'config': { 'batch_size': 400,\n",
       "                           'emit': {'global_time': 'any', 'mass': 'any'},\n",
       "                           'experiment_id': None,\n",
       "                           'out_dir': '/Users/alexanderpatrie/Desktop/repos/v2Ecoli/storage/data',\n",
       "                           'out_uri': None},\n",
       "               'inputs': {'global_time': ['global_time'], 'mass': ['mass']},\n",
       "               'instance': <ecoli.emitters.parquet.ParquetEmitter object at 0x13263d280>,\n",
       "               'outputs': None},\n",
       "  'global_time': 0.0,\n",
       "  'grow': { 'address': 'local:grow',\n",
       "            'config': {'rate': 0.22},\n",
       "            'inputs': {'mass': ['mass']},\n",
       "            'instance': <process_bigraph.processes.growth_division.Grow object at 0x176f537a0>,\n",
       "            'interval': 1.0,\n",
       "            'outputs': {'mass': ['mass']},\n",
       "            'shared': None},\n",
       "  'mass': 0.0})"
      ]
     },
     "execution_count": 16,
     "metadata": {},
     "output_type": "execute_result"
    }
   ],
   "source": [
    "v"
   ]
  },
  {
   "cell_type": "code",
   "execution_count": 17,
   "id": "c83795ce-7609-4737-a13e-537490815522",
   "metadata": {},
   "outputs": [],
   "source": [
    "initial_state = {\"mass\": 11.11, \"global_time\": 22.2}\n",
    "for obj, val in initial_state.items():\n",
    "    v.set_value([obj], val)"
   ]
  },
  {
   "cell_type": "code",
   "execution_count": 18,
   "id": "fcb2e83b-56f1-4023-9811-f61cf6dcfcdd",
   "metadata": {},
   "outputs": [
    {
     "data": {
      "text/plain": [
       "Vivarium( \n",
       "{ 'emitter': { 'address': 'local:parquet-emitter',\n",
       "               'config': { 'batch_size': 400,\n",
       "                           'emit': {'global_time': 'any', 'mass': 'any'},\n",
       "                           'experiment_id': None,\n",
       "                           'out_dir': '/Users/alexanderpatrie/Desktop/repos/v2Ecoli/storage/data',\n",
       "                           'out_uri': None},\n",
       "               'inputs': {'global_time': ['global_time'], 'mass': ['mass']},\n",
       "               'instance': <ecoli.emitters.parquet.ParquetEmitter object at 0x13263d280>,\n",
       "               'outputs': None},\n",
       "  'global_time': 22.2,\n",
       "  'grow': { 'address': 'local:grow',\n",
       "            'config': {'rate': 0.22},\n",
       "            'inputs': {'mass': ['mass']},\n",
       "            'instance': <process_bigraph.processes.growth_division.Grow object at 0x176f537a0>,\n",
       "            'interval': 1.0,\n",
       "            'outputs': {'mass': ['mass']},\n",
       "            'shared': None},\n",
       "  'mass': 11.11})"
      ]
     },
     "execution_count": 18,
     "metadata": {},
     "output_type": "execute_result"
    }
   ],
   "source": [
    "v"
   ]
  },
  {
   "cell_type": "code",
   "execution_count": 23,
   "id": "8e0ca5df-01ca-41be-8c5c-b1a9f503ba0c",
   "metadata": {},
   "outputs": [],
   "source": [
    "import numpy as np\n",
    "\n",
    "duration = 1\n",
    "timestep = 0.02\n",
    "times = np.arange(0, duration, timestep).tolist()"
   ]
  },
  {
   "cell_type": "code",
   "execution_count": 25,
   "id": "00fb3ab4-1dd6-40f9-9606-68164821a047",
   "metadata": {},
   "outputs": [],
   "source": [
    "for t in times:\n",
    "    v.run(t)"
   ]
  },
  {
   "cell_type": "code",
   "execution_count": 26,
   "id": "e6435c3b-4fa0-48c5-a934-b280558462bf",
   "metadata": {},
   "outputs": [
    {
     "data": {
      "text/plain": [
       "Vivarium( \n",
       "{ 'emitter': { 'address': 'local:parquet-emitter',\n",
       "               'config': { 'batch_size': 400,\n",
       "                           'emit': {'global_time': 'any', 'mass': 'any'},\n",
       "                           'experiment_id': None,\n",
       "                           'out_dir': '/Users/alexanderpatrie/Desktop/repos/v2Ecoli/storage/data',\n",
       "                           'out_uri': None},\n",
       "               'inputs': {'global_time': ['global_time'], 'mass': ['mass']},\n",
       "               'instance': <ecoli.emitters.parquet.ParquetEmitter object at 0x13263d280>,\n",
       "               'outputs': None},\n",
       "  'global_time': 46.699999999999996,\n",
       "  'grow': { 'address': 'local:grow',\n",
       "            'config': {'rate': 0.22},\n",
       "            'inputs': {'mass': ['mass']},\n",
       "            'instance': <process_bigraph.processes.growth_division.Grow object at 0x176f537a0>,\n",
       "            'interval': 1.0,\n",
       "            'outputs': {'mass': ['mass']},\n",
       "            'shared': None},\n",
       "  'mass': 1313.2578187216811})"
      ]
     },
     "execution_count": 26,
     "metadata": {},
     "output_type": "execute_result"
    }
   ],
   "source": [
    "v"
   ]
  },
  {
   "cell_type": "code",
   "execution_count": 39,
   "id": "c5a141c3-5478-4c63-8379-3fef6bb82ad7",
   "metadata": {},
   "outputs": [],
   "source": [
    "from pyarrow import fs\n",
    "from ecoli.emitters.parquet import format_out_dir\n",
    "from tempfile import mkdtemp\n",
    "import tempfile\n",
    "\n",
    "temp = tempfile.NamedTemporaryFile(delete=False)\n",
    "out_uri = format_out_dir(temp.name, 'test')\n",
    "filesys, outdir = fs.FileSystem.from_uri(out_uri)"
   ]
  },
  {
   "cell_type": "code",
   "execution_count": 53,
   "id": "c96e8284-bb10-4aa0-b296-10cef69cee78",
   "metadata": {},
   "outputs": [
    {
     "data": {
      "text/plain": [
       "['__class__',\n",
       " '__delattr__',\n",
       " '__dir__',\n",
       " '__doc__',\n",
       " '__eq__',\n",
       " '__format__',\n",
       " '__ge__',\n",
       " '__getattribute__',\n",
       " '__getstate__',\n",
       " '__gt__',\n",
       " '__hash__',\n",
       " '__init__',\n",
       " '__init_subclass__',\n",
       " '__le__',\n",
       " '__lt__',\n",
       " '__ne__',\n",
       " '__new__',\n",
       " '__pyx_vtable__',\n",
       " '__reduce__',\n",
       " '__reduce_ex__',\n",
       " '__repr__',\n",
       " '__setattr__',\n",
       " '__setstate__',\n",
       " '__sizeof__',\n",
       " '__str__',\n",
       " '__subclasshook__',\n",
       " '_from_uri',\n",
       " '_wrap_input_stream',\n",
       " '_wrap_output_stream',\n",
       " 'copy_file',\n",
       " 'create_dir',\n",
       " 'delete_dir',\n",
       " 'delete_dir_contents',\n",
       " 'delete_file',\n",
       " 'equals',\n",
       " 'from_uri',\n",
       " 'get_file_info',\n",
       " 'move',\n",
       " 'normalize_path',\n",
       " 'open_append_stream',\n",
       " 'open_input_file',\n",
       " 'open_input_stream',\n",
       " 'open_output_stream',\n",
       " 'type_name']"
      ]
     },
     "execution_count": 53,
     "metadata": {},
     "output_type": "execute_result"
    }
   ],
   "source": [
    "d = {'x': 11.11, 'y': 2.22}\n",
    "import orjson\n",
    "\n",
    "def write_parquet(data, outdir):\n",
    "    with open(outdir, 'wb') as f:\n",
    "        orjson.dump(data, f, option=orjson.OPT_SERIALIZE_NUMPY)\n",
    "\n",
    "dir(filesys)\n"
   ]
  },
  {
   "cell_type": "code",
   "execution_count": 45,
   "id": "a516502d-de93-4aa0-ae1b-6a3913735526",
   "metadata": {},
   "outputs": [],
   "source": [
    "with open(temp.name, 'rb') as f:\n",
    "    d = f.read()"
   ]
  },
  {
   "cell_type": "code",
   "execution_count": 46,
   "id": "f5fea700-e857-4ee5-b920-a73981b760c4",
   "metadata": {},
   "outputs": [
    {
     "data": {
      "text/plain": [
       "b'{\"x\":11.11,\"y\":2.22}'"
      ]
     },
     "execution_count": 46,
     "metadata": {},
     "output_type": "execute_result"
    }
   ],
   "source": [
    "d"
   ]
  },
  {
   "cell_type": "code",
   "execution_count": 48,
   "id": "74d997ce-d1ff-411c-9ce9-a66235b2ba97",
   "metadata": {},
   "outputs": [
    {
     "data": {
      "text/plain": [
       "tempfile._TemporaryFileWrapper"
      ]
     },
     "execution_count": 48,
     "metadata": {},
     "output_type": "execute_result"
    }
   ],
   "source": [
    "type(temp)"
   ]
  },
  {
   "cell_type": "code",
   "execution_count": 50,
   "id": "9e8d1d4e-cdd9-4bc5-a92f-effcf4e9e9fc",
   "metadata": {},
   "outputs": [
    {
     "data": {
      "text/plain": [
       "'/var/folders/yy/8crj8x7x5_3b86f0js6_0bn00000gr/T/tmpeax36z6r/test.dat'"
      ]
     },
     "execution_count": 50,
     "metadata": {},
     "output_type": "execute_result"
    }
   ],
   "source": [
    "outdir"
   ]
  },
  {
   "cell_type": "code",
   "execution_count": 1,
   "id": "80e528a6-06da-45bc-805d-b51af1efd795",
   "metadata": {},
   "outputs": [
    {
     "name": "stderr",
     "output_type": "stream",
     "text": [
      "<unknown>:1: SyntaxWarning: invalid escape sequence '\\s'\n"
     ]
    },
    {
     "ename": "ImportError",
     "evalue": "cannot import name 'REVERSE_TAG' from partially initialized module 'reconstruction.ecoli.dataclasses.process.metabolism' (most likely due to a circular import) (/Users/alexanderpatrie/Desktop/repos/v2Ecoli/reconstruction/ecoli/dataclasses/process/metabolism.py)",
     "output_type": "error",
     "traceback": [
      "\u001b[31m---------------------------------------------------------------------------\u001b[39m",
      "\u001b[31mImportError\u001b[39m                               Traceback (most recent call last)",
      "\u001b[36mCell\u001b[39m\u001b[36m \u001b[39m\u001b[32mIn[1]\u001b[39m\u001b[32m, line 5\u001b[39m\n\u001b[32m      3\u001b[39m simdata_path = \u001b[33m\"\u001b[39m\u001b[33m/Users/alexanderpatrie/Desktop/repos/v2Ecoli/reconstruction/sim_data/kb/simData.cPickle\u001b[39m\u001b[33m\"\u001b[39m\n\u001b[32m      4\u001b[39m \u001b[38;5;28;01mwith\u001b[39;00m \u001b[38;5;28mopen\u001b[39m(simdata_path, \u001b[33m'\u001b[39m\u001b[33mrb\u001b[39m\u001b[33m'\u001b[39m) \u001b[38;5;28;01mas\u001b[39;00m f:\n\u001b[32m----> \u001b[39m\u001b[32m5\u001b[39m     content = \u001b[43mpickle\u001b[49m\u001b[43m.\u001b[49m\u001b[43mload\u001b[49m\u001b[43m(\u001b[49m\u001b[43mf\u001b[49m\u001b[43m)\u001b[49m\n",
      "\u001b[36mFile \u001b[39m\u001b[32m~/Desktop/repos/v2Ecoli/reconstruction/ecoli/simulation_data.py:25\u001b[39m\n\u001b[32m     23\u001b[39m \u001b[38;5;28;01mfrom\u001b[39;00m\u001b[38;5;250m \u001b[39m\u001b[34;01mreconstruction\u001b[39;00m\u001b[34;01m.\u001b[39;00m\u001b[34;01mecoli\u001b[39;00m\u001b[34;01m.\u001b[39;00m\u001b[34;01mdataclasses\u001b[39;00m\u001b[34;01m.\u001b[39;00m\u001b[34;01mstate\u001b[39;00m\u001b[34;01m.\u001b[39;00m\u001b[34;01minternal_state\u001b[39;00m\u001b[38;5;250m \u001b[39m\u001b[38;5;28;01mimport\u001b[39;00m InternalState\n\u001b[32m     24\u001b[39m \u001b[38;5;28;01mfrom\u001b[39;00m\u001b[38;5;250m \u001b[39m\u001b[34;01mreconstruction\u001b[39;00m\u001b[34;01m.\u001b[39;00m\u001b[34;01mecoli\u001b[39;00m\u001b[34;01m.\u001b[39;00m\u001b[34;01mdataclasses\u001b[39;00m\u001b[34;01m.\u001b[39;00m\u001b[34;01mstate\u001b[39;00m\u001b[34;01m.\u001b[39;00m\u001b[34;01mexternal_state\u001b[39;00m\u001b[38;5;250m \u001b[39m\u001b[38;5;28;01mimport\u001b[39;00m ExternalState\n\u001b[32m---> \u001b[39m\u001b[32m25\u001b[39m \u001b[38;5;28;01mfrom\u001b[39;00m\u001b[38;5;250m \u001b[39m\u001b[34;01mreconstruction\u001b[39;00m\u001b[34;01m.\u001b[39;00m\u001b[34;01mecoli\u001b[39;00m\u001b[34;01m.\u001b[39;00m\u001b[34;01mdataclasses\u001b[39;00m\u001b[34;01m.\u001b[39;00m\u001b[34;01mprocess\u001b[39;00m\u001b[34;01m.\u001b[39;00m\u001b[34;01mprocess\u001b[39;00m\u001b[38;5;250m \u001b[39m\u001b[38;5;28;01mimport\u001b[39;00m Process\n\u001b[32m     26\u001b[39m \u001b[38;5;28;01mfrom\u001b[39;00m\u001b[38;5;250m \u001b[39m\u001b[34;01mreconstruction\u001b[39;00m\u001b[34;01m.\u001b[39;00m\u001b[34;01mecoli\u001b[39;00m\u001b[34;01m.\u001b[39;00m\u001b[34;01mdataclasses\u001b[39;00m\u001b[34;01m.\u001b[39;00m\u001b[34;01mgrowth_rate_dependent_parameters\u001b[39;00m\u001b[38;5;250m \u001b[39m\u001b[38;5;28;01mimport\u001b[39;00m (\n\u001b[32m     27\u001b[39m     Mass,\n\u001b[32m     28\u001b[39m     GrowthRateParameters,\n\u001b[32m     29\u001b[39m )\n\u001b[32m     30\u001b[39m \u001b[38;5;28;01mfrom\u001b[39;00m\u001b[38;5;250m \u001b[39m\u001b[34;01mreconstruction\u001b[39;00m\u001b[34;01m.\u001b[39;00m\u001b[34;01mecoli\u001b[39;00m\u001b[34;01m.\u001b[39;00m\u001b[34;01mdataclasses\u001b[39;00m\u001b[34;01m.\u001b[39;00m\u001b[34;01mrelation\u001b[39;00m\u001b[38;5;250m \u001b[39m\u001b[38;5;28;01mimport\u001b[39;00m Relation\n",
      "\u001b[36mFile \u001b[39m\u001b[32m~/Desktop/repos/v2Ecoli/reconstruction/ecoli/dataclasses/process/process.py:8\u001b[39m\n\u001b[32m      6\u001b[39m \u001b[38;5;28;01mfrom\u001b[39;00m\u001b[38;5;250m \u001b[39m\u001b[34;01m.\u001b[39;00m\u001b[34;01mcomplexation\u001b[39;00m\u001b[38;5;250m \u001b[39m\u001b[38;5;28;01mimport\u001b[39;00m Complexation\n\u001b[32m      7\u001b[39m \u001b[38;5;28;01mfrom\u001b[39;00m\u001b[38;5;250m \u001b[39m\u001b[34;01m.\u001b[39;00m\u001b[34;01mequilibrium\u001b[39;00m\u001b[38;5;250m \u001b[39m\u001b[38;5;28;01mimport\u001b[39;00m Equilibrium\n\u001b[32m----> \u001b[39m\u001b[32m8\u001b[39m \u001b[38;5;28;01mfrom\u001b[39;00m\u001b[38;5;250m \u001b[39m\u001b[34;01m.\u001b[39;00m\u001b[34;01mmetabolism\u001b[39;00m\u001b[38;5;250m \u001b[39m\u001b[38;5;28;01mimport\u001b[39;00m Metabolism\n\u001b[32m      9\u001b[39m \u001b[38;5;28;01mfrom\u001b[39;00m\u001b[38;5;250m \u001b[39m\u001b[34;01m.\u001b[39;00m\u001b[34;01mreplication\u001b[39;00m\u001b[38;5;250m \u001b[39m\u001b[38;5;28;01mimport\u001b[39;00m Replication\n\u001b[32m     10\u001b[39m \u001b[38;5;28;01mfrom\u001b[39;00m\u001b[38;5;250m \u001b[39m\u001b[34;01m.\u001b[39;00m\u001b[34;01mrna_decay\u001b[39;00m\u001b[38;5;250m \u001b[39m\u001b[38;5;28;01mimport\u001b[39;00m RnaDecay\n",
      "\u001b[36mFile \u001b[39m\u001b[32m~/Desktop/repos/v2Ecoli/reconstruction/ecoli/dataclasses/process/metabolism.py:35\u001b[39m\n\u001b[32m     32\u001b[39m \u001b[38;5;28;01mimport\u001b[39;00m\u001b[38;5;250m \u001b[39m\u001b[34;01msympy\u001b[39;00m\u001b[38;5;250m \u001b[39m\u001b[38;5;28;01mas\u001b[39;00m\u001b[38;5;250m \u001b[39m\u001b[34;01msp\u001b[39;00m\n\u001b[32m     33\u001b[39m \u001b[38;5;28;01mfrom\u001b[39;00m\u001b[38;5;250m \u001b[39m\u001b[34;01msympy\u001b[39;00m\u001b[34;01m.\u001b[39;00m\u001b[34;01mparsing\u001b[39;00m\u001b[34;01m.\u001b[39;00m\u001b[34;01msympy_parser\u001b[39;00m\u001b[38;5;250m \u001b[39m\u001b[38;5;28;01mimport\u001b[39;00m parse_expr\n\u001b[32m---> \u001b[39m\u001b[32m35\u001b[39m \u001b[38;5;28;01mfrom\u001b[39;00m\u001b[38;5;250m \u001b[39m\u001b[34;01mecoli\u001b[39;00m\u001b[34;01m.\u001b[39;00m\u001b[34;01mlibrary\u001b[39;00m\u001b[34;01m.\u001b[39;00m\u001b[34;01mschema\u001b[39;00m\u001b[38;5;250m \u001b[39m\u001b[38;5;28;01mimport\u001b[39;00m bulk_name_to_idx, counts\n\u001b[32m     36\u001b[39m \u001b[38;5;28;01mfrom\u001b[39;00m\u001b[38;5;250m \u001b[39m\u001b[34;01mreconstruction\u001b[39;00m\u001b[34;01m.\u001b[39;00m\u001b[34;01mecoli\u001b[39;00m\u001b[34;01m.\u001b[39;00m\u001b[34;01mdataclasses\u001b[39;00m\u001b[34;01m.\u001b[39;00m\u001b[34;01mgetter_functions\u001b[39;00m\u001b[38;5;250m \u001b[39m\u001b[38;5;28;01mimport\u001b[39;00m (\n\u001b[32m     37\u001b[39m     UNDEFINED_COMPARTMENT_IDS_TO_ABBREVS,\n\u001b[32m     38\u001b[39m )\n\u001b[32m     39\u001b[39m \u001b[38;5;28;01mfrom\u001b[39;00m\u001b[38;5;250m \u001b[39m\u001b[34;01mreconstruction\u001b[39;00m\u001b[34;01m.\u001b[39;00m\u001b[34;01mecoli\u001b[39;00m\u001b[34;01m.\u001b[39;00m\u001b[34;01mknowledge_base_raw\u001b[39;00m\u001b[38;5;250m \u001b[39m\u001b[38;5;28;01mimport\u001b[39;00m KnowledgeBaseEcoli\n",
      "\u001b[36mFile \u001b[39m\u001b[32m~/Desktop/repos/v2Ecoli/ecoli/__init__.py:79\u001b[39m\n\u001b[32m     77\u001b[39m \u001b[38;5;66;03m# import and register processes\u001b[39;00m\n\u001b[32m     78\u001b[39m \u001b[38;5;28;01mfor\u001b[39;00m pkg \u001b[38;5;129;01min\u001b[39;00m PROCESS_PACKAGES:\n\u001b[32m---> \u001b[39m\u001b[32m79\u001b[39m     \u001b[43mecoli_core\u001b[49m\u001b[43m.\u001b[49m\u001b[43mregister_process_package\u001b[49m\u001b[43m(\u001b[49m\u001b[43mpkg\u001b[49m\u001b[43m)\u001b[49m\n\u001b[32m     81\u001b[39m \u001b[38;5;66;03m# register toy processes\u001b[39;00m\n\u001b[32m     82\u001b[39m \u001b[38;5;28;01mfor\u001b[39;00m name, process \u001b[38;5;129;01min\u001b[39;00m TOY_PROCESSES.items():\n",
      "\u001b[36mFile \u001b[39m\u001b[32m~/Desktop/repos/v2Ecoli/ecoli/shared/registration.py:101\u001b[39m, in \u001b[36mCore.register_process_package\u001b[39m\u001b[34m(self, package_name, verbose)\u001b[39m\n\u001b[32m     99\u001b[39m \u001b[38;5;28;01mdef\u001b[39;00m\u001b[38;5;250m \u001b[39m\u001b[34mregister_process_package\u001b[39m(\u001b[38;5;28mself\u001b[39m, package_name: \u001b[38;5;28mstr\u001b[39m, verbose=\u001b[38;5;28;01mFalse\u001b[39;00m):\n\u001b[32m    100\u001b[39m \u001b[38;5;250m    \u001b[39m\u001b[33;03m\"\"\"Assumes there to be an __all__ definition in the referenced package\"\"\"\u001b[39;00m\n\u001b[32m--> \u001b[39m\u001b[32m101\u001b[39m     package = \u001b[43mimport_module\u001b[49m\u001b[43m(\u001b[49m\u001b[33;43mf\u001b[39;49m\u001b[33;43m\"\u001b[39;49m\u001b[33;43mecoli.\u001b[39;49m\u001b[38;5;132;43;01m{\u001b[39;49;00m\u001b[43mpackage_name\u001b[49m\u001b[38;5;132;43;01m}\u001b[39;49;00m\u001b[33;43m\"\u001b[39;49m\u001b[43m)\u001b[49m\n\u001b[32m    102\u001b[39m     \u001b[38;5;28;01mfor\u001b[39;00m process \u001b[38;5;129;01min\u001b[39;00m package.__all__:\n\u001b[32m    103\u001b[39m         \u001b[38;5;28;01mtry\u001b[39;00m:\n",
      "\u001b[36mFile \u001b[39m\u001b[32m~/.local/share/uv/python/cpython-3.12.8-macos-aarch64-none/lib/python3.12/importlib/__init__.py:90\u001b[39m, in \u001b[36mimport_module\u001b[39m\u001b[34m(name, package)\u001b[39m\n\u001b[32m     88\u001b[39m             \u001b[38;5;28;01mbreak\u001b[39;00m\n\u001b[32m     89\u001b[39m         level += \u001b[32m1\u001b[39m\n\u001b[32m---> \u001b[39m\u001b[32m90\u001b[39m \u001b[38;5;28;01mreturn\u001b[39;00m \u001b[43m_bootstrap\u001b[49m\u001b[43m.\u001b[49m\u001b[43m_gcd_import\u001b[49m\u001b[43m(\u001b[49m\u001b[43mname\u001b[49m\u001b[43m[\u001b[49m\u001b[43mlevel\u001b[49m\u001b[43m:\u001b[49m\u001b[43m]\u001b[49m\u001b[43m,\u001b[49m\u001b[43m \u001b[49m\u001b[43mpackage\u001b[49m\u001b[43m,\u001b[49m\u001b[43m \u001b[49m\u001b[43mlevel\u001b[49m\u001b[43m)\u001b[49m\n",
      "\u001b[36mFile \u001b[39m\u001b[32m~/Desktop/repos/v2Ecoli/ecoli/migrated/__init__.py:44\u001b[39m\n\u001b[32m      1\u001b[39m \u001b[38;5;66;03m# TODO: register all the processes here\u001b[39;00m\n\u001b[32m      2\u001b[39m \n\u001b[32m      3\u001b[39m \u001b[38;5;66;03m# from ecoli.migrated.antibiotics.lysis_initiation import LysisInitiation\u001b[39;00m\n\u001b[32m   (...)\u001b[39m\u001b[32m     40\u001b[39m \u001b[38;5;66;03m# from ecoli.migrated.listeners.ribosome_data import RibosomeData\u001b[39;00m\n\u001b[32m     41\u001b[39m \u001b[38;5;66;03m# from ecoli.migrated.metabolism import Metabolism  # <--TODO: do we need this?\u001b[39;00m\n\u001b[32m     43\u001b[39m \u001b[38;5;28;01mfrom\u001b[39;00m\u001b[38;5;250m \u001b[39m\u001b[34;01mecoli\u001b[39;00m\u001b[34;01m.\u001b[39;00m\u001b[34;01mmigrated\u001b[39;00m\u001b[34;01m.\u001b[39;00m\u001b[34;01mtf_unbinding\u001b[39;00m\u001b[38;5;250m \u001b[39m\u001b[38;5;28;01mimport\u001b[39;00m TfUnbinding\n\u001b[32m---> \u001b[39m\u001b[32m44\u001b[39m \u001b[38;5;28;01mfrom\u001b[39;00m\u001b[38;5;250m \u001b[39m\u001b[34;01mecoli\u001b[39;00m\u001b[34;01m.\u001b[39;00m\u001b[34;01mmigrated\u001b[39;00m\u001b[34;01m.\u001b[39;00m\u001b[34;01mtf_binding\u001b[39;00m\u001b[38;5;250m \u001b[39m\u001b[38;5;28;01mimport\u001b[39;00m TfBinding\n\u001b[32m     45\u001b[39m \u001b[38;5;28;01mfrom\u001b[39;00m\u001b[38;5;250m \u001b[39m\u001b[34;01mecoli\u001b[39;00m\u001b[34;01m.\u001b[39;00m\u001b[34;01mmigrated\u001b[39;00m\u001b[34;01m.\u001b[39;00m\u001b[34;01mtranscript_initiation\u001b[39;00m\u001b[38;5;250m \u001b[39m\u001b[38;5;28;01mimport\u001b[39;00m TranscriptInitiation\n\u001b[32m     46\u001b[39m \u001b[38;5;28;01mfrom\u001b[39;00m\u001b[38;5;250m \u001b[39m\u001b[34;01mecoli\u001b[39;00m\u001b[34;01m.\u001b[39;00m\u001b[34;01mmigrated\u001b[39;00m\u001b[34;01m.\u001b[39;00m\u001b[34;01mtranscript_elongation\u001b[39;00m\u001b[38;5;250m \u001b[39m\u001b[38;5;28;01mimport\u001b[39;00m TranscriptElongation\n",
      "\u001b[36mFile \u001b[39m\u001b[32m~/Desktop/repos/v2Ecoli/ecoli/migrated/tf_binding.py:25\u001b[39m\n\u001b[32m     22\u001b[39m \u001b[38;5;28;01mfrom\u001b[39;00m\u001b[38;5;250m \u001b[39m\u001b[34;01mwholecell\u001b[39;00m\u001b[34;01m.\u001b[39;00m\u001b[34;01mutils\u001b[39;00m\u001b[34;01m.\u001b[39;00m\u001b[34;01mrandom\u001b[39;00m\u001b[38;5;250m \u001b[39m\u001b[38;5;28;01mimport\u001b[39;00m stochasticRound\n\u001b[32m     23\u001b[39m \u001b[38;5;28;01mfrom\u001b[39;00m\u001b[38;5;250m \u001b[39m\u001b[34;01mwholecell\u001b[39;00m\u001b[34;01m.\u001b[39;00m\u001b[34;01mutils\u001b[39;00m\u001b[38;5;250m \u001b[39m\u001b[38;5;28;01mimport\u001b[39;00m units\n\u001b[32m---> \u001b[39m\u001b[32m25\u001b[39m \u001b[38;5;28;01mfrom\u001b[39;00m\u001b[38;5;250m \u001b[39m\u001b[34;01mecoli\u001b[39;00m\u001b[34;01m.\u001b[39;00m\u001b[34;01mprocesses\u001b[39;00m\u001b[34;01m.\u001b[39;00m\u001b[34;01mregistries\u001b[39;00m\u001b[38;5;250m \u001b[39m\u001b[38;5;28;01mimport\u001b[39;00m topology_registry\n\u001b[32m     28\u001b[39m \u001b[38;5;66;03m# Register default topology for this process, associating it with process name\u001b[39;00m\n\u001b[32m     29\u001b[39m \u001b[38;5;66;03m# NAME = \"ecoli-tf-binding\"\u001b[39;00m\n\u001b[32m     30\u001b[39m \u001b[38;5;66;03m# TOPOLOGY = {\u001b[39;00m\n\u001b[32m   (...)\u001b[39m\u001b[32m     38\u001b[39m \u001b[38;5;66;03m# }\u001b[39;00m\n\u001b[32m     39\u001b[39m \u001b[38;5;66;03m# topology_registry.register(NAME, TOPOLOGY)\u001b[39;00m\n\u001b[32m     42\u001b[39m \u001b[38;5;28;01mclass\u001b[39;00m\u001b[38;5;250m \u001b[39m\u001b[34;01mTfBinding\u001b[39;00m(Step):\n",
      "\u001b[36mFile \u001b[39m\u001b[32m~/Desktop/repos/v2Ecoli/ecoli/processes/__init__.py:17\u001b[39m\n\u001b[32m     15\u001b[39m \u001b[38;5;28;01mfrom\u001b[39;00m\u001b[38;5;250m \u001b[39m\u001b[34;01mecoli\u001b[39;00m\u001b[34;01m.\u001b[39;00m\u001b[34;01mprocesses\u001b[39;00m\u001b[34;01m.\u001b[39;00m\u001b[34;01mequilibrium\u001b[39;00m\u001b[38;5;250m \u001b[39m\u001b[38;5;28;01mimport\u001b[39;00m Equilibrium\n\u001b[32m     16\u001b[39m \u001b[38;5;28;01mfrom\u001b[39;00m\u001b[38;5;250m \u001b[39m\u001b[34;01mecoli\u001b[39;00m\u001b[34;01m.\u001b[39;00m\u001b[34;01mprocesses\u001b[39;00m\u001b[34;01m.\u001b[39;00m\u001b[34;01mprotein_degradation\u001b[39;00m\u001b[38;5;250m \u001b[39m\u001b[38;5;28;01mimport\u001b[39;00m ProteinDegradation\n\u001b[32m---> \u001b[39m\u001b[32m17\u001b[39m \u001b[38;5;28;01mfrom\u001b[39;00m\u001b[38;5;250m \u001b[39m\u001b[34;01mecoli\u001b[39;00m\u001b[34;01m.\u001b[39;00m\u001b[34;01mprocesses\u001b[39;00m\u001b[34;01m.\u001b[39;00m\u001b[34;01mmetabolism\u001b[39;00m\u001b[38;5;250m \u001b[39m\u001b[38;5;28;01mimport\u001b[39;00m Metabolism\n\u001b[32m     18\u001b[39m \u001b[38;5;28;01mfrom\u001b[39;00m\u001b[38;5;250m \u001b[39m\u001b[34;01mecoli\u001b[39;00m\u001b[34;01m.\u001b[39;00m\u001b[34;01mprocesses\u001b[39;00m\u001b[34;01m.\u001b[39;00m\u001b[34;01mmetabolism_redux\u001b[39;00m\u001b[38;5;250m \u001b[39m\u001b[38;5;28;01mimport\u001b[39;00m MetabolismRedux\n\u001b[32m     19\u001b[39m \u001b[38;5;28;01mfrom\u001b[39;00m\u001b[38;5;250m \u001b[39m\u001b[34;01mecoli\u001b[39;00m\u001b[34;01m.\u001b[39;00m\u001b[34;01mprocesses\u001b[39;00m\u001b[34;01m.\u001b[39;00m\u001b[34;01mmetabolism_redux_classic\u001b[39;00m\u001b[38;5;250m \u001b[39m\u001b[38;5;28;01mimport\u001b[39;00m MetabolismReduxClassic\n",
      "\u001b[36mFile \u001b[39m\u001b[32m~/Desktop/repos/v2Ecoli/ecoli/processes/metabolism.py:31\u001b[39m\n\u001b[32m     29\u001b[39m \u001b[38;5;28;01mfrom\u001b[39;00m\u001b[38;5;250m \u001b[39m\u001b[34;01mwholecell\u001b[39;00m\u001b[34;01m.\u001b[39;00m\u001b[34;01mutils\u001b[39;00m\u001b[34;01m.\u001b[39;00m\u001b[34;01mrandom\u001b[39;00m\u001b[38;5;250m \u001b[39m\u001b[38;5;28;01mimport\u001b[39;00m stochasticRound\n\u001b[32m     30\u001b[39m \u001b[38;5;28;01mfrom\u001b[39;00m\u001b[38;5;250m \u001b[39m\u001b[34;01mwholecell\u001b[39;00m\u001b[34;01m.\u001b[39;00m\u001b[34;01mutils\u001b[39;00m\u001b[34;01m.\u001b[39;00m\u001b[34;01mmodular_fba\u001b[39;00m\u001b[38;5;250m \u001b[39m\u001b[38;5;28;01mimport\u001b[39;00m FluxBalanceAnalysis\n\u001b[32m---> \u001b[39m\u001b[32m31\u001b[39m \u001b[38;5;28;01mfrom\u001b[39;00m\u001b[38;5;250m \u001b[39m\u001b[34;01mreconstruction\u001b[39;00m\u001b[34;01m.\u001b[39;00m\u001b[34;01mecoli\u001b[39;00m\u001b[34;01m.\u001b[39;00m\u001b[34;01mdataclasses\u001b[39;00m\u001b[34;01m.\u001b[39;00m\u001b[34;01mprocess\u001b[39;00m\u001b[34;01m.\u001b[39;00m\u001b[34;01mmetabolism\u001b[39;00m\u001b[38;5;250m \u001b[39m\u001b[38;5;28;01mimport\u001b[39;00m REVERSE_TAG\n\u001b[32m     34\u001b[39m \u001b[38;5;66;03m# Register default topology for this process, associating it with process name\u001b[39;00m\n\u001b[32m     35\u001b[39m NAME = \u001b[33m\"\u001b[39m\u001b[33mecoli-metabolism\u001b[39m\u001b[33m\"\u001b[39m\n",
      "\u001b[31mImportError\u001b[39m: cannot import name 'REVERSE_TAG' from partially initialized module 'reconstruction.ecoli.dataclasses.process.metabolism' (most likely due to a circular import) (/Users/alexanderpatrie/Desktop/repos/v2Ecoli/reconstruction/ecoli/dataclasses/process/metabolism.py)"
     ]
    }
   ],
   "source": [
    "import pickle \n",
    "\n",
    "simdata_path = \"/Users/alexanderpatrie/Desktop/repos/v2Ecoli/reconstruction/sim_data/kb/simData.cPickle\"\n",
    "with open(simdata_path, 'rb') as f:\n",
    "    content = pickle.load(f)"
   ]
  },
  {
   "cell_type": "code",
   "execution_count": null,
   "id": "37a6fb33-af5d-4998-9f36-737b59b6341c",
   "metadata": {},
   "outputs": [],
   "source": []
  }
 ],
 "metadata": {
  "kernelspec": {
   "display_name": "Python 3 (ipykernel)",
   "language": "python",
   "name": "python3"
  },
  "language_info": {
   "codemirror_mode": {
    "name": "ipython",
    "version": 3
   },
   "file_extension": ".py",
   "mimetype": "text/x-python",
   "name": "python",
   "nbconvert_exporter": "python",
   "pygments_lexer": "ipython3",
   "version": "3.12.8"
  }
 },
 "nbformat": 4,
 "nbformat_minor": 5
}
