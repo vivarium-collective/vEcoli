{
 "cells": [
  {
   "cell_type": "code",
   "execution_count": 1,
   "id": "cfe6b880-e4c0-47e2-9098-bc2ba5e984c1",
   "metadata": {},
   "outputs": [
    {
     "name": "stderr",
     "output_type": "stream",
     "text": [
      "<unknown>:1: SyntaxWarning: invalid escape sequence '\\s'\n"
     ]
    }
   ],
   "source": [
    "import importlib\n",
    "import warnings\n",
    "from logging import getLogger\n",
    "from types import ModuleType\n",
    "from process_bigraph import ProcessTypes\n",
    "from bigraph_schema.protocols import function_module\n",
    "from unum import Unum\n",
    "from importlib import import_module\n",
    "from typing import *\n",
    "\n",
    "from wholecell.utils import units\n",
    "from ecoli.shared import ecoli_core as ec\n",
    "from ecoli.shared.types.register import test_register_type"
   ]
  },
  {
   "cell_type": "code",
   "execution_count": 2,
   "id": "fb14754f-fd4f-4970-a9ce-39ba2b343fff",
   "metadata": {},
   "outputs": [],
   "source": [
    "test_register_type(ec)"
   ]
  },
  {
   "cell_type": "code",
   "execution_count": 3,
   "id": "08d5273a-2703-4edb-a429-fcfe1d926f94",
   "metadata": {},
   "outputs": [
    {
     "data": {
      "text/plain": [
       "{'_apply': 'apply_unum',\n",
       " '_check': 'check_unum',\n",
       " '_divide': 'divide_unum',\n",
       " '_serialize': 'serialize_unum',\n",
       " '_deserialize': 'deserialize_unum',\n",
       " '_type': 'unum',\n",
       " '_default': 1.0 [s/mol]}"
      ]
     },
     "execution_count": 3,
     "metadata": {},
     "output_type": "execute_result"
    }
   ],
   "source": [
    "ec.types().get('unum')"
   ]
  },
  {
   "cell_type": "code",
   "execution_count": 4,
   "id": "1df7dc6a-aa52-4bee-9512-7a3e152877da",
   "metadata": {},
   "outputs": [],
   "source": [
    "from vivarium import Vivarium\n",
    "\n",
    "v = Vivarium(core=ec, processes=ec.process_registry.registry, types=ec.types())"
   ]
  },
  {
   "cell_type": "code",
   "execution_count": 5,
   "id": "eb6cc4fc-0247-4846-a4fd-4fdc241f27ee",
   "metadata": {},
   "outputs": [
    {
     "data": {
      "text/html": [
       "<div>\n",
       "<style scoped>\n",
       "    .dataframe tbody tr th:only-of-type {\n",
       "        vertical-align: middle;\n",
       "    }\n",
       "\n",
       "    .dataframe tbody tr th {\n",
       "        vertical-align: top;\n",
       "    }\n",
       "\n",
       "    .dataframe thead th {\n",
       "        text-align: right;\n",
       "    }\n",
       "</style>\n",
       "<table border=\"1\" class=\"dataframe\">\n",
       "  <thead>\n",
       "    <tr style=\"text-align: right;\">\n",
       "      <th></th>\n",
       "      <th>Process</th>\n",
       "    </tr>\n",
       "  </thead>\n",
       "  <tbody>\n",
       "    <tr>\n",
       "      <th>0</th>\n",
       "      <td>transcript_elongation</td>\n",
       "    </tr>\n",
       "    <tr>\n",
       "      <th>1</th>\n",
       "      <td>composite</td>\n",
       "    </tr>\n",
       "    <tr>\n",
       "      <th>2</th>\n",
       "      <td>polypeptide_elongation</td>\n",
       "    </tr>\n",
       "    <tr>\n",
       "      <th>3</th>\n",
       "      <td>equilibrium</td>\n",
       "    </tr>\n",
       "    <tr>\n",
       "      <th>4</th>\n",
       "      <td>metabolism_redux</td>\n",
       "    </tr>\n",
       "    <tr>\n",
       "      <th>5</th>\n",
       "      <td>allocator</td>\n",
       "    </tr>\n",
       "    <tr>\n",
       "      <th>6</th>\n",
       "      <td>two_component_system</td>\n",
       "    </tr>\n",
       "    <tr>\n",
       "      <th>7</th>\n",
       "      <td>ram-emitter</td>\n",
       "    </tr>\n",
       "    <tr>\n",
       "      <th>8</th>\n",
       "      <td>chemostat</td>\n",
       "    </tr>\n",
       "    <tr>\n",
       "      <th>9</th>\n",
       "      <td>divide</td>\n",
       "    </tr>\n",
       "    <tr>\n",
       "      <th>10</th>\n",
       "      <td>polypeptide_initiation</td>\n",
       "    </tr>\n",
       "    <tr>\n",
       "      <th>11</th>\n",
       "      <td>runprocess</td>\n",
       "    </tr>\n",
       "    <tr>\n",
       "      <th>12</th>\n",
       "      <td>json-emitter</td>\n",
       "    </tr>\n",
       "    <tr>\n",
       "      <th>13</th>\n",
       "      <td>toyode</td>\n",
       "    </tr>\n",
       "    <tr>\n",
       "      <th>14</th>\n",
       "      <td>parameterscan</td>\n",
       "    </tr>\n",
       "    <tr>\n",
       "      <th>15</th>\n",
       "      <td>grow</td>\n",
       "    </tr>\n",
       "    <tr>\n",
       "      <th>16</th>\n",
       "      <td>complexation</td>\n",
       "    </tr>\n",
       "    <tr>\n",
       "      <th>17</th>\n",
       "      <td>transcript_initiation</td>\n",
       "    </tr>\n",
       "    <tr>\n",
       "      <th>18</th>\n",
       "      <td>protein_degradation</td>\n",
       "    </tr>\n",
       "    <tr>\n",
       "      <th>19</th>\n",
       "      <td>rna_degradation</td>\n",
       "    </tr>\n",
       "    <tr>\n",
       "      <th>20</th>\n",
       "      <td>global_clock</td>\n",
       "    </tr>\n",
       "    <tr>\n",
       "      <th>21</th>\n",
       "      <td>bulk_timeline</td>\n",
       "    </tr>\n",
       "    <tr>\n",
       "      <th>22</th>\n",
       "      <td>tf_binding</td>\n",
       "    </tr>\n",
       "    <tr>\n",
       "      <th>23</th>\n",
       "      <td>toysystem</td>\n",
       "    </tr>\n",
       "    <tr>\n",
       "      <th>24</th>\n",
       "      <td>rna_interference</td>\n",
       "    </tr>\n",
       "    <tr>\n",
       "      <th>25</th>\n",
       "      <td>chromosome_structure</td>\n",
       "    </tr>\n",
       "    <tr>\n",
       "      <th>26</th>\n",
       "      <td>rna_maturation</td>\n",
       "    </tr>\n",
       "    <tr>\n",
       "      <th>27</th>\n",
       "      <td>parquet-emitter</td>\n",
       "    </tr>\n",
       "    <tr>\n",
       "      <th>28</th>\n",
       "      <td>tf_unbinding</td>\n",
       "    </tr>\n",
       "    <tr>\n",
       "      <th>29</th>\n",
       "      <td>console-emitter</td>\n",
       "    </tr>\n",
       "  </tbody>\n",
       "</table>\n",
       "</div>"
      ],
      "text/plain": [
       "                   Process\n",
       "0    transcript_elongation\n",
       "1                composite\n",
       "2   polypeptide_elongation\n",
       "3              equilibrium\n",
       "4         metabolism_redux\n",
       "5                allocator\n",
       "6     two_component_system\n",
       "7              ram-emitter\n",
       "8                chemostat\n",
       "9                   divide\n",
       "10  polypeptide_initiation\n",
       "11              runprocess\n",
       "12            json-emitter\n",
       "13                  toyode\n",
       "14           parameterscan\n",
       "15                    grow\n",
       "16            complexation\n",
       "17   transcript_initiation\n",
       "18     protein_degradation\n",
       "19         rna_degradation\n",
       "20            global_clock\n",
       "21           bulk_timeline\n",
       "22              tf_binding\n",
       "23               toysystem\n",
       "24        rna_interference\n",
       "25    chromosome_structure\n",
       "26          rna_maturation\n",
       "27         parquet-emitter\n",
       "28            tf_unbinding\n",
       "29         console-emitter"
      ]
     },
     "execution_count": 5,
     "metadata": {},
     "output_type": "execute_result"
    }
   ],
   "source": [
    "v.get_processes()"
   ]
  },
  {
   "cell_type": "code",
   "execution_count": 6,
   "id": "1784f220-7702-4728-a97f-058077160233",
   "metadata": {},
   "outputs": [],
   "source": [
    "from ecoli.instances.base import vivarium_base as v"
   ]
  },
  {
   "cell_type": "code",
   "execution_count": 7,
   "id": "509da5fc-c47b-491b-922d-9ff2f2b3e499",
   "metadata": {},
   "outputs": [
    {
     "data": {
      "text/plain": [
       "Vivarium( \n",
       "{'global_time': 0.0})"
      ]
     },
     "execution_count": 7,
     "metadata": {},
     "output_type": "execute_result"
    }
   ],
   "source": [
    "v"
   ]
  },
  {
   "cell_type": "code",
   "execution_count": 8,
   "id": "97708d8d-7cc4-4c88-b800-47677015bbf0",
   "metadata": {},
   "outputs": [
    {
     "data": {
      "text/plain": [
       "['__class__',\n",
       " '__delattr__',\n",
       " '__dict__',\n",
       " '__dir__',\n",
       " '__doc__',\n",
       " '__eq__',\n",
       " '__format__',\n",
       " '__ge__',\n",
       " '__getattribute__',\n",
       " '__getstate__',\n",
       " '__gt__',\n",
       " '__hash__',\n",
       " '__init__',\n",
       " '__init_subclass__',\n",
       " '__le__',\n",
       " '__lt__',\n",
       " '__module__',\n",
       " '__ne__',\n",
       " '__new__',\n",
       " '__reduce__',\n",
       " '__reduce_ex__',\n",
       " '__repr__',\n",
       " '__setattr__',\n",
       " '__sizeof__',\n",
       " '__str__',\n",
       " '__subclasshook__',\n",
       " '__weakref__',\n",
       " '_read_emitter_config',\n",
       " 'add_emitter',\n",
       " 'add_object',\n",
       " 'add_process',\n",
       " 'composite',\n",
       " 'connect_process',\n",
       " 'core',\n",
       " 'diagram',\n",
       " 'emitter_config',\n",
       " 'find_package',\n",
       " 'generate',\n",
       " 'generate_composite_from_document',\n",
       " 'get_dataclass',\n",
       " 'get_processes',\n",
       " 'get_results',\n",
       " 'get_schema',\n",
       " 'get_state',\n",
       " 'get_timeseries',\n",
       " 'get_type',\n",
       " 'get_types',\n",
       " 'get_value',\n",
       " 'make_document',\n",
       " 'plot_timeseries',\n",
       " 'print_processes',\n",
       " 'print_types',\n",
       " 'process_interface',\n",
       " 'process_schema',\n",
       " 'register_processes',\n",
       " 'register_types',\n",
       " 'reset_emitters',\n",
       " 'reset_paths',\n",
       " 'run',\n",
       " 'save',\n",
       " 'set_value',\n",
       " 'step']"
      ]
     },
     "execution_count": 8,
     "metadata": {},
     "output_type": "execute_result"
    }
   ],
   "source": [
    "dir(v)"
   ]
  },
  {
   "cell_type": "code",
   "execution_count": 9,
   "id": "a4045a97-c1a7-4229-ab9d-a6a33b3cbf51",
   "metadata": {},
   "outputs": [
    {
     "data": {
      "text/plain": [
       "'(rate:float)'"
      ]
     },
     "execution_count": 9,
     "metadata": {},
     "output_type": "execute_result"
    }
   ],
   "source": [
    "v.process_schema('grow')"
   ]
  },
  {
   "cell_type": "code",
   "execution_count": 10,
   "id": "cbe0d3a3-c622-4296-8007-78123267a00f",
   "metadata": {},
   "outputs": [],
   "source": [
    "from process_bigraph.processes import TOY_PROCESSES"
   ]
  },
  {
   "cell_type": "code",
   "execution_count": 11,
   "id": "26eece45-513b-4bdf-bb40-e44d5dd76645",
   "metadata": {},
   "outputs": [],
   "source": [
    "g = TOY_PROCESSES.get(\"grow\")(core=ec)"
   ]
  },
  {
   "cell_type": "code",
   "execution_count": 12,
   "id": "134a9651-fd2a-4ace-b0ea-608d9fc694da",
   "metadata": {},
   "outputs": [
    {
     "data": {
      "text/plain": [
       "({'mass': 'float'}, {'mass': 'float'})"
      ]
     },
     "execution_count": 12,
     "metadata": {},
     "output_type": "execute_result"
    }
   ],
   "source": [
    "g.inputs(), g.outputs()"
   ]
  },
  {
   "cell_type": "code",
   "execution_count": 13,
   "id": "dacfeafa-f6f6-4032-b52b-ffd55ca9ee8f",
   "metadata": {},
   "outputs": [],
   "source": [
    "schema = {'mass': ['mass']}\n",
    "v.add_process('grow', 'grow', inputs=schema, outputs=schema)"
   ]
  },
  {
   "cell_type": "code",
   "execution_count": 14,
   "id": "333ceda3-dce2-4e31-8790-0a2e40147094",
   "metadata": {},
   "outputs": [
    {
     "data": {
      "text/plain": [
       "Vivarium( \n",
       "{ 'global_time': 0.0,\n",
       "  'grow': { 'address': 'local:grow',\n",
       "            'config': {'rate': 0.0},\n",
       "            'inputs': {'mass': ['mass']},\n",
       "            'instance': <process_bigraph.processes.growth_division.Grow object at 0x156e9fd70>,\n",
       "            'interval': 1.0,\n",
       "            'outputs': {'mass': ['mass']},\n",
       "            'shared': None},\n",
       "  'mass': 0.0})"
      ]
     },
     "execution_count": 14,
     "metadata": {},
     "output_type": "execute_result"
    }
   ],
   "source": [
    "v"
   ]
  },
  {
   "cell_type": "code",
   "execution_count": 15,
   "id": "e45b33f5-1cc3-4c05-a11d-29e371da681e",
   "metadata": {},
   "outputs": [],
   "source": [
    "v.add_emitter()"
   ]
  },
  {
   "cell_type": "code",
   "execution_count": 16,
   "id": "71f2c12f-7683-4936-a372-f0f069649f14",
   "metadata": {},
   "outputs": [
    {
     "data": {
      "text/plain": [
       "Vivarium( \n",
       "{ 'emitter': { 'address': 'local:parquet-emitter',\n",
       "               'config': { 'batch_size': 400,\n",
       "                           'emit': {'global_time': 'any', 'mass': 'any'},\n",
       "                           'experiment_id': None,\n",
       "                           'out_dir': '/Users/alexanderpatrie/Desktop/repos/v2Ecoli/storage/data',\n",
       "                           'out_uri': None},\n",
       "               'inputs': {'global_time': ['global_time'], 'mass': ['mass']},\n",
       "               'instance': <ecoli.emitters.parquet.ParquetEmitter object at 0x1375a6e70>,\n",
       "               'outputs': None},\n",
       "  'global_time': 0.0,\n",
       "  'grow': { 'address': 'local:grow',\n",
       "            'config': {'rate': 0.0},\n",
       "            'inputs': {'mass': ['mass']},\n",
       "            'instance': <process_bigraph.processes.growth_division.Grow object at 0x156e9fd70>,\n",
       "            'interval': 1.0,\n",
       "            'outputs': {'mass': ['mass']},\n",
       "            'shared': None},\n",
       "  'mass': 0.0})"
      ]
     },
     "execution_count": 16,
     "metadata": {},
     "output_type": "execute_result"
    }
   ],
   "source": [
    "v"
   ]
  },
  {
   "cell_type": "code",
   "execution_count": 17,
   "id": "c83795ce-7609-4737-a13e-537490815522",
   "metadata": {},
   "outputs": [],
   "source": [
    "v.set_value(['mass'], 11.11)"
   ]
  },
  {
   "cell_type": "code",
   "execution_count": 18,
   "id": "fcb2e83b-56f1-4023-9811-f61cf6dcfcdd",
   "metadata": {},
   "outputs": [
    {
     "data": {
      "text/plain": [
       "Vivarium( \n",
       "{ 'emitter': { 'address': 'local:parquet-emitter',\n",
       "               'config': { 'batch_size': 400,\n",
       "                           'emit': {'global_time': 'any', 'mass': 'any'},\n",
       "                           'experiment_id': None,\n",
       "                           'out_dir': '/Users/alexanderpatrie/Desktop/repos/v2Ecoli/storage/data',\n",
       "                           'out_uri': None},\n",
       "               'inputs': {'global_time': ['global_time'], 'mass': ['mass']},\n",
       "               'instance': <ecoli.emitters.parquet.ParquetEmitter object at 0x1375a6e70>,\n",
       "               'outputs': None},\n",
       "  'global_time': 0.0,\n",
       "  'grow': { 'address': 'local:grow',\n",
       "            'config': {'rate': 0.0},\n",
       "            'inputs': {'mass': ['mass']},\n",
       "            'instance': <process_bigraph.processes.growth_division.Grow object at 0x156e9fd70>,\n",
       "            'interval': 1.0,\n",
       "            'outputs': {'mass': ['mass']},\n",
       "            'shared': None},\n",
       "  'mass': 11.11})"
      ]
     },
     "execution_count": 18,
     "metadata": {},
     "output_type": "execute_result"
    }
   ],
   "source": [
    "v"
   ]
  },
  {
   "cell_type": "code",
   "execution_count": 19,
   "id": "8e0ca5df-01ca-41be-8c5c-b1a9f503ba0c",
   "metadata": {},
   "outputs": [
    {
     "ename": "TypeError",
     "evalue": "'NoneType' object is not a mapping",
     "output_type": "error",
     "traceback": [
      "\u001b[31m---------------------------------------------------------------------------\u001b[39m",
      "\u001b[31mTypeError\u001b[39m                                 Traceback (most recent call last)",
      "\u001b[36mCell\u001b[39m\u001b[36m \u001b[39m\u001b[32mIn[19]\u001b[39m\u001b[32m, line 1\u001b[39m\n\u001b[32m----> \u001b[39m\u001b[32m1\u001b[39m \u001b[43mv\u001b[49m\u001b[43m.\u001b[49m\u001b[43mrun\u001b[49m\u001b[43m(\u001b[49m\u001b[32;43m22\u001b[39;49m\u001b[43m)\u001b[49m\n",
      "\u001b[36mFile \u001b[39m\u001b[32m~/Desktop/repos/v2Ecoli/.venv/lib/python3.12/site-packages/vivarium/vivarium.py:335\u001b[39m, in \u001b[36mVivarium.run\u001b[39m\u001b[34m(self, interval)\u001b[39m\n\u001b[32m    331\u001b[39m \u001b[38;5;28;01mdef\u001b[39;00m\u001b[38;5;250m \u001b[39m\u001b[34mrun\u001b[39m(\u001b[38;5;28mself\u001b[39m, interval):\n\u001b[32m    332\u001b[39m \u001b[38;5;250m    \u001b[39m\u001b[33;03m\"\"\"\u001b[39;00m\n\u001b[32m    333\u001b[39m \u001b[33;03m    Run the simulation for a given interval.\u001b[39;00m\n\u001b[32m    334\u001b[39m \u001b[33;03m    \"\"\"\u001b[39;00m\n\u001b[32m--> \u001b[39m\u001b[32m335\u001b[39m     \u001b[38;5;28;43mself\u001b[39;49m\u001b[43m.\u001b[49m\u001b[43mcomposite\u001b[49m\u001b[43m.\u001b[49m\u001b[43mrun\u001b[49m\u001b[43m(\u001b[49m\u001b[43minterval\u001b[49m\u001b[43m)\u001b[49m\n",
      "\u001b[36mFile \u001b[39m\u001b[32m~/Desktop/repos/v2Ecoli/.venv/lib/python3.12/site-packages/process_bigraph/composite.py:771\u001b[39m, in \u001b[36mComposite.run\u001b[39m\u001b[34m(self, interval, force_complete)\u001b[39m\n\u001b[32m    768\u001b[39m \u001b[38;5;28;01mdef\u001b[39;00m\u001b[38;5;250m \u001b[39m\u001b[34mrun\u001b[39m(\u001b[38;5;28mself\u001b[39m, interval, force_complete=\u001b[38;5;28;01mFalse\u001b[39;00m):\n\u001b[32m    769\u001b[39m     \u001b[38;5;66;03m# If there are steps to run, execute them\u001b[39;00m\n\u001b[32m    770\u001b[39m     \u001b[38;5;28;01mif\u001b[39;00m \u001b[38;5;28mself\u001b[39m.to_run:\n\u001b[32m--> \u001b[39m\u001b[32m771\u001b[39m         \u001b[38;5;28;43mself\u001b[39;49m\u001b[43m.\u001b[49m\u001b[43mrun_steps\u001b[49m\u001b[43m(\u001b[49m\u001b[38;5;28;43mself\u001b[39;49m\u001b[43m.\u001b[49m\u001b[43mto_run\u001b[49m\u001b[43m)\u001b[49m\n\u001b[32m    772\u001b[39m         \u001b[38;5;28mself\u001b[39m.to_run = \u001b[38;5;28;01mNone\u001b[39;00m\n\u001b[32m    774\u001b[39m     \u001b[38;5;66;03m# Define the end time for the run\u001b[39;00m\n",
      "\u001b[36mFile \u001b[39m\u001b[32m~/Desktop/repos/v2Ecoli/.venv/lib/python3.12/site-packages/process_bigraph/composite.py:844\u001b[39m, in \u001b[36mComposite.run_steps\u001b[39m\u001b[34m(self, step_paths)\u001b[39m\n\u001b[32m    834\u001b[39m     step = get_path(\n\u001b[32m    835\u001b[39m         \u001b[38;5;28mself\u001b[39m.state,\n\u001b[32m    836\u001b[39m         step_path)\n\u001b[32m    838\u001b[39m     state = \u001b[38;5;28mself\u001b[39m.core.view_edge(\n\u001b[32m    839\u001b[39m         \u001b[38;5;28mself\u001b[39m.composition,\n\u001b[32m    840\u001b[39m         \u001b[38;5;28mself\u001b[39m.state,\n\u001b[32m    841\u001b[39m         step_path,\n\u001b[32m    842\u001b[39m         \u001b[33m'\u001b[39m\u001b[33minputs\u001b[39m\u001b[33m'\u001b[39m)\n\u001b[32m--> \u001b[39m\u001b[32m844\u001b[39m     step_update = \u001b[38;5;28;43mself\u001b[39;49m\u001b[43m.\u001b[49m\u001b[43mprocess_update\u001b[49m\u001b[43m(\u001b[49m\n\u001b[32m    845\u001b[39m \u001b[43m        \u001b[49m\u001b[43mstep_path\u001b[49m\u001b[43m,\u001b[49m\n\u001b[32m    846\u001b[39m \u001b[43m        \u001b[49m\u001b[43mstep\u001b[49m\u001b[43m,\u001b[49m\n\u001b[32m    847\u001b[39m \u001b[43m        \u001b[49m\u001b[43mstate\u001b[49m\u001b[43m,\u001b[49m\n\u001b[32m    848\u001b[39m \u001b[43m        \u001b[49m\u001b[43m-\u001b[49m\u001b[32;43m1.0\u001b[39;49m\u001b[43m,\u001b[49m\n\u001b[32m    849\u001b[39m \u001b[43m        \u001b[49m\u001b[33;43m'\u001b[39;49m\u001b[33;43moutputs\u001b[39;49m\u001b[33;43m'\u001b[39;49m\u001b[43m)\u001b[49m\n\u001b[32m    851\u001b[39m     updates.append(step_update)\n\u001b[32m    853\u001b[39m update_paths = \u001b[38;5;28mself\u001b[39m.apply_updates(updates)\n",
      "\u001b[36mFile \u001b[39m\u001b[32m~/Desktop/repos/v2Ecoli/.venv/lib/python3.12/site-packages/process_bigraph/composite.py:622\u001b[39m, in \u001b[36mComposite.process_update\u001b[39m\u001b[34m(self, path, process, states, interval, ports_key)\u001b[39m\n\u001b[32m    600\u001b[39m \u001b[38;5;250m\u001b[39m\u001b[33;03m\"\"\"Start generating a process's update.\u001b[39;00m\n\u001b[32m    601\u001b[39m \n\u001b[32m    602\u001b[39m \u001b[33;03mThis function is similar to :py:meth:`_invoke_process` except in\u001b[39;00m\n\u001b[32m   (...)\u001b[39m\u001b[32m    617\u001b[39m \u001b[33;03m    ``store``.\u001b[39;00m\n\u001b[32m    618\u001b[39m \u001b[33;03m\"\"\"\u001b[39;00m\n\u001b[32m    620\u001b[39m states = strip_schema_keys(states)\n\u001b[32m--> \u001b[39m\u001b[32m622\u001b[39m update = \u001b[43mprocess\u001b[49m\u001b[43m[\u001b[49m\u001b[33;43m'\u001b[39;49m\u001b[33;43minstance\u001b[39;49m\u001b[33;43m'\u001b[39;49m\u001b[43m]\u001b[49m\u001b[43m.\u001b[49m\u001b[43minvoke\u001b[49m\u001b[43m(\u001b[49m\u001b[43mstates\u001b[49m\u001b[43m,\u001b[49m\u001b[43m \u001b[49m\u001b[43minterval\u001b[49m\u001b[43m)\u001b[49m\n\u001b[32m    624\u001b[39m \u001b[38;5;28;01mdef\u001b[39;00m\u001b[38;5;250m \u001b[39m\u001b[34mdefer_project\u001b[39m(update, args):\n\u001b[32m    625\u001b[39m     schema, state, path = args\n",
      "\u001b[36mFile \u001b[39m\u001b[32m~/Desktop/repos/v2Ecoli/.venv/lib/python3.12/site-packages/process_bigraph/composite.py:271\u001b[39m, in \u001b[36mStep.invoke\u001b[39m\u001b[34m(self, state, _)\u001b[39m\n\u001b[32m    270\u001b[39m \u001b[38;5;28;01mdef\u001b[39;00m\u001b[38;5;250m \u001b[39m\u001b[34minvoke\u001b[39m(\u001b[38;5;28mself\u001b[39m, state, _=\u001b[38;5;28;01mNone\u001b[39;00m):\n\u001b[32m--> \u001b[39m\u001b[32m271\u001b[39m     update = \u001b[38;5;28;43mself\u001b[39;49m\u001b[43m.\u001b[49m\u001b[43mupdate\u001b[49m\u001b[43m(\u001b[49m\u001b[43mstate\u001b[49m\u001b[43m)\u001b[49m\n\u001b[32m    272\u001b[39m     sync = SyncUpdate(update)\n\u001b[32m    273\u001b[39m     \u001b[38;5;28;01mreturn\u001b[39;00m sync\n",
      "\u001b[36mFile \u001b[39m\u001b[32m~/Desktop/repos/v2Ecoli/ecoli/emitters/parquet.py:847\u001b[39m, in \u001b[36mParquetEmitter.update\u001b[39m\u001b[34m(self, state)\u001b[39m\n\u001b[32m    845\u001b[39m \u001b[38;5;66;03m# Config will always be first emit\u001b[39;00m\n\u001b[32m    846\u001b[39m \u001b[38;5;28;01mif\u001b[39;00m state[\u001b[33m\"\u001b[39m\u001b[33mtable\u001b[39m\u001b[33m\"\u001b[39m] == \u001b[33m\"\u001b[39m\u001b[33mconfiguration\u001b[39m\u001b[33m\"\u001b[39m:\n\u001b[32m--> \u001b[39m\u001b[32m847\u001b[39m     data = {**state[\u001b[33m\"\u001b[39m\u001b[33mdata\u001b[39m\u001b[33m\"\u001b[39m].pop(\u001b[33m\"\u001b[39m\u001b[33mmetadata\u001b[39m\u001b[33m\"\u001b[39m, \u001b[38;5;28;01mNone\u001b[39;00m), **state[\u001b[33m\"\u001b[39m\u001b[33mdata\u001b[39m\u001b[33m\"\u001b[39m]}\n\u001b[32m    848\u001b[39m     data[\u001b[33m\"\u001b[39m\u001b[33mtime\u001b[39m\u001b[33m\"\u001b[39m] = data.get(\u001b[33m\"\u001b[39m\u001b[33minitial_global_time\u001b[39m\u001b[33m\"\u001b[39m, \u001b[32m0.0\u001b[39m)\n\u001b[32m    849\u001b[39m     \u001b[38;5;66;03m# Manually create filepaths with hive partitioning\u001b[39;00m\n\u001b[32m    850\u001b[39m     \u001b[38;5;66;03m# Start agent ID with 1 to avoid leading zeros\u001b[39;00m\n",
      "\u001b[31mTypeError\u001b[39m: 'NoneType' object is not a mapping"
     ]
    }
   ],
   "source": [
    "v.run(22)"
   ]
  },
  {
   "cell_type": "code",
   "execution_count": null,
   "id": "00fb3ab4-1dd6-40f9-9606-68164821a047",
   "metadata": {},
   "outputs": [],
   "source": []
  }
 ],
 "metadata": {
  "kernelspec": {
   "display_name": "Python 3 (ipykernel)",
   "language": "python",
   "name": "python3"
  },
  "language_info": {
   "codemirror_mode": {
    "name": "ipython",
    "version": 3
   },
   "file_extension": ".py",
   "mimetype": "text/x-python",
   "name": "python",
   "nbconvert_exporter": "python",
   "pygments_lexer": "ipython3",
   "version": "3.12.8"
  }
 },
 "nbformat": 4,
 "nbformat_minor": 5
}
