{
 "cells": [
  {
   "cell_type": "code",
   "execution_count": 1,
   "id": "36d5aba4-0db6-4111-a30b-11741d6b218b",
   "metadata": {},
   "outputs": [
    {
     "name": "stderr",
     "output_type": "stream",
     "text": [
      "<unknown>:1: SyntaxWarning: invalid escape sequence '\\s'\n"
     ]
    }
   ],
   "source": [
    "import importlib\n",
    "import warnings\n",
    "from logging import getLogger\n",
    "from types import ModuleType\n",
    "from process_bigraph import ProcessTypes\n",
    "from bigraph_schema.protocols import function_module\n",
    "from unum import Unum\n",
    "from importlib import import_module\n",
    "from typing import *\n",
    "\n",
    "from wholecell.utils import units\n",
    "from ecoli.experiments.ecoli_master_sim import EcoliSim\n",
    "from ecoli.shared import ecoli_core as ec\n",
    "from ecoli.shared.types.register import test_register_type\n",
    "from ecoli.shared.vivarium_instances.factory import VivariumFactory\n",
    "\n",
    "vivarium = VivariumFactory()\n",
    "\n",
    "from ecoli.shared.registry import ModelProcesses\n",
    "import json "
   ]
  },
  {
   "cell_type": "code",
   "execution_count": null,
   "id": "da1fa127-32b7-48d3-b55b-e386a2608305",
   "metadata": {},
   "outputs": [],
   "source": [
    "configpath = '/Users/alexanderpatrie/Desktop/repos/ecoli/v2Ecoli/ecoli/composites/ecoli_configs/test_installation.json'\n",
    "sim = EcoliSim.from_file(configpath)"
   ]
  },
  {
   "cell_type": "code",
   "execution_count": null,
   "id": "a60e9a86-7cad-4c3e-9b1a-e8e546096e4f",
   "metadata": {},
   "outputs": [],
   "source": [
    "import numpy as np \n",
    "\n",
    "\n",
    "doc = {\n",
    "    'complexation': {\n",
    "        '_type': 'process',\n",
    "        'address': 'local:complexation',\n",
    "        'config': {\n",
    "            \"stoichiometry\": [[-1, 1, 0], [0, -1, 1], [1, 0, -1], [-1, 0, 1], [1, -1, 0], [0, 1, -1]],\n",
    "            \"rates\": np.random.random((6,)).tolist(),\n",
    "            \"molecule_names\": [\"A\", \"B\", \"C\"],\n",
    "            \"seed\": 1,\n",
    "            \"reaction_ids\": [1, 2, 3, 4, 5, 6],\n",
    "            \"complex_ids\": [1, 2, 3, 4, 5, 6],\n",
    "        },\n",
    "        'inputs': {\n",
    "            'bulk': ['bulk'],\n",
    "            'timestep': ['timestep']\n",
    "        }\n",
    "    }\n",
    "}"
   ]
  },
  {
   "cell_type": "code",
   "execution_count": null,
   "id": "b1d766c1-07a6-449c-b44e-57a24b22ef84",
   "metadata": {},
   "outputs": [],
   "source": [
    "# flow represents which processes should be connected\n",
    "# topology represents the overall ports for the composite(emitter?)\n",
    "# processes represents the actual processes involved.\n",
    "\n",
    "# THUS, to create the composite doc we should:\n",
    "# 1. For each key(process) in sim.processes, create the composite doc as usual:\n",
    "# 1a. \n",
    "\n",
    "\n",
    "def construct_state(sim: EcoliSim):\n",
    "    sim_processes = sim.processes\n",
    "    state = {}\n",
    "    for process_id in sim_processes:\n",
    "        state[process_id] = {\n",
    "            \"address\": f\"local:{process_id}\",\n",
    "            \"config\": sim.process_configs.get(process_id),\n",
    "            \"inputs\": {}\n",
    "        }\n"
   ]
  }
 ],
 "metadata": {
  "kernelspec": {
   "display_name": "Python 3 (ipykernel)",
   "language": "python",
   "name": "python3"
  },
  "language_info": {
   "codemirror_mode": {
    "name": "ipython",
    "version": 3
   },
   "file_extension": ".py",
   "mimetype": "text/x-python",
   "name": "python",
   "nbconvert_exporter": "python",
   "pygments_lexer": "ipython3",
   "version": "3.12.8"
  }
 },
 "nbformat": 4,
 "nbformat_minor": 5
}
