{
 "cells": [
  {
   "cell_type": "code",
   "execution_count": 1,
   "id": "cfe6b880-e4c0-47e2-9098-bc2ba5e984c1",
   "metadata": {},
   "outputs": [
    {
     "name": "stderr",
     "output_type": "stream",
     "text": [
      "<unknown>:1: SyntaxWarning: invalid escape sequence '\\s'\n"
     ]
    }
   ],
   "source": [
    "import importlib\n",
    "import warnings\n",
    "from logging import getLogger\n",
    "from types import ModuleType\n",
    "from process_bigraph import ProcessTypes\n",
    "from bigraph_schema.protocols import function_module\n",
    "from unum import Unum\n",
    "from importlib import import_module\n",
    "from typing import *\n",
    "\n",
    "from wholecell.utils import units\n",
    "from ecoli.shared import ecoli_core as ec\n",
    "from ecoli.shared.types.register import test_register_type"
   ]
  },
  {
   "cell_type": "code",
   "execution_count": 2,
   "id": "fb14754f-fd4f-4970-a9ce-39ba2b343fff",
   "metadata": {},
   "outputs": [],
   "source": [
    "test_register_type(ec)"
   ]
  },
  {
   "cell_type": "code",
   "execution_count": 3,
   "id": "08d5273a-2703-4edb-a429-fcfe1d926f94",
   "metadata": {},
   "outputs": [
    {
     "data": {
      "text/plain": [
       "{'_apply': 'apply_unum',\n",
       " '_check': 'check_unum',\n",
       " '_divide': 'divide_unum',\n",
       " '_serialize': 'serialize_unum',\n",
       " '_deserialize': 'deserialize_unum',\n",
       " '_type': 'unum',\n",
       " '_default': 1.0 [s/mol]}"
      ]
     },
     "execution_count": 3,
     "metadata": {},
     "output_type": "execute_result"
    }
   ],
   "source": [
    "ec.types().get('unum')"
   ]
  },
  {
   "cell_type": "code",
   "execution_count": 4,
   "id": "ab9f2d42-6c41-4b65-849e-6dc0b3cba955",
   "metadata": {},
   "outputs": [
    {
     "data": {
      "text/plain": [
       "['tf_unbinding',\n",
       " 'json-emitter',\n",
       " 'transcript_initiation',\n",
       " 'RunProcess',\n",
       " 'rna_maturation',\n",
       " 'allocator',\n",
       " 'bulk_timeline',\n",
       " 'rna_degradation',\n",
       " 'global_clock',\n",
       " 'transcript_elongation',\n",
       " 'chemostat',\n",
       " 'grow',\n",
       " 'divide',\n",
       " 'polypeptide_elongation',\n",
       " 'rna_interference',\n",
       " 'tf_binding',\n",
       " 'console-emitter',\n",
       " 'two_component_system',\n",
       " 'ToySystem',\n",
       " 'ToyODE',\n",
       " 'metabolism_redux',\n",
       " 'ParameterScan',\n",
       " 'equilibrium',\n",
       " 'complexation',\n",
       " 'parquet',\n",
       " 'protein_degradation',\n",
       " 'composite',\n",
       " 'ram-emitter',\n",
       " 'polypeptide_initiation',\n",
       " 'chromosome_structure']"
      ]
     },
     "execution_count": 4,
     "metadata": {},
     "output_type": "execute_result"
    }
   ],
   "source": [
    "ec.process_registry.list()"
   ]
  },
  {
   "cell_type": "code",
   "execution_count": 5,
   "id": "6374ee73-4293-459f-85bc-a112f890931f",
   "metadata": {},
   "outputs": [
    {
     "data": {
      "text/plain": [
       "['set_none',\n",
       " 'bigraph_schema.type_functions.divide_map',\n",
       " 'divide_float',\n",
       " 'binomial_ecoli',\n",
       " 'ecoli.shared.types.functions.unum.divide_unum',\n",
       " 'empty_dict',\n",
       " 'divide_tree',\n",
       " 'divide_unum',\n",
       " 'bigraph_schema.type_functions.divide_any',\n",
       " 'by_domain',\n",
       " 'divide_tuple',\n",
       " 'bigraph_schema.type_functions.divide_tuple',\n",
       " 'divide_map',\n",
       " 'divide_process',\n",
       " 'bigraph_schema.type_functions.divide_list',\n",
       " 'bigraph_schema.type_functions.divide_float',\n",
       " 'rna_by_domain',\n",
       " 'bulk_binomial',\n",
       " 'ribosome_by_RNA',\n",
       " 'process_bigraph.process_types.divide_process',\n",
       " 'divide_list',\n",
       " 'bigraph_schema.type_functions.divide_tree',\n",
       " 'divide_any']"
      ]
     },
     "execution_count": 5,
     "metadata": {},
     "output_type": "execute_result"
    }
   ],
   "source": [
    "ec.divide_registry.list()"
   ]
  },
  {
   "cell_type": "code",
   "execution_count": null,
   "id": "1df7dc6a-aa52-4bee-9512-7a3e152877da",
   "metadata": {},
   "outputs": [],
   "source": []
  }
 ],
 "metadata": {
  "kernelspec": {
   "display_name": "Python 3 (ipykernel)",
   "language": "python",
   "name": "python3"
  },
  "language_info": {
   "codemirror_mode": {
    "name": "ipython",
    "version": 3
   },
   "file_extension": ".py",
   "mimetype": "text/x-python",
   "name": "python",
   "nbconvert_exporter": "python",
   "pygments_lexer": "ipython3",
   "version": "3.12.8"
  }
 },
 "nbformat": 4,
 "nbformat_minor": 5
}
