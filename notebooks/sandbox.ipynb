{
 "cells": [
  {
   "cell_type": "code",
   "execution_count": 1,
   "id": "75801914-3639-4239-8b46-46953be89148",
   "metadata": {},
   "outputs": [
    {
     "name": "stderr",
     "output_type": "stream",
     "text": [
      "<unknown>:1: SyntaxWarning: invalid escape sequence '\\s'\n"
     ]
    },
    {
     "data": {
      "text/plain": [
       "{'x': {'fork_coordinates': 'list',\n",
       "  'fork_domains': 'list',\n",
       "  'fork_unique_index': 'list',\n",
       "  'number_of_oric': 'list',\n",
       "  'free_DnaA_boxes': 'list',\n",
       "  'total_DnaA_boxes': 'list'}}"
      ]
     },
     "execution_count": 1,
     "metadata": {},
     "output_type": "execute_result"
    }
   ],
   "source": [
    "import importlib\n",
    "import warnings\n",
    "from logging import getLogger\n",
    "from types import ModuleType\n",
    "from process_bigraph import ProcessTypes\n",
    "from bigraph_schema.protocols import function_module\n",
    "from unum import Unum\n",
    "from importlib import import_module\n",
    "from typing import *\n",
    "\n",
    "from wholecell.utils import units\n",
    "from ecoli.experiments.ecoli_master_sim import EcoliSim\n",
    "from ecoli.shared import ecoli_core as ec\n",
    "from ecoli.shared.types.register import test_register_type\n",
    "from ecoli.shared.vivarium_instances.factory import VivariumFactory\n",
    "from ecoli.shared.utils.schemas import listener_schema, get_defaults_schema, collapse_defaults\n",
    "vivarium = VivariumFactory()\n",
    "\n",
    "from ecoli.shared.registry import ModelProcesses\n",
    "import json \n",
    "\n",
    "\n",
    "\n",
    "replication = {\n",
    "    \"x\": {**listener_schema({\n",
    "        \"fork_coordinates\": [],\n",
    "        \"fork_domains\": [],\n",
    "        \"fork_unique_index\": [],\n",
    "        \"number_of_oric\": [],\n",
    "        \"free_DnaA_boxes\": [],\n",
    "        \"total_DnaA_boxes\": [],\n",
    "    })},\n",
    "}\n",
    "    \n",
    "\n",
    "\n",
    "replication\n",
    "get_defaults_schema(replication)"
   ]
  },
  {
   "cell_type": "code",
   "execution_count": 2,
   "id": "6be437eb-5083-4c74-93b8-f59998259fc8",
   "metadata": {},
   "outputs": [
    {
     "data": {
      "text/plain": [
       "dtype([('id', '<U100'), ('count', '<f8')])"
      ]
     },
     "execution_count": 2,
     "metadata": {},
     "output_type": "execute_result"
    }
   ],
   "source": [
    "import numpy as np\n",
    "\n",
    "\n",
    "bulk_dtype: np.dtype = np.dtype([\n",
    "    (\"id\", \"<U100\"),\n",
    "    (\"count\", \"<f8\")\n",
    "])\n",
    "\n",
    "np.array([('a', 11)], dtype=bulk_dtype).dtype"
   ]
  },
  {
   "cell_type": "code",
   "execution_count": 3,
   "id": "da1fa127-32b7-48d3-b55b-e386a2608305",
   "metadata": {},
   "outputs": [],
   "source": [
    "configpath = '/Users/alexanderpatrie/Desktop/repos/ecoli/v2Ecoli/ecoli/composites/ecoli_configs/test_installation.json'\n",
    "sim = EcoliSim.from_file(configpath)"
   ]
  },
  {
   "cell_type": "code",
   "execution_count": 4,
   "id": "d7df3cca-dcfe-45b4-a1cf-4b99868d5672",
   "metadata": {},
   "outputs": [
    {
     "data": {
      "text/plain": [
       "['death_threshold',\n",
       " 'ecoli-chromosome-structure',\n",
       " 'ecoli-equilibrium',\n",
       " 'ecoli-metabolism',\n",
       " 'ecoli-polypeptide-elongation',\n",
       " 'ecoli-polypeptide-initiation',\n",
       " 'ecoli-rna-degradation',\n",
       " 'ecoli-tf-binding',\n",
       " 'ecoli-transcript-elongation',\n",
       " 'ecoli-transcript-initiation',\n",
       " 'exchange_data',\n",
       " 'global_clock',\n",
       " 'media_update']"
      ]
     },
     "execution_count": 4,
     "metadata": {},
     "output_type": "execute_result"
    }
   ],
   "source": [
    "to_fix = []\n",
    "for p in sim.processes:\n",
    "    if not (p in ec.process_registry.registry):\n",
    "        to_fix.append(p)\n",
    "\n",
    "to_fix"
   ]
  },
  {
   "cell_type": "code",
   "execution_count": 5,
   "id": "f8d53480-b198-4020-b0ef-4a594bf6d71e",
   "metadata": {},
   "outputs": [
    {
     "data": {
      "text/plain": [
       "{'console-emitter': process_bigraph.emitter.ConsoleEmitter,\n",
       " 'ram-emitter': process_bigraph.emitter.RAMEmitter,\n",
       " 'json-emitter': process_bigraph.emitter.JSONEmitter,\n",
       " 'composite': process_bigraph.composite.Composite,\n",
       " 'murein-division': ecoli.migrated.antibiotics.murein_division.MureinDivision,\n",
       " 'ecoli-lysis-initiation': ecoli.migrated.antibiotics.lysis_initiation.LysisInitiation,\n",
       " 'death': ecoli.migrated.antibiotics.death.DeathFreezeState,\n",
       " 'ecoli-cell-wall': ecoli.migrated.antibiotics.cell_wall.CellWall,\n",
       " 'antibiotic-transport-odeint': ecoli.migrated.antibiotics.antibiotic_transport_odeint.AntibioticTransportOdeint,\n",
       " 'aggregator': ecoli.migrated.listeners.aggregator.Aggregator,\n",
       " 'RNA_counts_listener': ecoli.migrated.listeners.RNA_counts.RNACounts,\n",
       " 'monomer_counts_listener': ecoli.migrated.listeners.monomer_counts.MonomerCounts,\n",
       " 'rna_synth_prob_listener': ecoli.migrated.listeners.rna_synth_prob.RnaSynthProb,\n",
       " 'dna_supercoiling_listener': ecoli.migrated.listeners.dna_supercoiling.DnaSupercoiling,\n",
       " 'replication_data_listener': ecoli.migrated.listeners.replication_data.ReplicationData,\n",
       " 'rnap_data_listener': ecoli.migrated.listeners.rnap_data.RnapData,\n",
       " 'unique_molecule_counts': ecoli.migrated.listeners.unique_molecule_counts.UniqueMoleculeCounts,\n",
       " 'ribosome_data_listener': ecoli.migrated.listeners.ribosome_data.RibosomeData,\n",
       " 'ecoli-mass-listener': ecoli.migrated.listeners.mass_listener.MassListener,\n",
       " 'post-division-mass-listener': ecoli.migrated.listeners.mass_listener.PostDivisionMassListener,\n",
       " 'ecoli-tf-unbinding': ecoli.migrated.tf_unbinding.TfUnbinding,\n",
       " None: ecoli.migrated.metabolism_redux.MetabolismRedux,\n",
       " 'ecoli-rna-maturation': ecoli.migrated.rna_maturation.RnaMaturation,\n",
       " 'ecoli-complexation': ecoli.migrated.complexation.Complexation,\n",
       " 'ecoli-two-component-system': ecoli.migrated.two_component_system.TwoComponentSystem,\n",
       " 'ecoli-protein-degradation': ecoli.migrated.protein_degradation.ProteinDegradation,\n",
       " 'ecoli-rna-interference': ecoli.migrated.rna_interference.RnaInterference,\n",
       " 'bulk-timeline': ecoli.migrated.bulk_timeline.BulkTimelineProcess,\n",
       " 'toysystem': process_bigraph.processes.parameter_scan.ToySystem,\n",
       " 'toyode': process_bigraph.processes.parameter_scan.ODE,\n",
       " 'runprocess': process_bigraph.processes.parameter_scan.RunProcess,\n",
       " 'parameterscan': process_bigraph.processes.parameter_scan.ParameterScan,\n",
       " 'grow': process_bigraph.processes.growth_division.Grow,\n",
       " 'divide': process_bigraph.processes.growth_division.Divide,\n",
       " 'parquet-emitter': ecoli.emitters.parquet.ParquetEmitter}"
      ]
     },
     "execution_count": 5,
     "metadata": {},
     "output_type": "execute_result"
    }
   ],
   "source": [
    "ec.process_registry.registry"
   ]
  },
  {
   "cell_type": "code",
   "execution_count": null,
   "id": "a60e9a86-7cad-4c3e-9b1a-e8e546096e4f",
   "metadata": {},
   "outputs": [],
   "source": [
    "import numpy as np \n",
    "\n",
    "\n",
    "doc = {\n",
    "    'complexation': {\n",
    "        '_type': 'process',\n",
    "        'address': 'local:complexation',\n",
    "        'config': {\n",
    "            \"stoichiometry\": [[-1, 1, 0], [0, -1, 1], [1, 0, -1], [-1, 0, 1], [1, -1, 0], [0, 1, -1]],\n",
    "            \"rates\": np.random.random((6,)).tolist(),\n",
    "            \"molecule_names\": [\"A\", \"B\", \"C\"],\n",
    "            \"seed\": 1,\n",
    "            \"reaction_ids\": [1, 2, 3, 4, 5, 6],\n",
    "            \"complex_ids\": [1, 2, 3, 4, 5, 6],\n",
    "        },\n",
    "        'inputs': {\n",
    "            'bulk': ['bulk'],\n",
    "            'timestep': ['timestep']\n",
    "        }\n",
    "    }\n",
    "}"
   ]
  },
  {
   "cell_type": "code",
   "execution_count": null,
   "id": "b1d766c1-07a6-449c-b44e-57a24b22ef84",
   "metadata": {},
   "outputs": [],
   "source": [
    "# flow represents which processes should be connected\n",
    "# topology represents the overall ports for the composite(emitter?)\n",
    "# processes represents the actual processes involved.\n",
    "\n",
    "# THUS, to create the composite doc we should:\n",
    "# 1. For each key(process) in sim.processes, create the composite doc as usual:\n",
    "# 1a. \n",
    "\n",
    "\n",
    "def construct_state(sim: EcoliSim):\n",
    "    sim_processes = sim.processes\n",
    "    state = {}\n",
    "    for process_id in sim_processes:\n",
    "        state[process_id] = {\n",
    "            \"address\": f\"local:{process_id}\",\n",
    "            \"config\": sim.process_configs.get(process_id),\n",
    "            \"inputs\": {}\n",
    "        }\n"
   ]
  },
  {
   "cell_type": "code",
   "execution_count": 4,
   "id": "26263cf5-fe07-425d-bfa1-0838c4fe2c15",
   "metadata": {},
   "outputs": [
    {
     "ename": "TypeError",
     "evalue": "Can't instantiate abstract class Sim without an implementation for abstract method 'x'",
     "output_type": "error",
     "traceback": [
      "\u001b[0;31m---------------------------------------------------------------------------\u001b[0m",
      "\u001b[0;31mTypeError\u001b[0m                                 Traceback (most recent call last)",
      "Cell \u001b[0;32mIn[4], line 9\u001b[0m\n\u001b[1;32m      4\u001b[0m     \u001b[38;5;129m@property\u001b[39m\n\u001b[1;32m      5\u001b[0m     \u001b[38;5;129m@abc\u001b[39m\u001b[38;5;241m.\u001b[39mabstractmethod\n\u001b[1;32m      6\u001b[0m     \u001b[38;5;28;01mdef\u001b[39;00m \u001b[38;5;21mx\u001b[39m(\u001b[38;5;28mself\u001b[39m):\n\u001b[1;32m      7\u001b[0m         \u001b[38;5;28;01mpass\u001b[39;00m \n\u001b[0;32m----> 9\u001b[0m s \u001b[38;5;241m=\u001b[39m \u001b[43mSim\u001b[49m\u001b[43m(\u001b[49m\u001b[43m)\u001b[49m\n",
      "\u001b[0;31mTypeError\u001b[0m: Can't instantiate abstract class Sim without an implementation for abstract method 'x'"
     ]
    }
   ],
   "source": [
    "import abc\n",
    "\n",
    "class Sim(EcoliSim, abc.ABC):\n",
    "    @property\n",
    "    @abc.abstractmethod\n",
    "    def x(self):\n",
    "        pass \n",
    "\n",
    "s = Sim()"
   ]
  },
  {
   "cell_type": "code",
   "execution_count": null,
   "id": "79066584-8b94-447e-97b3-95e9808fc261",
   "metadata": {},
   "outputs": [],
   "source": []
  },
  {
   "cell_type": "code",
   "execution_count": null,
   "id": "a332de15-9e1d-452f-974f-7a0fc41eb32a",
   "metadata": {},
   "outputs": [],
   "source": []
  }
 ],
 "metadata": {
  "kernelspec": {
   "display_name": "Python 3 (ipykernel)",
   "language": "python",
   "name": "python3"
  },
  "language_info": {
   "codemirror_mode": {
    "name": "ipython",
    "version": 3
   },
   "file_extension": ".py",
   "mimetype": "text/x-python",
   "name": "python",
   "nbconvert_exporter": "python",
   "pygments_lexer": "ipython3",
   "version": "3.12.8"
  }
 },
 "nbformat": 4,
 "nbformat_minor": 5
}
