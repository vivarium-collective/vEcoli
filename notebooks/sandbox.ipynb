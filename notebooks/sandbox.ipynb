{
 "cells": [
  {
   "cell_type": "code",
   "execution_count": 1,
   "id": "cfe6b880-e4c0-47e2-9098-bc2ba5e984c1",
   "metadata": {},
   "outputs": [
    {
     "name": "stderr",
     "output_type": "stream",
     "text": [
      "<unknown>:1: SyntaxWarning: invalid escape sequence '\\s'\n"
     ]
    }
   ],
   "source": [
    "import importlib\n",
    "import warnings\n",
    "from logging import getLogger\n",
    "from types import ModuleType\n",
    "from process_bigraph import ProcessTypes\n",
    "from bigraph_schema.protocols import function_module\n",
    "from unum import Unum\n",
    "from importlib import import_module\n",
    "from typing import *\n",
    "\n",
    "from wholecell.utils import units\n",
    "from ecoli.shared import ecoli_core as ec\n",
    "from ecoli.shared.types.register import test_register_type"
   ]
  },
  {
   "cell_type": "code",
   "execution_count": 2,
   "id": "fb14754f-fd4f-4970-a9ce-39ba2b343fff",
   "metadata": {},
   "outputs": [],
   "source": [
    "test_register_type(ec)"
   ]
  },
  {
   "cell_type": "code",
   "execution_count": 3,
   "id": "08d5273a-2703-4edb-a429-fcfe1d926f94",
   "metadata": {},
   "outputs": [
    {
     "data": {
      "text/plain": [
       "{'_apply': 'apply_unum',\n",
       " '_check': 'check_unum',\n",
       " '_divide': 'divide_unum',\n",
       " '_serialize': 'serialize_unum',\n",
       " '_deserialize': 'deserialize_unum',\n",
       " '_type': 'unum',\n",
       " '_default': 1.0 [s/mol]}"
      ]
     },
     "execution_count": 3,
     "metadata": {},
     "output_type": "execute_result"
    }
   ],
   "source": [
    "ec.types().get('unum')"
   ]
  },
  {
   "cell_type": "code",
   "execution_count": null,
   "id": "2262b4ba-0704-4450-b324-616706bbeeaf",
   "metadata": {},
   "outputs": [],
   "source": []
  }
 ],
 "metadata": {
  "kernelspec": {
   "display_name": "Python 3 (ipykernel)",
   "language": "python",
   "name": "python3"
  },
  "language_info": {
   "codemirror_mode": {
    "name": "ipython",
    "version": 3
   },
   "file_extension": ".py",
   "mimetype": "text/x-python",
   "name": "python",
   "nbconvert_exporter": "python",
   "pygments_lexer": "ipython3",
   "version": "3.12.8"
  }
 },
 "nbformat": 4,
 "nbformat_minor": 5
}
