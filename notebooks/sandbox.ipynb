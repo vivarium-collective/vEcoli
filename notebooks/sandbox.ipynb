{
 "cells": [
  {
   "cell_type": "code",
   "execution_count": 1,
   "id": "cfe6b880-e4c0-47e2-9098-bc2ba5e984c1",
   "metadata": {},
   "outputs": [
    {
     "name": "stderr",
     "output_type": "stream",
     "text": [
      "<unknown>:1: SyntaxWarning: invalid escape sequence '\\s'\n"
     ]
    }
   ],
   "source": [
    "import importlib\n",
    "import warnings\n",
    "from logging import getLogger\n",
    "from types import ModuleType\n",
    "from process_bigraph import ProcessTypes\n",
    "from bigraph_schema.protocols import function_module\n",
    "from unum import Unum\n",
    "from importlib import import_module\n",
    "from typing import *\n",
    "\n",
    "from wholecell.utils import units\n",
    "from ecoli.shared import ecoli_core as ec\n",
    "from ecoli.shared.types.register import test_register_type"
   ]
  },
  {
   "cell_type": "code",
   "execution_count": 2,
   "id": "fb14754f-fd4f-4970-a9ce-39ba2b343fff",
   "metadata": {},
   "outputs": [
    {
     "name": "stdout",
     "output_type": "stream",
     "text": [
      "True\n"
     ]
    }
   ],
   "source": [
    "test_register_type(ec)"
   ]
  },
  {
   "cell_type": "code",
   "execution_count": 3,
   "id": "08d5273a-2703-4edb-a429-fcfe1d926f94",
   "metadata": {},
   "outputs": [
    {
     "data": {
      "text/plain": [
       "{'_apply': 'apply_unum',\n",
       " '_check': 'check_unum',\n",
       " '_divide': 'divide_unum',\n",
       " '_serialize': 'serialize_unum',\n",
       " '_deserialize': 'deserialize_unum',\n",
       " '_type': 'unum',\n",
       " '_default': 1.0 [s/mol]}"
      ]
     },
     "execution_count": 3,
     "metadata": {},
     "output_type": "execute_result"
    }
   ],
   "source": [
    "ec.types().get('unum')"
   ]
  },
  {
   "cell_type": "code",
   "execution_count": 4,
   "id": "ab9f2d42-6c41-4b65-849e-6dc0b3cba955",
   "metadata": {},
   "outputs": [
    {
     "data": {
      "text/plain": [
       "['metabolism_redux',\n",
       " 'runprocess',\n",
       " 'ram-emitter',\n",
       " 'parquet',\n",
       " 'grow',\n",
       " 'toysystem',\n",
       " 'bulk_timeline',\n",
       " 'rna_degradation',\n",
       " 'transcript_elongation',\n",
       " 'complexation',\n",
       " 'rna_interference',\n",
       " 'equilibrium',\n",
       " 'json-emitter',\n",
       " 'polypeptide_elongation',\n",
       " 'chromosome_structure',\n",
       " 'chemostat',\n",
       " 'divide',\n",
       " 'rna_maturation',\n",
       " 'protein_degradation',\n",
       " 'tf_unbinding',\n",
       " 'tf_binding',\n",
       " 'parameterscan',\n",
       " 'transcript_initiation',\n",
       " 'global_clock',\n",
       " 'composite',\n",
       " 'polypeptide_initiation',\n",
       " 'two_component_system',\n",
       " 'allocator',\n",
       " 'console-emitter',\n",
       " 'toyode']"
      ]
     },
     "execution_count": 4,
     "metadata": {},
     "output_type": "execute_result"
    }
   ],
   "source": [
    "ec.process_registry.list()"
   ]
  },
  {
   "cell_type": "code",
   "execution_count": 2,
   "id": "6374ee73-4293-459f-85bc-a112f890931f",
   "metadata": {},
   "outputs": [
    {
     "data": {
      "text/plain": [
       "['__class__',\n",
       " '__delattr__',\n",
       " '__dict__',\n",
       " '__dir__',\n",
       " '__doc__',\n",
       " '__eq__',\n",
       " '__format__',\n",
       " '__ge__',\n",
       " '__getattribute__',\n",
       " '__getstate__',\n",
       " '__gt__',\n",
       " '__hash__',\n",
       " '__init__',\n",
       " '__init_subclass__',\n",
       " '__le__',\n",
       " '__lt__',\n",
       " '__module__',\n",
       " '__ne__',\n",
       " '__new__',\n",
       " '__reduce__',\n",
       " '__reduce_ex__',\n",
       " '__repr__',\n",
       " '__setattr__',\n",
       " '__sizeof__',\n",
       " '__str__',\n",
       " '__subclasshook__',\n",
       " '__weakref__',\n",
       " '_topology',\n",
       " '_view',\n",
       " 'access',\n",
       " 'access_str',\n",
       " 'add',\n",
       " 'apply',\n",
       " 'apply_registry',\n",
       " 'apply_slice',\n",
       " 'apply_update',\n",
       " 'bind',\n",
       " 'bind_registry',\n",
       " 'check',\n",
       " 'check_registry',\n",
       " 'check_state',\n",
       " 'choose_method',\n",
       " 'complete',\n",
       " 'compose',\n",
       " 'dataclass',\n",
       " 'dataclass_registry',\n",
       " 'default',\n",
       " 'default_registry',\n",
       " 'define',\n",
       " 'deserialize',\n",
       " 'deserialize_registry',\n",
       " 'divide_registry',\n",
       " 'equivalent',\n",
       " 'exists',\n",
       " 'fill',\n",
       " 'fill_ports',\n",
       " 'fill_state',\n",
       " 'find',\n",
       " 'find_method',\n",
       " 'find_parameter',\n",
       " 'find_registry',\n",
       " 'fold',\n",
       " 'fold_registry',\n",
       " 'fold_state',\n",
       " 'function_keys',\n",
       " 'generate',\n",
       " 'generate_recur',\n",
       " 'generate_registry',\n",
       " 'get',\n",
       " 'hydrate',\n",
       " 'import_types',\n",
       " 'infer_edge',\n",
       " 'infer_schema',\n",
       " 'infer_wires',\n",
       " 'inherits',\n",
       " 'inherits_from',\n",
       " 'initialize_edge_state',\n",
       " 'last_update',\n",
       " 'link_place',\n",
       " 'list',\n",
       " 'lookup',\n",
       " 'lookup_registry',\n",
       " 'main_keys',\n",
       " 'match',\n",
       " 'match_node',\n",
       " 'match_recur',\n",
       " 'merge',\n",
       " 'merge_recur',\n",
       " 'merge_schemas',\n",
       " 'method_registry',\n",
       " 'parameters_for',\n",
       " 'ports_schema',\n",
       " 'process_registry',\n",
       " 'project',\n",
       " 'project_edge',\n",
       " 'protocol_registry',\n",
       " 'query',\n",
       " 'react',\n",
       " 'react_registry',\n",
       " 'register',\n",
       " 'register_function',\n",
       " 'register_multiple',\n",
       " 'register_process',\n",
       " 'register_process_package',\n",
       " 'register_processes',\n",
       " 'register_protocols',\n",
       " 'register_reaction',\n",
       " 'register_type',\n",
       " 'register_types',\n",
       " 'registry',\n",
       " 'representation',\n",
       " 'resolve',\n",
       " 'resolve_parameters',\n",
       " 'resolve_registry',\n",
       " 'resolve_schemas',\n",
       " 'retrieve',\n",
       " 'serialize',\n",
       " 'serialize_registry',\n",
       " 'set',\n",
       " 'set_slice',\n",
       " 'set_update',\n",
       " 'slice',\n",
       " 'slice_registry',\n",
       " 'sort',\n",
       " 'sort_registry',\n",
       " 'timestamp',\n",
       " 'topology',\n",
       " 'types',\n",
       " 'update_types',\n",
       " 'validate',\n",
       " 'validate_schema',\n",
       " 'validate_state',\n",
       " 'view',\n",
       " 'view_edge',\n",
       " 'wire_schema']"
      ]
     },
     "execution_count": 2,
     "metadata": {},
     "output_type": "execute_result"
    }
   ],
   "source": [
    "dir(ec)"
   ]
  },
  {
   "cell_type": "code",
   "execution_count": null,
   "id": "1df7dc6a-aa52-4bee-9512-7a3e152877da",
   "metadata": {},
   "outputs": [],
   "source": []
  }
 ],
 "metadata": {
  "kernelspec": {
   "display_name": "Python 3 (ipykernel)",
   "language": "python",
   "name": "python3"
  },
  "language_info": {
   "codemirror_mode": {
    "name": "ipython",
    "version": 3
   },
   "file_extension": ".py",
   "mimetype": "text/x-python",
   "name": "python",
   "nbconvert_exporter": "python",
   "pygments_lexer": "ipython3",
   "version": "3.12.8"
  }
 },
 "nbformat": 4,
 "nbformat_minor": 5
}
