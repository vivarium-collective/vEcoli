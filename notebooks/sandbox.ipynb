{
 "cells": [
  {
   "cell_type": "code",
   "execution_count": 1,
   "id": "b56da51c-c7b0-4a25-a1e3-64b8f39225a4",
   "metadata": {},
   "outputs": [
    {
     "name": "stderr",
     "output_type": "stream",
     "text": [
      "<unknown>:1: SyntaxWarning: invalid escape sequence '\\s'\n"
     ]
    }
   ],
   "source": [
    "import os\n",
    "import process_bigraph as pbg\n",
    "from vivarium.vivarium import Vivarium\n",
    "import numpy as np\n",
    "\n",
    "from wholecell.utils import units\n",
    "from ecoli.shared.schemas import numpy_schema, listener_schema, get_config_schema\n",
    "from ecoli import ecoli_core\n",
    "from ecoli.shared.base import ProcessBase\n",
    "\n",
    "from bigraph_schema.type_system import TypeSystem"
   ]
  },
  {
   "cell_type": "code",
   "execution_count": 2,
   "id": "d03ab444-dd3d-47a0-ae3b-8b95d77c4447",
   "metadata": {},
   "outputs": [],
   "source": [
    "core = ecoli_core\n",
    "\n",
    "states = []\n",
    "\n",
    "class Func(pbg.Process):\n",
    "    config_schema = {\n",
    "        'k': 'float',\n",
    "        'n_rna': 'maybe[integer]'\n",
    "    }\n",
    "\n",
    "    def __init__(self, config=None, core=None):\n",
    "        super().__init__(config, core)\n",
    "        self.k = self.config.get('k', np.random.random())\n",
    "        self.n_rna = np.random.randint(1, 11)\n",
    "\n",
    "        # passing an initial state list, but parsing and returning as an array\n",
    "        self.generate = lambda: np.random.random((self.n_rna,))\n",
    "        self.rna_type = {\"_type\": \"list\", \"_default\": self.generate()}\n",
    "\n",
    "    def initial_state(self):\n",
    "        return {\n",
    "            # bulk molecules\n",
    "            \"listeners\": {\n",
    "                \"replication_data\": listener_schema(\n",
    "                    {\"i\": np.random.random(), \"j\": np.random.random()}\n",
    "                ),\n",
    "                \"rRNA\": self.generate(),\n",
    "            },\n",
    "        }\n",
    "            \n",
    "\n",
    "    def inputs(self):\n",
    "        return {\n",
    "            # bulk molecules\n",
    "            \"bulk\": numpy_schema(\"bulk\"),\n",
    "            \"listeners\": {\n",
    "                \"mass\": listener_schema({\"cell\": np.random.random()}),\n",
    "                \"replication_data\": listener_schema(\n",
    "                    {\"i\": np.random.random(), \"j\": np.random.random()}\n",
    "                ),\n",
    "                \"rRNA\": self.rna_type,\n",
    "            },\n",
    "            \"environment\": {\n",
    "                \"media_id\": \"string\"\n",
    "            },\n",
    "            \n",
    "        }\n",
    "\n",
    "    def outputs(self):\n",
    "        return {\n",
    "            # bulk molecules\n",
    "            \"listeners\": {\n",
    "                \"replication_data\": listener_schema(\n",
    "                    {\"i\": np.random.random(), \"j\": np.random.random()}\n",
    "                ),\n",
    "                \"rRNA\": self.rna_type,\n",
    "            }\n",
    "        }\n",
    "\n",
    "    def update(self, state, interval):\n",
    "        listeners = state.get('listeners')\n",
    "        replication_data = listeners.get('replication_data')\n",
    "        x = listeners.get('mass').get('cell') * (replication_data.get('i') / replication_data.get('j'))\n",
    "        y = (x**x) * interval\n",
    "        rRNA_k = np.array(state.get('listeners').get('rRNA') * round(y))\n",
    "        return {\n",
    "            'listeners': {\n",
    "                'replication_data': {\n",
    "                    'i': y * replication_data.get('i'),\n",
    "                    'j': y * replication_data.get('j')\n",
    "                },\n",
    "                'rRNA': rRNA_k\n",
    "            },\n",
    "            \n",
    "        }\n",
    "\n",
    "core.process_registry.register('func', Func)"
   ]
  },
  {
   "cell_type": "code",
   "execution_count": 4,
   "id": "91506dc2-d0be-44aa-ba56-6f1ddc337f72",
   "metadata": {},
   "outputs": [
    {
     "data": {
      "text/plain": [
       "Vivarium( \n",
       "{ 'bulk': [],\n",
       "  'emitter': { 'address': 'local:ram-emitter',\n",
       "               'config': { 'emit': { 'bulk': 'any',\n",
       "                                     'environment': 'any',\n",
       "                                     'global_time': 'any',\n",
       "                                     'listeners': 'any'}},\n",
       "               'inputs': { 'bulk': ['bulk'],\n",
       "                           'environment': ['environment'],\n",
       "                           'global_time': ['global_time'],\n",
       "                           'listeners': ['listeners']},\n",
       "               'instance': <process_bigraph.emitter.RAMEmitter object at 0x12a6df2c0>,\n",
       "               'outputs': None},\n",
       "  'environment': {'media_id': ''},\n",
       "  'func': { 'address': 'local:func',\n",
       "            'config': {'k': 0.0, 'n_rna': None},\n",
       "            'inputs': { 'bulk': ['bulk'],\n",
       "                        'environment': ['environment'],\n",
       "                        'listeners': ['listeners']},\n",
       "            'instance': <__main__.Func object at 0x12bb2b1d0>,\n",
       "            'interval': 1.0,\n",
       "            'outputs': {'listeners': ['listeners']},\n",
       "            'shared': {}},\n",
       "  'global_time': 0.0,\n",
       "  'listeners': { 'mass': {'cell': 0.8973879878772549},\n",
       "                 'rRNA': array([0.36420162, 0.13306844, 0.93698829, 0.25158446]),\n",
       "                 'replication_data': { 'i': 0.48616310004591357,\n",
       "                                       'j': 0.4143926076135699}}})"
      ]
     },
     "execution_count": 4,
     "metadata": {},
     "output_type": "execute_result"
    }
   ],
   "source": [
    "from vivarium.vivarium import Vivarium\n",
    "\n",
    "\n",
    "def vivarium(core, doc=None):\n",
    "    return Vivarium(\n",
    "        core=core, processes=core.process_registry.registry, types=core.types(), document=doc\n",
    "    )\n",
    "\n",
    "doc = {\n",
    "    'state': {\n",
    "        'func': {\n",
    "            '_type': 'process',\n",
    "            'address': 'local:func',\n",
    "            'inputs': {\n",
    "                'bulk': ['bulk'],\n",
    "                'listeners': ['listeners'],\n",
    "                'environment': ['environment'],\n",
    "            },\n",
    "            'outputs': {\n",
    "                'listeners': ['listeners'],\n",
    "            },\n",
    "        }\n",
    "    }\n",
    "}\n",
    "\n",
    "viv = vivarium(core, doc)\n",
    "viv.add_emitter()\n",
    "dur = 11\n",
    "\n",
    "import json \n",
    "\n",
    "# with open('./test_document.json', 'w') as f:\n",
    "#     json.dump(viv.make_document())\n",
    "# results = []\n",
    "# for i in np.random.random((dur,)):\n",
    "#     viv.run(float(i))\n",
    "#     results.append({'duration': i, 'data': viv.get_results()[-1]})\n",
    "viv"
   ]
  },
  {
   "cell_type": "code",
   "execution_count": 5,
   "id": "35347405-6844-470b-a57b-89921de83996",
   "metadata": {},
   "outputs": [],
   "source": [
    "import json"
   ]
  },
  {
   "cell_type": "code",
   "execution_count": 7,
   "id": "a4203265-688b-4ef4-a9be-333cfd6a20f9",
   "metadata": {},
   "outputs": [
    {
     "ename": "Exception",
     "evalue": "no method \"serialize\" found for state [] and schema {'_type': 'list[tuple]', '_default': [], '_check': 'check_list', '_slice': 'slice_list', '_apply': <function bulk_numpy_updater at 0x12b925ee0>, '_serialize': <class 'ecoli.library.schema.get_bulk_counts'>, '_deserialize': 'deserialize_list', '_dataclass': 'dataclass_list', '_fold': 'fold_list', '_divide': <function divide_bulk at 0x12b926340>, '_type_parameters': ['element'], '_description': 'general list type (or sublists)', '_element': {'_type': 'tuple', '_default': 'default_tuple', '_apply': 'apply_tuple', '_check': 'check_tuple', '_slice': 'slice_tuple', '_serialize': 'serialize_tuple', '_deserialize': 'deserialize_tuple', '_dataclass': 'dataclass_tuple', '_fold': 'fold_tuple', '_divide': 'divide_tuple', '_bind': 'bind_tuple', '_description': 'tuple of an ordered set of typed values'}}",
     "output_type": "error",
     "traceback": [
      "\u001b[31m---------------------------------------------------------------------------\u001b[39m",
      "\u001b[31mException\u001b[39m                                 Traceback (most recent call last)",
      "\u001b[36mCell\u001b[39m\u001b[36m \u001b[39m\u001b[32mIn[7]\u001b[39m\u001b[32m, line 1\u001b[39m\n\u001b[32m----> \u001b[39m\u001b[32m1\u001b[39m \u001b[43mviv\u001b[49m\u001b[43m.\u001b[49m\u001b[43mmake_document\u001b[49m\u001b[43m(\u001b[49m\u001b[43m)\u001b[49m\n",
      "\u001b[36mFile \u001b[39m\u001b[32m~/Desktop/repos/v2Ecoli/.venv/lib/python3.12/site-packages/vivarium/vivarium.py:297\u001b[39m, in \u001b[36mVivarium.make_document\u001b[39m\u001b[34m(self)\u001b[39m\n\u001b[32m    296\u001b[39m \u001b[38;5;28;01mdef\u001b[39;00m\u001b[38;5;250m \u001b[39m\u001b[34mmake_document\u001b[39m(\u001b[38;5;28mself\u001b[39m):\n\u001b[32m--> \u001b[39m\u001b[32m297\u001b[39m     serialized_state = \u001b[38;5;28;43mself\u001b[39;49m\u001b[43m.\u001b[49m\u001b[43mcomposite\u001b[49m\u001b[43m.\u001b[49m\u001b[43mserialize_state\u001b[49m\u001b[43m(\u001b[49m\u001b[43m)\u001b[49m\n\u001b[32m    299\u001b[39m     \u001b[38;5;66;03m# TODO fix RecursionError\u001b[39;00m\n\u001b[32m    300\u001b[39m     schema = \u001b[38;5;28mself\u001b[39m.core.representation(\u001b[38;5;28mself\u001b[39m.composite.composition)\n",
      "\u001b[36mFile \u001b[39m\u001b[32m~/Desktop/repos/v2Ecoli/.venv/lib/python3.12/site-packages/process_bigraph/composite.py:504\u001b[39m, in \u001b[36mComposite.serialize_state\u001b[39m\u001b[34m(self)\u001b[39m\n\u001b[32m    503\u001b[39m \u001b[38;5;28;01mdef\u001b[39;00m\u001b[38;5;250m \u001b[39m\u001b[34mserialize_state\u001b[39m(\u001b[38;5;28mself\u001b[39m):\n\u001b[32m--> \u001b[39m\u001b[32m504\u001b[39m     \u001b[38;5;28;01mreturn\u001b[39;00m \u001b[38;5;28;43mself\u001b[39;49m\u001b[43m.\u001b[49m\u001b[43mcore\u001b[49m\u001b[43m.\u001b[49m\u001b[43mserialize\u001b[49m\u001b[43m(\u001b[49m\n\u001b[32m    505\u001b[39m \u001b[43m        \u001b[49m\u001b[38;5;28;43mself\u001b[39;49m\u001b[43m.\u001b[49m\u001b[43mcomposition\u001b[49m\u001b[43m,\u001b[49m\n\u001b[32m    506\u001b[39m \u001b[43m        \u001b[49m\u001b[38;5;28;43mself\u001b[39;49m\u001b[43m.\u001b[49m\u001b[43mstate\u001b[49m\u001b[43m)\u001b[49m\n",
      "\u001b[36mFile \u001b[39m\u001b[32m~/Desktop/repos/bigraph-schema/bigraph_schema/type_system.py:1431\u001b[39m, in \u001b[36mTypeSystem.serialize\u001b[39m\u001b[34m(self, schema, state)\u001b[39m\n\u001b[32m   1424\u001b[39m schema = \u001b[38;5;28mself\u001b[39m.retrieve(schema)\n\u001b[32m   1426\u001b[39m serialize_function = \u001b[38;5;28mself\u001b[39m.choose_method(\n\u001b[32m   1427\u001b[39m     schema,\n\u001b[32m   1428\u001b[39m     state,\n\u001b[32m   1429\u001b[39m     \u001b[33m'\u001b[39m\u001b[33mserialize\u001b[39m\u001b[33m'\u001b[39m)\n\u001b[32m-> \u001b[39m\u001b[32m1431\u001b[39m \u001b[38;5;28;01mreturn\u001b[39;00m \u001b[43mserialize_function\u001b[49m\u001b[43m(\u001b[49m\n\u001b[32m   1432\u001b[39m \u001b[43m    \u001b[49m\u001b[43mschema\u001b[49m\u001b[43m,\u001b[49m\n\u001b[32m   1433\u001b[39m \u001b[43m    \u001b[49m\u001b[43mstate\u001b[49m\u001b[43m,\u001b[49m\n\u001b[32m   1434\u001b[39m \u001b[43m    \u001b[49m\u001b[38;5;28;43mself\u001b[39;49m\u001b[43m)\u001b[49m\n",
      "\u001b[36mFile \u001b[39m\u001b[32m~/Desktop/repos/bigraph-schema/bigraph_schema/type_functions.py:981\u001b[39m, in \u001b[36mserialize_any\u001b[39m\u001b[34m(schema, state, core)\u001b[39m\n\u001b[32m    978\u001b[39m tree = {}\n\u001b[32m    980\u001b[39m \u001b[38;5;28;01mfor\u001b[39;00m key \u001b[38;5;129;01min\u001b[39;00m non_schema_keys(schema):\n\u001b[32m--> \u001b[39m\u001b[32m981\u001b[39m     encoded = \u001b[43mcore\u001b[49m\u001b[43m.\u001b[49m\u001b[43mserialize\u001b[49m\u001b[43m(\u001b[49m\n\u001b[32m    982\u001b[39m \u001b[43m        \u001b[49m\u001b[43mschema\u001b[49m\u001b[43m.\u001b[49m\u001b[43mget\u001b[49m\u001b[43m(\u001b[49m\u001b[43mkey\u001b[49m\u001b[43m,\u001b[49m\u001b[43m \u001b[49m\u001b[43mschema\u001b[49m\u001b[43m)\u001b[49m\u001b[43m,\u001b[49m\n\u001b[32m    983\u001b[39m \u001b[43m        \u001b[49m\u001b[43mstate\u001b[49m\u001b[43m.\u001b[49m\u001b[43mget\u001b[49m\u001b[43m(\u001b[49m\u001b[43mkey\u001b[49m\u001b[43m)\u001b[49m\u001b[43m)\u001b[49m\n\u001b[32m    984\u001b[39m     tree[key] = encoded\n\u001b[32m    986\u001b[39m \u001b[38;5;28;01mreturn\u001b[39;00m tree\n",
      "\u001b[36mFile \u001b[39m\u001b[32m~/Desktop/repos/bigraph-schema/bigraph_schema/type_system.py:1426\u001b[39m, in \u001b[36mTypeSystem.serialize\u001b[39m\u001b[34m(self, schema, state)\u001b[39m\n\u001b[32m   1423\u001b[39m \u001b[38;5;28;01mdef\u001b[39;00m\u001b[38;5;250m \u001b[39m\u001b[34mserialize\u001b[39m(\u001b[38;5;28mself\u001b[39m, schema, state):\n\u001b[32m   1424\u001b[39m     schema = \u001b[38;5;28mself\u001b[39m.retrieve(schema)\n\u001b[32m-> \u001b[39m\u001b[32m1426\u001b[39m     serialize_function = \u001b[38;5;28;43mself\u001b[39;49m\u001b[43m.\u001b[49m\u001b[43mchoose_method\u001b[49m\u001b[43m(\u001b[49m\n\u001b[32m   1427\u001b[39m \u001b[43m        \u001b[49m\u001b[43mschema\u001b[49m\u001b[43m,\u001b[49m\n\u001b[32m   1428\u001b[39m \u001b[43m        \u001b[49m\u001b[43mstate\u001b[49m\u001b[43m,\u001b[49m\n\u001b[32m   1429\u001b[39m \u001b[43m        \u001b[49m\u001b[33;43m'\u001b[39;49m\u001b[33;43mserialize\u001b[39;49m\u001b[33;43m'\u001b[39;49m\u001b[43m)\u001b[49m\n\u001b[32m   1431\u001b[39m     \u001b[38;5;28;01mreturn\u001b[39;00m serialize_function(\n\u001b[32m   1432\u001b[39m         schema,\n\u001b[32m   1433\u001b[39m         state,\n\u001b[32m   1434\u001b[39m         \u001b[38;5;28mself\u001b[39m)\n",
      "\u001b[36mFile \u001b[39m\u001b[32m~/Desktop/repos/bigraph-schema/bigraph_schema/type_system.py:765\u001b[39m, in \u001b[36mTypeSystem.choose_method\u001b[39m\u001b[34m(self, schema, state, method_name)\u001b[39m\n\u001b[32m    761\u001b[39m method_function = registry.access(\n\u001b[32m    762\u001b[39m     found)\n\u001b[32m    764\u001b[39m \u001b[38;5;28;01mif\u001b[39;00m method_function \u001b[38;5;129;01mis\u001b[39;00m \u001b[38;5;28;01mNone\u001b[39;00m:\n\u001b[32m--> \u001b[39m\u001b[32m765\u001b[39m     \u001b[38;5;28;01mraise\u001b[39;00m \u001b[38;5;167;01mException\u001b[39;00m(\u001b[33mf\u001b[39m\u001b[33m'\u001b[39m\u001b[33mno method \u001b[39m\u001b[33m\"\u001b[39m\u001b[38;5;132;01m{\u001b[39;00mmethod_name\u001b[38;5;132;01m}\u001b[39;00m\u001b[33m\"\u001b[39m\u001b[33m found for state \u001b[39m\u001b[38;5;132;01m{\u001b[39;00mstate\u001b[38;5;132;01m}\u001b[39;00m\u001b[33m and schema \u001b[39m\u001b[38;5;132;01m{\u001b[39;00mschema\u001b[38;5;132;01m}\u001b[39;00m\u001b[33m'\u001b[39m)\n\u001b[32m    767\u001b[39m \u001b[38;5;28;01mreturn\u001b[39;00m method_function\n",
      "\u001b[31mException\u001b[39m: no method \"serialize\" found for state [] and schema {'_type': 'list[tuple]', '_default': [], '_check': 'check_list', '_slice': 'slice_list', '_apply': <function bulk_numpy_updater at 0x12b925ee0>, '_serialize': <class 'ecoli.library.schema.get_bulk_counts'>, '_deserialize': 'deserialize_list', '_dataclass': 'dataclass_list', '_fold': 'fold_list', '_divide': <function divide_bulk at 0x12b926340>, '_type_parameters': ['element'], '_description': 'general list type (or sublists)', '_element': {'_type': 'tuple', '_default': 'default_tuple', '_apply': 'apply_tuple', '_check': 'check_tuple', '_slice': 'slice_tuple', '_serialize': 'serialize_tuple', '_deserialize': 'deserialize_tuple', '_dataclass': 'dataclass_tuple', '_fold': 'fold_tuple', '_divide': 'divide_tuple', '_bind': 'bind_tuple', '_description': 'tuple of an ordered set of typed values'}}"
     ]
    }
   ],
   "source": [
    "viv.make_document()"
   ]
  },
  {
   "cell_type": "code",
   "execution_count": 6,
   "id": "7c458605-e792-403c-9e1c-a64385777c21",
   "metadata": {},
   "outputs": [
    {
     "data": {
      "text/plain": [
       "[{'global_time': 0.0,\n",
       "  'bulk': [],\n",
       "  'listeners': {'replication_data': {'i': 0.4806334555195192,\n",
       "    'j': 0.05948634812681208},\n",
       "   'rRNA': array([0.59227979, 0.630577  , 0.3686462 , 0.16954703, 0.66315774,\n",
       "          0.91253483]),\n",
       "   'mass': {'cell': 0.6894568486785687}},\n",
       "  'environment': {'media_id': ''},\n",
       "  'timestep': 0.0},\n",
       " {'global_time': 1.0,\n",
       "  'bulk': [],\n",
       "  'listeners': {'replication_data': {'i': 6870.5773753302365,\n",
       "    'j': 850.347708607428},\n",
       "   'rRNA': array([ 8466.63964896,  9014.09823583,  5269.79739071,  2423.67481788,\n",
       "           9479.8399548 , 13044.68544279]),\n",
       "   'mass': {'cell': 0.6894568486785687}},\n",
       "  'environment': {'media_id': ''},\n",
       "  'timestep': 1.0},\n",
       " {'global_time': 2.0,\n",
       "  'bulk': [],\n",
       "  'listeners': {'replication_data': {'i': 98213790.42242445,\n",
       "    'j': 12155582.722819502},\n",
       "   'rRNA': array([1.21030614e+08, 1.28856534e+08, 7.53317537e+07, 3.46464315e+07,\n",
       "          1.35514312e+08, 1.86473778e+08]),\n",
       "   'mass': {'cell': 0.6894568486785687}},\n",
       "  'environment': {'media_id': ''},\n",
       "  'timestep': 2.0},\n",
       " {'global_time': 3.0,\n",
       "  'bulk': [],\n",
       "  'listeners': {'replication_data': {'i': 1403950221676.4312,\n",
       "    'j': 173762085598.2371},\n",
       "   'rRNA': array([1.73013262e+12, 1.84200416e+12, 1.07686742e+12, 4.95270739e+11,\n",
       "          1.93717709e+12, 2.66564266e+12]),\n",
       "   'mass': {'cell': 0.6894568486785687}},\n",
       "  'environment': {'media_id': ''},\n",
       "  'timestep': 3.0},\n",
       " {'global_time': 4.0,\n",
       "  'bulk': [],\n",
       "  'listeners': {'replication_data': {'i': 2.0069240953511336e+16,\n",
       "    'j': 2483900861023116.0},\n",
       "   'rRNA': array([2.47322459e+16, 2.63314494e+16, 1.53938198e+16, 7.07989521e+15,\n",
       "          2.76919465e+16, 3.81053619e+16]),\n",
       "   'mass': {'cell': 0.6894568486785687}},\n",
       "  'environment': {'media_id': ''},\n",
       "  'timestep': 4.0},\n",
       " {'global_time': 5.0,\n",
       "  'bulk': [],\n",
       "  'listeners': {'replication_data': {'i': 2.868865478500734e+20,\n",
       "    'j': 3.5506960371417027e+19},\n",
       "   'rRNA': array([3.53547455e+20, 3.76408070e+20, 2.20054653e+20, 1.01207102e+20,\n",
       "          3.95856376e+20, 5.44716148e+20]),\n",
       "   'mass': {'cell': 0.6894568486785687}},\n",
       "  'environment': {'media_id': ''},\n",
       "  'timestep': 5.0}]"
      ]
     },
     "execution_count": 6,
     "metadata": {},
     "output_type": "execute_result"
    }
   ],
   "source": [
    "viv.get_results()"
   ]
  },
  {
   "cell_type": "code",
   "execution_count": 7,
   "id": "59d0729f-6a85-4389-bb8f-f7c8cdcd4cd0",
   "metadata": {},
   "outputs": [
    {
     "data": {
      "text/html": [
       "<div>\n",
       "<style scoped>\n",
       "    .dataframe tbody tr th:only-of-type {\n",
       "        vertical-align: middle;\n",
       "    }\n",
       "\n",
       "    .dataframe tbody tr th {\n",
       "        vertical-align: top;\n",
       "    }\n",
       "\n",
       "    .dataframe thead th {\n",
       "        text-align: right;\n",
       "    }\n",
       "</style>\n",
       "<table border=\"1\" class=\"dataframe\">\n",
       "  <thead>\n",
       "    <tr style=\"text-align: right;\">\n",
       "      <th></th>\n",
       "      <th>global_time</th>\n",
       "      <th>bulk</th>\n",
       "      <th>listeners.replication_data.i</th>\n",
       "      <th>listeners.replication_data.j</th>\n",
       "      <th>listeners.rRNA</th>\n",
       "      <th>listeners.mass.cell</th>\n",
       "      <th>environment.media_id</th>\n",
       "      <th>timestep</th>\n",
       "    </tr>\n",
       "  </thead>\n",
       "  <tbody>\n",
       "    <tr>\n",
       "      <th>0</th>\n",
       "      <td>0.0</td>\n",
       "      <td>[]</td>\n",
       "      <td>4.806335e-01</td>\n",
       "      <td>5.948635e-02</td>\n",
       "      <td>[0.5922797935615909, 0.6305770014570625, 0.368...</td>\n",
       "      <td>0.689457</td>\n",
       "      <td></td>\n",
       "      <td>0.0</td>\n",
       "    </tr>\n",
       "    <tr>\n",
       "      <th>1</th>\n",
       "      <td>1.0</td>\n",
       "      <td>[]</td>\n",
       "      <td>6.870577e+03</td>\n",
       "      <td>8.503477e+02</td>\n",
       "      <td>[8466.639648962942, 9014.09823582871, 5269.797...</td>\n",
       "      <td>0.689457</td>\n",
       "      <td></td>\n",
       "      <td>1.0</td>\n",
       "    </tr>\n",
       "    <tr>\n",
       "      <th>2</th>\n",
       "      <td>2.0</td>\n",
       "      <td>[]</td>\n",
       "      <td>9.821379e+07</td>\n",
       "      <td>1.215558e+07</td>\n",
       "      <td>[121030613.78192526, 128856534.2811714, 753317...</td>\n",
       "      <td>0.689457</td>\n",
       "      <td></td>\n",
       "      <td>2.0</td>\n",
       "    </tr>\n",
       "    <tr>\n",
       "      <th>3</th>\n",
       "      <td>3.0</td>\n",
       "      <td>[]</td>\n",
       "      <td>1.403950e+12</td>\n",
       "      <td>1.737621e+11</td>\n",
       "      <td>[1730132624012.6216, 1842004157549.3452, 10768...</td>\n",
       "      <td>0.689457</td>\n",
       "      <td></td>\n",
       "      <td>3.0</td>\n",
       "    </tr>\n",
       "    <tr>\n",
       "      <th>4</th>\n",
       "      <td>4.0</td>\n",
       "      <td>[]</td>\n",
       "      <td>2.006924e+16</td>\n",
       "      <td>2.483901e+15</td>\n",
       "      <td>[2.4732245860260424e+16, 2.633144943216789e+16...</td>\n",
       "      <td>0.689457</td>\n",
       "      <td></td>\n",
       "      <td>4.0</td>\n",
       "    </tr>\n",
       "    <tr>\n",
       "      <th>5</th>\n",
       "      <td>5.0</td>\n",
       "      <td>[]</td>\n",
       "      <td>2.868865e+20</td>\n",
       "      <td>3.550696e+19</td>\n",
       "      <td>[3.5354745457242276e+20, 3.764080696328399e+20...</td>\n",
       "      <td>0.689457</td>\n",
       "      <td></td>\n",
       "      <td>5.0</td>\n",
       "    </tr>\n",
       "  </tbody>\n",
       "</table>\n",
       "</div>"
      ],
      "text/plain": [
       "   global_time bulk  listeners.replication_data.i  \\\n",
       "0          0.0   []                  4.806335e-01   \n",
       "1          1.0   []                  6.870577e+03   \n",
       "2          2.0   []                  9.821379e+07   \n",
       "3          3.0   []                  1.403950e+12   \n",
       "4          4.0   []                  2.006924e+16   \n",
       "5          5.0   []                  2.868865e+20   \n",
       "\n",
       "   listeners.replication_data.j  \\\n",
       "0                  5.948635e-02   \n",
       "1                  8.503477e+02   \n",
       "2                  1.215558e+07   \n",
       "3                  1.737621e+11   \n",
       "4                  2.483901e+15   \n",
       "5                  3.550696e+19   \n",
       "\n",
       "                                      listeners.rRNA  listeners.mass.cell  \\\n",
       "0  [0.5922797935615909, 0.6305770014570625, 0.368...             0.689457   \n",
       "1  [8466.639648962942, 9014.09823582871, 5269.797...             0.689457   \n",
       "2  [121030613.78192526, 128856534.2811714, 753317...             0.689457   \n",
       "3  [1730132624012.6216, 1842004157549.3452, 10768...             0.689457   \n",
       "4  [2.4732245860260424e+16, 2.633144943216789e+16...             0.689457   \n",
       "5  [3.5354745457242276e+20, 3.764080696328399e+20...             0.689457   \n",
       "\n",
       "  environment.media_id  timestep  \n",
       "0                            0.0  \n",
       "1                            1.0  \n",
       "2                            2.0  \n",
       "3                            3.0  \n",
       "4                            4.0  \n",
       "5                            5.0  "
      ]
     },
     "execution_count": 7,
     "metadata": {},
     "output_type": "execute_result"
    }
   ],
   "source": [
    "viv.get_timeseries()"
   ]
  },
  {
   "cell_type": "code",
   "execution_count": 8,
   "id": "cb9f4128-9dd1-457a-a5cb-f4eeb6a1c01b",
   "metadata": {},
   "outputs": [],
   "source": [
    "from ecoli.experiments.ecoli_master_sim import SimConfig"
   ]
  },
  {
   "cell_type": "code",
   "execution_count": 19,
   "id": "52154d8d-8138-41da-ad46-5cc135a6650c",
   "metadata": {},
   "outputs": [],
   "source": [
    "config = SimConfig()"
   ]
  },
  {
   "cell_type": "code",
   "execution_count": 21,
   "id": "2d71c700-70a3-4975-9174-8a04badc9eca",
   "metadata": {},
   "outputs": [
    {
     "data": {
      "text/plain": [
       "['__class__',\n",
       " '__delattr__',\n",
       " '__dict__',\n",
       " '__dir__',\n",
       " '__doc__',\n",
       " '__eq__',\n",
       " '__format__',\n",
       " '__ge__',\n",
       " '__getattribute__',\n",
       " '__getitem__',\n",
       " '__getstate__',\n",
       " '__gt__',\n",
       " '__hash__',\n",
       " '__init__',\n",
       " '__init_subclass__',\n",
       " '__le__',\n",
       " '__lt__',\n",
       " '__module__',\n",
       " '__ne__',\n",
       " '__new__',\n",
       " '__reduce__',\n",
       " '__reduce_ex__',\n",
       " '__repr__',\n",
       " '__setattr__',\n",
       " '__setitem__',\n",
       " '__sizeof__',\n",
       " '__str__',\n",
       " '__subclasshook__',\n",
       " '__weakref__',\n",
       " '_config',\n",
       " 'default_config_path',\n",
       " 'get',\n",
       " 'keys',\n",
       " 'merge_config_dicts',\n",
       " 'parser',\n",
       " 'to_dict',\n",
       " 'update_from_cli',\n",
       " 'update_from_dict',\n",
       " 'update_from_json']"
      ]
     },
     "execution_count": 21,
     "metadata": {},
     "output_type": "execute_result"
    }
   ],
   "source": [
    "dir(config)"
   ]
  },
  {
   "cell_type": "code",
   "execution_count": 16,
   "id": "f39d09ea-c881-472f-b76d-4e7ba067020e",
   "metadata": {},
   "outputs": [],
   "source": [
    "n = np.random.randint(1,11)\n",
    "x = np.zeros((n,))"
   ]
  },
  {
   "cell_type": "code",
   "execution_count": 9,
   "id": "e6d3a1b9-e333-40dc-8c2f-fc3d39ea4f20",
   "metadata": {},
   "outputs": [
    {
     "data": {
      "text/plain": [
       "[{'duration': np.float64(0.5882809324478524),\n",
       "  'data': {'global_time': 0.0,\n",
       "   'bulk': [],\n",
       "   'listeners': {'replication_data': {'i': 0.4806334555195192,\n",
       "     'j': 0.05948634812681208},\n",
       "    'rRNA': array([0.59227979, 0.630577  , 0.3686462 , 0.16954703, 0.66315774,\n",
       "           0.91253483]),\n",
       "    'mass': {'cell': 0.6894568486785687}},\n",
       "   'environment': {'media_id': ''},\n",
       "   'timestep': 0.0}},\n",
       " {'duration': np.float64(0.6205691171702246),\n",
       "  'data': {'global_time': 1.0,\n",
       "   'bulk': [],\n",
       "   'listeners': {'replication_data': {'i': 6870.5773753302365,\n",
       "     'j': 850.347708607428},\n",
       "    'rRNA': array([ 8466.63964896,  9014.09823583,  5269.79739071,  2423.67481788,\n",
       "            9479.8399548 , 13044.68544279]),\n",
       "    'mass': {'cell': 0.6894568486785687}},\n",
       "   'environment': {'media_id': ''},\n",
       "   'timestep': 1.0}},\n",
       " {'duration': np.float64(0.8068815672193903),\n",
       "  'data': {'global_time': 2.0,\n",
       "   'bulk': [],\n",
       "   'listeners': {'replication_data': {'i': 98213790.42242445,\n",
       "     'j': 12155582.722819502},\n",
       "    'rRNA': array([1.21030614e+08, 1.28856534e+08, 7.53317537e+07, 3.46464315e+07,\n",
       "           1.35514312e+08, 1.86473778e+08]),\n",
       "    'mass': {'cell': 0.6894568486785687}},\n",
       "   'environment': {'media_id': ''},\n",
       "   'timestep': 2.0}},\n",
       " {'duration': np.float64(0.3740555436515214),\n",
       "  'data': {'global_time': 2.0,\n",
       "   'bulk': [],\n",
       "   'listeners': {'replication_data': {'i': 98213790.42242445,\n",
       "     'j': 12155582.722819502},\n",
       "    'rRNA': array([1.21030614e+08, 1.28856534e+08, 7.53317537e+07, 3.46464315e+07,\n",
       "           1.35514312e+08, 1.86473778e+08]),\n",
       "    'mass': {'cell': 0.6894568486785687}},\n",
       "   'environment': {'media_id': ''},\n",
       "   'timestep': 2.0}},\n",
       " {'duration': np.float64(0.6607158980095723),\n",
       "  'data': {'global_time': 3.0,\n",
       "   'bulk': [],\n",
       "   'listeners': {'replication_data': {'i': 1403950221676.4312,\n",
       "     'j': 173762085598.2371},\n",
       "    'rRNA': array([1.73013262e+12, 1.84200416e+12, 1.07686742e+12, 4.95270739e+11,\n",
       "           1.93717709e+12, 2.66564266e+12]),\n",
       "    'mass': {'cell': 0.6894568486785687}},\n",
       "   'environment': {'media_id': ''},\n",
       "   'timestep': 3.0}},\n",
       " {'duration': np.float64(0.5710094979617635),\n",
       "  'data': {'global_time': 3.0,\n",
       "   'bulk': [],\n",
       "   'listeners': {'replication_data': {'i': 1403950221676.4312,\n",
       "     'j': 173762085598.2371},\n",
       "    'rRNA': array([1.73013262e+12, 1.84200416e+12, 1.07686742e+12, 4.95270739e+11,\n",
       "           1.93717709e+12, 2.66564266e+12]),\n",
       "    'mass': {'cell': 0.6894568486785687}},\n",
       "   'environment': {'media_id': ''},\n",
       "   'timestep': 3.0}},\n",
       " {'duration': np.float64(0.525960195233057),\n",
       "  'data': {'global_time': 4.0,\n",
       "   'bulk': [],\n",
       "   'listeners': {'replication_data': {'i': 2.0069240953511336e+16,\n",
       "     'j': 2483900861023116.0},\n",
       "    'rRNA': array([2.47322459e+16, 2.63314494e+16, 1.53938198e+16, 7.07989521e+15,\n",
       "           2.76919465e+16, 3.81053619e+16]),\n",
       "    'mass': {'cell': 0.6894568486785687}},\n",
       "   'environment': {'media_id': ''},\n",
       "   'timestep': 4.0}},\n",
       " {'duration': np.float64(0.03352148996121629),\n",
       "  'data': {'global_time': 4.0,\n",
       "   'bulk': [],\n",
       "   'listeners': {'replication_data': {'i': 2.0069240953511336e+16,\n",
       "     'j': 2483900861023116.0},\n",
       "    'rRNA': array([2.47322459e+16, 2.63314494e+16, 1.53938198e+16, 7.07989521e+15,\n",
       "           2.76919465e+16, 3.81053619e+16]),\n",
       "    'mass': {'cell': 0.6894568486785687}},\n",
       "   'environment': {'media_id': ''},\n",
       "   'timestep': 4.0}},\n",
       " {'duration': np.float64(0.24877109994959445),\n",
       "  'data': {'global_time': 4.0,\n",
       "   'bulk': [],\n",
       "   'listeners': {'replication_data': {'i': 2.0069240953511336e+16,\n",
       "     'j': 2483900861023116.0},\n",
       "    'rRNA': array([2.47322459e+16, 2.63314494e+16, 1.53938198e+16, 7.07989521e+15,\n",
       "           2.76919465e+16, 3.81053619e+16]),\n",
       "    'mass': {'cell': 0.6894568486785687}},\n",
       "   'environment': {'media_id': ''},\n",
       "   'timestep': 4.0}},\n",
       " {'duration': np.float64(0.8911763243343772),\n",
       "  'data': {'global_time': 5.0,\n",
       "   'bulk': [],\n",
       "   'listeners': {'replication_data': {'i': 2.868865478500734e+20,\n",
       "     'j': 3.5506960371417027e+19},\n",
       "    'rRNA': array([3.53547455e+20, 3.76408070e+20, 2.20054653e+20, 1.01207102e+20,\n",
       "           3.95856376e+20, 5.44716148e+20]),\n",
       "    'mass': {'cell': 0.6894568486785687}},\n",
       "   'environment': {'media_id': ''},\n",
       "   'timestep': 5.0}},\n",
       " {'duration': np.float64(0.01753558828311308),\n",
       "  'data': {'global_time': 5.0,\n",
       "   'bulk': [],\n",
       "   'listeners': {'replication_data': {'i': 2.868865478500734e+20,\n",
       "     'j': 3.5506960371417027e+19},\n",
       "    'rRNA': array([3.53547455e+20, 3.76408070e+20, 2.20054653e+20, 1.01207102e+20,\n",
       "           3.95856376e+20, 5.44716148e+20]),\n",
       "    'mass': {'cell': 0.6894568486785687}},\n",
       "   'environment': {'media_id': ''},\n",
       "   'timestep': 5.0}}]"
      ]
     },
     "execution_count": 9,
     "metadata": {},
     "output_type": "execute_result"
    }
   ],
   "source": [
    "results"
   ]
  },
  {
   "cell_type": "code",
   "execution_count": 8,
   "id": "c5eaeaf0-fd71-41af-bef8-37bae4e1abd6",
   "metadata": {},
   "outputs": [],
   "source": [
    "import numpy as np\n",
    "coords = []\n",
    "getCoords = ((\n",
    "    map(\n",
    "        lambda v: v**v / v,\n",
    "        np.random.random((11,)).tolist()\n",
    "    )\n",
    "))"
   ]
  },
  {
   "cell_type": "code",
   "execution_count": 9,
   "id": "f463dbe5-5a84-48d8-95a0-6f86bf0ff126",
   "metadata": {},
   "outputs": [
    {
     "name": "stdout",
     "output_type": "stream",
     "text": [
      "2.491581280065981\n",
      "25.99649272137472\n",
      "1.00884109254635\n",
      "1.1895802899347374\n",
      "1.9358864184890763\n",
      "1.0188348334522326\n",
      "3.9796164211391187\n",
      "1.2880151138688403\n",
      "1.348989908171287\n",
      "1.1793719828385398\n",
      "7.137569204168612\n"
     ]
    }
   ],
   "source": [
    "for _ in range(11):\n",
    "    val_i = next(getCoords)\n",
    "    print(val_i)"
   ]
  },
  {
   "cell_type": "code",
   "execution_count": 23,
   "id": "164deff8-c46a-467b-aac6-a0ecb0872806",
   "metadata": {},
   "outputs": [],
   "source": [
    "class Data:\n",
    "    def __init__(self):\n",
    "        self.corpus = np.random.random(self.shape).tolist()\n",
    "        self.value_iterator = iter(self.corpus)\n",
    "\n",
    "    @property\n",
    "    def shape(self):\n",
    "        bounds = (11, 22)\n",
    "        generate = lambda: np.random.randint(*bounds)\n",
    "        return (generate(), generate())\n",
    "    \n",
    "    @property\n",
    "    def value(self):\n",
    "        return next(self.value_iterator)\n",
    "\n",
    "    def __next__(self):\n",
    "        return next(self.value_iterator)"
   ]
  },
  {
   "cell_type": "code",
   "execution_count": 24,
   "id": "e8aef3be-c146-4a9f-a809-8bafa0f9325e",
   "metadata": {},
   "outputs": [],
   "source": [
    "d = Data()"
   ]
  },
  {
   "cell_type": "code",
   "execution_count": 32,
   "id": "227c5030-3432-4921-910e-78713d58afa6",
   "metadata": {},
   "outputs": [
    {
     "data": {
      "text/plain": [
       "False"
      ]
     },
     "execution_count": 32,
     "metadata": {},
     "output_type": "execute_result"
    }
   ],
   "source": [
    "class ResponseData:\n",
    "    def __"
   ]
  },
  {
   "cell_type": "code",
   "execution_count": 40,
   "id": "4b94186c-e510-4be4-81dc-8114a6566c7f",
   "metadata": {},
   "outputs": [],
   "source": [
    "import dataclasses\n",
    "import pickle\n",
    "import uuid\n",
    "import fastapi\n",
    "from fastapi import FastAPI, BackgroundTasks, Request\n",
    "from asyncio import Queue\n",
    "import asyncio\n",
    "\n",
    "from fastapi.datastructures import QueryParams\n",
    "from vivarium.vivarium import Vivarium"
   ]
  },
  {
   "cell_type": "code",
   "execution_count": 41,
   "id": "b2e17f50-aaf3-495d-bdb6-71e1f63bea1a",
   "metadata": {},
   "outputs": [],
   "source": [
    "params = QueryParams(dict(zip(['x', 'y', 'z'], [11.11, 22.2, 11.22])))"
   ]
  },
  {
   "cell_type": "code",
   "execution_count": 42,
   "id": "2c0ecacd-8627-495d-81f8-1df48d1adebe",
   "metadata": {},
   "outputs": [
    {
     "data": {
      "text/plain": [
       "11.11"
      ]
     },
     "execution_count": 42,
     "metadata": {},
     "output_type": "execute_result"
    }
   ],
   "source": [
    "eval(params.get('x'))"
   ]
  },
  {
   "cell_type": "code",
   "execution_count": 45,
   "id": "3a6fe31e-4d37-4b90-bd49-d39fcef8bd46",
   "metadata": {},
   "outputs": [],
   "source": [
    "r = Request({'type': 'http'}, query_)"
   ]
  },
  {
   "cell_type": "code",
   "execution_count": 11,
   "id": "4fa6ecc2-639a-4fe4-91b6-b7ac172dcdbc",
   "metadata": {},
   "outputs": [],
   "source": [
    "get_times = lambda dur, dt: np.arange(0, dur, dt).tolist()"
   ]
  },
  {
   "cell_type": "code",
   "execution_count": 12,
   "id": "c1c3158d-5369-470f-a381-2c8ba151a160",
   "metadata": {},
   "outputs": [],
   "source": [
    "dur = 11\n",
    "dt = 0.00022\n",
    "times = get_times(dur, dt)"
   ]
  },
  {
   "cell_type": "code",
   "execution_count": null,
   "id": "c52f7056-7f8e-446a-a73b-dcae7d355960",
   "metadata": {},
   "outputs": [],
   "source": [
    "times"
   ]
  },
  {
   "cell_type": "code",
   "execution_count": 9,
   "id": "0cda0045-02e3-4914-a1f5-fc4b77df913c",
   "metadata": {},
   "outputs": [],
   "source": [
    "from process_bigraph import pp, ProcessTypes"
   ]
  },
  {
   "cell_type": "code",
   "execution_count": 10,
   "id": "52eb3719-deb6-4306-923c-50add86cf262",
   "metadata": {},
   "outputs": [],
   "source": [
    "from api.tests.test_processes import Func, SimpleTest\n",
    "core = ProcessTypes()\n",
    "core.process_registry.register('func', Func)\n",
    "core.process_registry.register('simple-test', SimpleTest)"
   ]
  },
  {
   "cell_type": "code",
   "execution_count": 15,
   "id": "9653de91-b6ff-4b1a-8357-ac772ca64012",
   "metadata": {},
   "outputs": [
    {
     "ename": "NameError",
     "evalue": "name 'null' is not defined",
     "output_type": "error",
     "traceback": [
      "\u001b[31m---------------------------------------------------------------------------\u001b[39m",
      "\u001b[31mNameError\u001b[39m                                 Traceback (most recent call last)",
      "\u001b[36mCell\u001b[39m\u001b[36m \u001b[39m\u001b[32mIn[15]\u001b[39m\u001b[32m, line 97\u001b[39m\n\u001b[32m      1\u001b[39m \u001b[38;5;28;01mfrom\u001b[39;00m\u001b[38;5;250m \u001b[39m\u001b[34;01mvivarium\u001b[39;00m\u001b[34;01m.\u001b[39;00m\u001b[34;01mvivarium\u001b[39;00m\u001b[38;5;250m \u001b[39m\u001b[38;5;28;01mimport\u001b[39;00m Vivarium\n\u001b[32m      3\u001b[39m doc = {\n\u001b[32m      4\u001b[39m         \u001b[33m'\u001b[39m\u001b[33mstate\u001b[39m\u001b[33m'\u001b[39m: {\n\u001b[32m      5\u001b[39m             \u001b[33m'\u001b[39m\u001b[33mx\u001b[39m\u001b[33m'\u001b[39m: {\n\u001b[32m   (...)\u001b[39m\u001b[32m     17\u001b[39m         }\n\u001b[32m     18\u001b[39m     }\n\u001b[32m     20\u001b[39m doc2 = {\n\u001b[32m     21\u001b[39m     \u001b[33m\"\u001b[39m\u001b[33mstate\u001b[39m\u001b[33m\"\u001b[39m: {\n\u001b[32m     22\u001b[39m         \u001b[33m\"\u001b[39m\u001b[33mglobal_time\u001b[39m\u001b[33m\"\u001b[39m: \u001b[33m\"\u001b[39m\u001b[33m0.0\u001b[39m\u001b[33m\"\u001b[39m,\n\u001b[32m     23\u001b[39m         \u001b[33m\"\u001b[39m\u001b[33mfunc\u001b[39m\u001b[33m\"\u001b[39m: {\n\u001b[32m     24\u001b[39m             \u001b[33m\"\u001b[39m\u001b[33minputs\u001b[39m\u001b[33m\"\u001b[39m: {\n\u001b[32m     25\u001b[39m                 \u001b[33m\"\u001b[39m\u001b[33mbulk\u001b[39m\u001b[33m\"\u001b[39m: [\n\u001b[32m     26\u001b[39m                     \u001b[33m\"\u001b[39m\u001b[33mbulk\u001b[39m\u001b[33m\"\u001b[39m\n\u001b[32m     27\u001b[39m                 ],\n\u001b[32m     28\u001b[39m                 \u001b[33m\"\u001b[39m\u001b[33mlisteners\u001b[39m\u001b[33m\"\u001b[39m: [\n\u001b[32m     29\u001b[39m                     \u001b[33m\"\u001b[39m\u001b[33mlisteners\u001b[39m\u001b[33m\"\u001b[39m\n\u001b[32m     30\u001b[39m                 ],\n\u001b[32m     31\u001b[39m                 \u001b[33m\"\u001b[39m\u001b[33menvironment\u001b[39m\u001b[33m\"\u001b[39m: [\n\u001b[32m     32\u001b[39m                     \u001b[33m\"\u001b[39m\u001b[33menvironment\u001b[39m\u001b[33m\"\u001b[39m\n\u001b[32m     33\u001b[39m                 ]\n\u001b[32m     34\u001b[39m             },\n\u001b[32m     35\u001b[39m             \u001b[33m\"\u001b[39m\u001b[33moutputs\u001b[39m\u001b[33m\"\u001b[39m: {\n\u001b[32m     36\u001b[39m                 \u001b[33m\"\u001b[39m\u001b[33mlisteners\u001b[39m\u001b[33m\"\u001b[39m: [\n\u001b[32m     37\u001b[39m                     \u001b[33m\"\u001b[39m\u001b[33mlisteners\u001b[39m\u001b[33m\"\u001b[39m\n\u001b[32m     38\u001b[39m                 ]\n\u001b[32m     39\u001b[39m             },\n\u001b[32m     40\u001b[39m             \u001b[33m\"\u001b[39m\u001b[33minterval\u001b[39m\u001b[33m\"\u001b[39m: \u001b[32m1.0\u001b[39m,\n\u001b[32m     41\u001b[39m             \u001b[33m\"\u001b[39m\u001b[33maddress\u001b[39m\u001b[33m\"\u001b[39m: \u001b[33m\"\u001b[39m\u001b[33mlocal:func\u001b[39m\u001b[33m\"\u001b[39m,\n\u001b[32m     42\u001b[39m             \u001b[33m\"\u001b[39m\u001b[33mconfig\u001b[39m\u001b[33m\"\u001b[39m: {\n\u001b[32m     43\u001b[39m                 \u001b[33m\"\u001b[39m\u001b[33mk\u001b[39m\u001b[33m\"\u001b[39m: \u001b[33m\"\u001b[39m\u001b[33m0.0\u001b[39m\u001b[33m\"\u001b[39m,\n\u001b[32m     44\u001b[39m                 \u001b[33m\"\u001b[39m\u001b[33mn_rna\u001b[39m\u001b[33m\"\u001b[39m: \u001b[33m\"\u001b[39m\u001b[33m!nil\u001b[39m\u001b[33m\"\u001b[39m\n\u001b[32m     45\u001b[39m             },\n\u001b[32m     46\u001b[39m             \u001b[33m\"\u001b[39m\u001b[33mshared\u001b[39m\u001b[33m\"\u001b[39m: {}\n\u001b[32m     47\u001b[39m         },\n\u001b[32m     48\u001b[39m         \u001b[33m\"\u001b[39m\u001b[33mbulk\u001b[39m\u001b[33m\"\u001b[39m: [\n\u001b[32m     49\u001b[39m             []\n\u001b[32m     50\u001b[39m         ],\n\u001b[32m     51\u001b[39m         \u001b[33m\"\u001b[39m\u001b[33mlisteners\u001b[39m\u001b[33m\"\u001b[39m: {\n\u001b[32m     52\u001b[39m             \u001b[33m\"\u001b[39m\u001b[33mmass\u001b[39m\u001b[33m\"\u001b[39m: {\n\u001b[32m     53\u001b[39m                 \u001b[33m\"\u001b[39m\u001b[33mcell\u001b[39m\u001b[33m\"\u001b[39m: \u001b[33m\"\u001b[39m\u001b[33m0.9154434399648245\u001b[39m\u001b[33m\"\u001b[39m\n\u001b[32m     54\u001b[39m             },\n\u001b[32m     55\u001b[39m             \u001b[33m\"\u001b[39m\u001b[33mreplication_data\u001b[39m\u001b[33m\"\u001b[39m: {\n\u001b[32m     56\u001b[39m                 \u001b[33m\"\u001b[39m\u001b[33mi\u001b[39m\u001b[33m\"\u001b[39m: \u001b[33m\"\u001b[39m\u001b[33m0.5463138160228774\u001b[39m\u001b[33m\"\u001b[39m,\n\u001b[32m     57\u001b[39m                 \u001b[33m\"\u001b[39m\u001b[33mj\u001b[39m\u001b[33m\"\u001b[39m: \u001b[33m\"\u001b[39m\u001b[33m0.73607425441701\u001b[39m\u001b[33m\"\u001b[39m\n\u001b[32m     58\u001b[39m             },\n\u001b[32m     59\u001b[39m             \u001b[33m\"\u001b[39m\u001b[33mrRNA\u001b[39m\u001b[33m\"\u001b[39m: [\n\u001b[32m     60\u001b[39m                 \u001b[33m\"\u001b[39m\u001b[33m0.6695704180720157\u001b[39m\u001b[33m\"\u001b[39m,\n\u001b[32m     61\u001b[39m                 \u001b[33m\"\u001b[39m\u001b[33m0.1058517535813428\u001b[39m\u001b[33m\"\u001b[39m,\n\u001b[32m     62\u001b[39m                 \u001b[33m\"\u001b[39m\u001b[33m0.7796836175728571\u001b[39m\u001b[33m\"\u001b[39m,\n\u001b[32m     63\u001b[39m                 \u001b[33m\"\u001b[39m\u001b[33m0.033221210885723274\u001b[39m\u001b[33m\"\u001b[39m,\n\u001b[32m     64\u001b[39m                 \u001b[33m\"\u001b[39m\u001b[33m0.011709351683637514\u001b[39m\u001b[33m\"\u001b[39m,\n\u001b[32m     65\u001b[39m                 \u001b[33m\"\u001b[39m\u001b[33m0.9901155071921232\u001b[39m\u001b[33m\"\u001b[39m,\n\u001b[32m     66\u001b[39m                 \u001b[33m\"\u001b[39m\u001b[33m0.5992292173977998\u001b[39m\u001b[33m\"\u001b[39m,\n\u001b[32m     67\u001b[39m                 \u001b[33m\"\u001b[39m\u001b[33m0.37967558092486176\u001b[39m\u001b[33m\"\u001b[39m\n\u001b[32m     68\u001b[39m             ]\n\u001b[32m     69\u001b[39m         },\n\u001b[32m     70\u001b[39m         \u001b[33m\"\u001b[39m\u001b[33menvironment\u001b[39m\u001b[33m\"\u001b[39m: {\n\u001b[32m     71\u001b[39m             \u001b[33m\"\u001b[39m\u001b[33mmedia_id\u001b[39m\u001b[33m\"\u001b[39m: \u001b[33m\"\u001b[39m\u001b[33m\"\u001b[39m\n\u001b[32m     72\u001b[39m         },\n\u001b[32m     73\u001b[39m         \u001b[33m\"\u001b[39m\u001b[33memitter\u001b[39m\u001b[33m\"\u001b[39m: {\n\u001b[32m     74\u001b[39m             \u001b[33m\"\u001b[39m\u001b[33maddress\u001b[39m\u001b[33m\"\u001b[39m: \u001b[33m\"\u001b[39m\u001b[33mlocal:ram-emitter\u001b[39m\u001b[33m\"\u001b[39m,\n\u001b[32m     75\u001b[39m             \u001b[33m\"\u001b[39m\u001b[33mconfig\u001b[39m\u001b[33m\"\u001b[39m: {\n\u001b[32m     76\u001b[39m                 \u001b[33m\"\u001b[39m\u001b[33memit\u001b[39m\u001b[33m\"\u001b[39m: {\n\u001b[32m     77\u001b[39m                     \u001b[33m\"\u001b[39m\u001b[33mglobal_time\u001b[39m\u001b[33m\"\u001b[39m: \u001b[33m\"\u001b[39m\u001b[33many\u001b[39m\u001b[33m\"\u001b[39m,\n\u001b[32m     78\u001b[39m                     \u001b[33m\"\u001b[39m\u001b[33mbulk\u001b[39m\u001b[33m\"\u001b[39m: \u001b[33m\"\u001b[39m\u001b[33many\u001b[39m\u001b[33m\"\u001b[39m,\n\u001b[32m     79\u001b[39m                     \u001b[33m\"\u001b[39m\u001b[33mlisteners\u001b[39m\u001b[33m\"\u001b[39m: \u001b[33m\"\u001b[39m\u001b[33many\u001b[39m\u001b[33m\"\u001b[39m,\n\u001b[32m     80\u001b[39m                     \u001b[33m\"\u001b[39m\u001b[33menvironment\u001b[39m\u001b[33m\"\u001b[39m: \u001b[33m\"\u001b[39m\u001b[33many\u001b[39m\u001b[33m\"\u001b[39m\n\u001b[32m     81\u001b[39m                 }\n\u001b[32m     82\u001b[39m             },\n\u001b[32m     83\u001b[39m             \u001b[33m\"\u001b[39m\u001b[33minputs\u001b[39m\u001b[33m\"\u001b[39m: {\n\u001b[32m     84\u001b[39m                 \u001b[33m\"\u001b[39m\u001b[33mglobal_time\u001b[39m\u001b[33m\"\u001b[39m: [\n\u001b[32m     85\u001b[39m                     \u001b[33m\"\u001b[39m\u001b[33mglobal_time\u001b[39m\u001b[33m\"\u001b[39m\n\u001b[32m     86\u001b[39m                 ],\n\u001b[32m     87\u001b[39m                 \u001b[33m\"\u001b[39m\u001b[33mbulk\u001b[39m\u001b[33m\"\u001b[39m: [\n\u001b[32m     88\u001b[39m                     \u001b[33m\"\u001b[39m\u001b[33mbulk\u001b[39m\u001b[33m\"\u001b[39m\n\u001b[32m     89\u001b[39m                 ],\n\u001b[32m     90\u001b[39m                 \u001b[33m\"\u001b[39m\u001b[33mlisteners\u001b[39m\u001b[33m\"\u001b[39m: [\n\u001b[32m     91\u001b[39m                     \u001b[33m\"\u001b[39m\u001b[33mlisteners\u001b[39m\u001b[33m\"\u001b[39m\n\u001b[32m     92\u001b[39m                 ],\n\u001b[32m     93\u001b[39m                 \u001b[33m\"\u001b[39m\u001b[33menvironment\u001b[39m\u001b[33m\"\u001b[39m: [\n\u001b[32m     94\u001b[39m                     \u001b[33m\"\u001b[39m\u001b[33menvironment\u001b[39m\u001b[33m\"\u001b[39m\n\u001b[32m     95\u001b[39m                 ]\n\u001b[32m     96\u001b[39m             },\n\u001b[32m---> \u001b[39m\u001b[32m97\u001b[39m             \u001b[33m\"\u001b[39m\u001b[33moutputs\u001b[39m\u001b[33m\"\u001b[39m: \u001b[43mnull\u001b[49m\n\u001b[32m     98\u001b[39m         }\n\u001b[32m     99\u001b[39m     },\n\u001b[32m    100\u001b[39m     \u001b[33m\"\u001b[39m\u001b[33mcomposition\u001b[39m\u001b[33m\"\u001b[39m: \u001b[33m\"\u001b[39m\u001b[33m(global_time:float|func:process[(bulk:list[tuple]|listeners:(mass:(cell:float)|replication_data:(i:float|j:float)|rRNA:list)|environment:(media_id:string)),(listeners:(replication_data:(i:float|j:float)|rRNA:list))]|bulk:list[tuple][()]|listeners:(mass:(cell:float)|replication_data:(i:float|j:float)|rRNA:list[()])|environment:(media_id:string)|emitter:step[(global_time:any|bulk:any|listeners:any|environment:any),()])\u001b[39m\u001b[33m\"\u001b[39m\n\u001b[32m    101\u001b[39m }\n\u001b[32m    104\u001b[39m v = Vivarium(core=core, types=core.types(), processes=core.process_registry.registry, document=doc2)\n",
      "\u001b[31mNameError\u001b[39m: name 'null' is not defined"
     ]
    }
   ],
   "source": [
    "from vivarium.vivarium import Vivarium\n",
    "\n",
    "doc = {\n",
    "        'state': {\n",
    "            'x': {\n",
    "                '_type': 'process',\n",
    "                'address': 'local:simple-test',\n",
    "                'inputs': {\n",
    "                    'x': ['x'],\n",
    "                    'y': ['y'],\n",
    "                },\n",
    "                'outputs': {\n",
    "                    'x': ['x'],\n",
    "                    'y': ['y'],\n",
    "                },\n",
    "            }\n",
    "        }\n",
    "    }\n",
    "\n",
    "doc2 = {\n",
    "    \"state\": {\n",
    "        \"global_time\": \"0.0\",\n",
    "        \"func\": {\n",
    "            \"inputs\": {\n",
    "                \"bulk\": [\n",
    "                    \"bulk\"\n",
    "                ],\n",
    "                \"listeners\": [\n",
    "                    \"listeners\"\n",
    "                ],\n",
    "                \"environment\": [\n",
    "                    \"environment\"\n",
    "                ]\n",
    "            },\n",
    "            \"outputs\": {\n",
    "                \"listeners\": [\n",
    "                    \"listeners\"\n",
    "                ]\n",
    "            },\n",
    "            \"interval\": 1.0,\n",
    "            \"address\": \"local:func\",\n",
    "            \"config\": {\n",
    "                \"k\": \"0.0\",\n",
    "                \"n_rna\": \"!nil\"\n",
    "            },\n",
    "            \"shared\": {}\n",
    "        },\n",
    "        \"bulk\": [\n",
    "            []\n",
    "        ],\n",
    "        \"listeners\": {\n",
    "            \"mass\": {\n",
    "                \"cell\": \"0.9154434399648245\"\n",
    "            },\n",
    "            \"replication_data\": {\n",
    "                \"i\": \"0.5463138160228774\",\n",
    "                \"j\": \"0.73607425441701\"\n",
    "            },\n",
    "            \"rRNA\": [\n",
    "                \"0.6695704180720157\",\n",
    "                \"0.1058517535813428\",\n",
    "                \"0.7796836175728571\",\n",
    "                \"0.033221210885723274\",\n",
    "                \"0.011709351683637514\",\n",
    "                \"0.9901155071921232\",\n",
    "                \"0.5992292173977998\",\n",
    "                \"0.37967558092486176\"\n",
    "            ]\n",
    "        },\n",
    "        \"environment\": {\n",
    "            \"media_id\": \"\"\n",
    "        },\n",
    "        \"emitter\": {\n",
    "            \"address\": \"local:ram-emitter\",\n",
    "            \"config\": {\n",
    "                \"emit\": {\n",
    "                    \"global_time\": \"any\",\n",
    "                    \"bulk\": \"any\",\n",
    "                    \"listeners\": \"any\",\n",
    "                    \"environment\": \"any\"\n",
    "                }\n",
    "            },\n",
    "            \"inputs\": {\n",
    "                \"global_time\": [\n",
    "                    \"global_time\"\n",
    "                ],\n",
    "                \"bulk\": [\n",
    "                    \"bulk\"\n",
    "                ],\n",
    "                \"listeners\": [\n",
    "                    \"listeners\"\n",
    "                ],\n",
    "                \"environment\": [\n",
    "                    \"environment\"\n",
    "                ]\n",
    "            },\n",
    "            \"outputs\": null\n",
    "        }\n",
    "    },\n",
    "    \"composition\": \"(global_time:float|func:process[(bulk:list[tuple]|listeners:(mass:(cell:float)|replication_data:(i:float|j:float)|rRNA:list)|environment:(media_id:string)),(listeners:(replication_data:(i:float|j:float)|rRNA:list))]|bulk:list[tuple][()]|listeners:(mass:(cell:float)|replication_data:(i:float|j:float)|rRNA:list[()])|environment:(media_id:string)|emitter:step[(global_time:any|bulk:any|listeners:any|environment:any),()])\"\n",
    "}\n",
    "\n",
    "\n",
    "v = Vivarium(core=core, types=core.types(), processes=core.process_registry.registry, document=doc2)"
   ]
  },
  {
   "cell_type": "code",
   "execution_count": 12,
   "id": "974a8571-0173-41fa-91e8-66bf67555bac",
   "metadata": {},
   "outputs": [],
   "source": [
    "v.add_process('simple', 'simple-test', inputs={'x': ['x'], 'y': ['y']})"
   ]
  },
  {
   "cell_type": "code",
   "execution_count": 13,
   "id": "b5f285ef-ac77-4929-8e59-4e4260865731",
   "metadata": {},
   "outputs": [
    {
     "data": {
      "text/plain": [
       "Vivarium( \n",
       "{ 'global_time': 0.0,\n",
       "  'simple': { 'address': 'local:simple-test',\n",
       "              'config': {},\n",
       "              'inputs': {'x': ['x'], 'y': ['y']},\n",
       "              'instance': <api.tests.test_processes.SimpleTest object at 0x12e63f290>,\n",
       "              'interval': 1.0,\n",
       "              'outputs': {},\n",
       "              'shared': None},\n",
       "  'x': 0.0,\n",
       "  'y': 0.0})"
      ]
     },
     "execution_count": 13,
     "metadata": {},
     "output_type": "execute_result"
    }
   ],
   "source": [
    "v"
   ]
  },
  {
   "cell_type": "code",
   "execution_count": null,
   "id": "56b82c62-80df-4088-a517-307fbd44238a",
   "metadata": {},
   "outputs": [],
   "source": []
  }
 ],
 "metadata": {
  "kernelspec": {
   "display_name": "Python 3 (ipykernel)",
   "language": "python",
   "name": "python3"
  },
  "language_info": {
   "codemirror_mode": {
    "name": "ipython",
    "version": 3
   },
   "file_extension": ".py",
   "mimetype": "text/x-python",
   "name": "python",
   "nbconvert_exporter": "python",
   "pygments_lexer": "ipython3",
   "version": "3.12.8"
  }
 },
 "nbformat": 4,
 "nbformat_minor": 5
}
