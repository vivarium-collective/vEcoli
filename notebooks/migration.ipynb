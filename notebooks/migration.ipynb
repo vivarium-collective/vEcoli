{
 "cells": [
  {
   "cell_type": "code",
   "execution_count": 1,
   "id": "395402e5-4957-4a7f-b73a-0ce5c503bc2e",
   "metadata": {},
   "outputs": [
    {
     "name": "stderr",
     "output_type": "stream",
     "text": [
      "<unknown>:1: SyntaxWarning: invalid escape sequence '\\s'\n"
     ]
    }
   ],
   "source": [
    "from bigraph_schema.units import units, parse_coefficient, parse_dimensionality, render_coefficient, render_units_type\n",
    "from ecoli.shared.registry import ecoli_core as ec\n",
    "from ecoli.shared.utils.schemas import get_defaults_schema\n",
    "from ecoli.migrated.antibiotics.cell_wall import CellWall\n",
    "from ecoli.shared.interface import ProcessBase\n",
    "from vivarium import Vivarium\n",
    "from ecoli.shared.utils.schemas import get_config_schema, collapse_defaults, get_defaults_schema\n",
    "from ecoli.migrated.antibiotics.death import ToyDeath\n",
    "\n",
    "ec.process_registry.register('cell-wall', CellWall)\n",
    "viv = Vivarium(core=ec, types=ec.types())\n",
    "# viv.process_interface('ecoli-cell-wall')"
   ]
  },
  {
   "cell_type": "code",
   "execution_count": 15,
   "id": "d4ba6834-4641-4b2e-b203-19c3a84d4942",
   "metadata": {},
   "outputs": [
    {
     "data": {
      "text/plain": [
       "{'death': {'_type': 'process',\n",
       "  'address': 'local:death',\n",
       "  'inputs': {'internal': ('cell',), 'global': ('global',), 'processes': ()},\n",
       "  'outputs': {'internal': ('cell',), 'global': ('global',), 'processes': ()}},\n",
       " 'injector': {'_type': 'process',\n",
       "  'address': 'local:injector',\n",
       "  'inputs': {'internal': ('cell',)},\n",
       "  'outputs': {'internal': ('cell',)}},\n",
       " 'enduring_injector': {'_type': 'process',\n",
       "  'address': 'local:enduring_injector',\n",
       "  'inputs': {'internal': ('cell',)},\n",
       "  'outputs': {'internal': ('cell',)}}}"
      ]
     },
     "execution_count": 15,
     "metadata": {},
     "output_type": "execute_result"
    }
   ],
   "source": [
    "def infer_state_from_composer(composer):\n",
    "    composition = composer.generate()\n",
    "    processes = composition.get('processes')\n",
    "    topology = composition.get('topology')\n",
    "    \n",
    "    state = {}\n",
    "    for process_id, process in processes.items():\n",
    "        ports = topology.get(process_id)\n",
    "        state[process_id] = {\n",
    "            \"_type\": \"process\",\n",
    "            \"address\": f\"local:{process_id}\",\n",
    "            \"config\": {},  # get config from process\n",
    "            \"inputs\": ports,\n",
    "            \"outputs\": ports\n",
    "        }\n",
    "    return state\n",
    "\n",
    "\n",
    "composer = ToyDeath({})\n",
    "state = infer_state_composition(composer)\n",
    "state"
   ]
  },
  {
   "cell_type": "code",
   "execution_count": 2,
   "id": "14687fce-b296-42c9-aeda-4e8ee062b1d0",
   "metadata": {},
   "outputs": [
    {
     "data": {
      "text/plain": [
       "'CPD-12261[p]'"
      ]
     },
     "execution_count": 2,
     "metadata": {},
     "output_type": "execute_result"
    }
   ],
   "source": [
    "# defining a SubClass \n",
    "class Cell(ProcessBase): \n",
    "    defaults = {\n",
    "        # Molecules\n",
    "        \"murein\": \"CPD-12261[p]\",  # four crosslinked peptidoglycan units\n",
    "        \"PBP\": {  # penicillin-binding proteins\n",
    "            \"PBP1A\": \"CPLX0-7717[m]\",  # transglycosylase-transpeptidase\n",
    "            # PBP1B has three isoforms: α (currently not produced by model),\n",
    "            # β (degradation product of α, not in vivo), and γ (made by model)\n",
    "            \"PBP1B_alpha\": \"CPLX0-3951[i]\",\n",
    "            \"PBP1B_gamma\": \"CPLX0-8300[c]\",\n",
    "        }\n",
    "    }\n",
    "\n",
    "    def initialize(self, config):\n",
    "        self.murein = config['murein']\n",
    "  \n",
    "subclass = Cell({}, ec) \n",
    "subclass.murein"
   ]
  },
  {
   "cell_type": "code",
   "execution_count": 5,
   "id": "b5c57834-b0e2-4ef9-a4e5-aa37c61e13ea",
   "metadata": {},
   "outputs": [
    {
     "data": {
      "text/plain": [
       "1.0"
      ]
     },
     "execution_count": 5,
     "metadata": {},
     "output_type": "execute_result"
    }
   ],
   "source": [
    "subclass.timestep"
   ]
  },
  {
   "cell_type": "code",
   "execution_count": 1,
   "id": "224bb804-0043-4930-8c31-fe7669f3c22e",
   "metadata": {},
   "outputs": [
    {
     "name": "stderr",
     "output_type": "stream",
     "text": [
      "<unknown>:1: SyntaxWarning: invalid escape sequence '\\s'\n"
     ]
    },
    {
     "data": {
      "text/plain": [
       "{'murein': {'_type': 'string', '_default': 'CPD-12261[p]'},\n",
       " 'PBP': {'_type': 'tree',\n",
       "  '_default': {'PBP1A': 'CPLX0-7717[m]',\n",
       "   'PBP1B_alpha': 'CPLX0-3951[i]',\n",
       "   'PBP1B_gamma': 'CPLX0-8300[c]'}},\n",
       " 'time_step': {'_default': 1.0, '_type': 'float'}}"
      ]
     },
     "execution_count": 1,
     "metadata": {},
     "output_type": "execute_result"
    }
   ],
   "source": [
    "from ecoli.shared.utils.schemas import get_config_schema, collapse_defaults, get_defaults_schema\n",
    "\n",
    "class iX:\n",
    "    defaults = {}\n",
    "    config_schema = {}\n",
    "\n",
    "    def __new__(cls, k):\n",
    "        instance = super().__new__(cls)\n",
    "        instance.config_schema = {\n",
    "            **get_config_schema(cls.defaults),\n",
    "            \"time_step\": {\"_default\": 1.0, \"_type\": \"float\"}\n",
    "        }\n",
    "        return instance\n",
    "        \n",
    "    def __init__(self, k):\n",
    "        self.k = k\n",
    "\n",
    "\n",
    "class X1(iX):\n",
    "    defaults = {\n",
    "        \"murein\": \"CPD-12261[p]\",  # four crosslinked peptidoglycan units\n",
    "        \"PBP\": {  # penicillin-binding proteins\n",
    "            \"PBP1A\": \"CPLX0-7717[m]\",  # transglycosylase-transpeptidase\n",
    "            \"PBP1B_alpha\": \"CPLX0-3951[i]\",\n",
    "            \"PBP1B_gamma\": \"CPLX0-8300[c]\",\n",
    "        }\n",
    "    }\n",
    "\n",
    "\n",
    "x = X1(11.11)\n",
    "\n",
    "x.config_schema"
   ]
  },
  {
   "cell_type": "code",
   "execution_count": 6,
   "id": "4f2cccdf-a328-48da-8875-b1906fb49267",
   "metadata": {},
   "outputs": [
    {
     "data": {
      "text/plain": [
       "{'antibiotic': {'species': {'periplasm': {'_divide': 'polynomial',\n",
       "    '_type': 'unit'}}}}"
      ]
     },
     "execution_count": 6,
     "metadata": {},
     "output_type": "execute_result"
    }
   ],
   "source": [
    "initial_state = {\n",
    "        \"antibiotic\": {\n",
    "            \"species\": {\n",
    "                \"periplasm\": {\n",
    "                    \"_default\": 0 * units.mM,\n",
    "                    \"_divider\": \"polynomial\",\n",
    "                    \"_type\": \"unit\"\n",
    "                }\n",
    "               \n",
    "            },\n",
    "        }\n",
    "}\n",
    "\n",
    "\n",
    "get_defaults_schema(initial_state)"
   ]
  },
  {
   "cell_type": "code",
   "execution_count": 7,
   "id": "ac54f491-6532-4bf4-bd41-14e75523806c",
   "metadata": {},
   "outputs": [
    {
     "data": {
      "text/html": [
       "0 micronit"
      ],
      "text/latex": [
       "$0\\ \\mathrm{micronit}$"
      ],
      "text/plain": [
       "<Quantity(0, 'micronit')>"
      ]
     },
     "execution_count": 7,
     "metadata": {},
     "output_type": "execute_result"
    }
   ],
   "source": [
    "from bigraph_schema.units import units, parse_coefficient, parse_dimensionality, render_coefficient, render_units_type\n",
    "from ecoli.shared.registry import ecoli_core as ec\n",
    "\n",
    "\n",
    "initial_state = {\n",
    "        \"antibiotic\": {\n",
    "            \"species\": {\n",
    "                \"periplasm\": 0 * units.mM,\n",
    "                \"hydrolyzed_periplasm\": 0 * units.mM,\n",
    "                \"cytoplasm\": 0 * units.mM,\n",
    "                \"hydrolyzed_cytoplasm\": 0 * units.mM,\n",
    "                \"external\": 3 * units.mM,\n",
    "            },\n",
    "            \"reaction_parameters\": {\n",
    "                \"diffusion\": {\n",
    "                    \"outer_permeability\": 2 * units.dm / units.sec,\n",
    "                    \"outer_area\": 3 * units.dm**2,\n",
    "                    \"periplasm_volume\": 2 * units.L,\n",
    "                    \"charge\": 0 * units.count,\n",
    "                    \"inner_permeability\": 0 * units.dm / units.sec,\n",
    "                    \"inner_area\": 3 * units.dm**2,\n",
    "                    \"cytoplasm_volume\": 2 * units.L,\n",
    "                },\n",
    "                \"export\": {\n",
    "                    \"outer_kcat\": 4 / units.sec,\n",
    "                    \"outer_km\": 2 * units.mM,\n",
    "                    \"outer_enzyme_conc\": 1 * units.mM,\n",
    "                    \"outer_n\": 1 * units.count,\n",
    "                    \"inner_kcat\": 0 / units.sec,\n",
    "                    \"inner_km\": 2 * units.mM,\n",
    "                    \"inner_enzyme_conc\": 1 * units.mM,\n",
    "                    \"inner_n\": 1 * units.count,\n",
    "                },\n",
    "                \"hydrolysis\": {\n",
    "                    \"outer_kcat\": 4 / units.sec,\n",
    "                    \"outer_km\": 2 * units.mM,\n",
    "                    \"outer_enzyme_conc\": 0.5 * units.mM,\n",
    "                    \"outer_n\": 1 * units.count,\n",
    "                    \"inner_kcat\": 0 / units.sec,\n",
    "                    \"inner_km\": 2 * units.mM,\n",
    "                    \"inner_enzyme_conc\": 0.5 * units.mM,\n",
    "                    \"inner_n\": 1 * units.count,\n",
    "                },\n",
    "            },\n",
    "        },\n",
    "    }\n",
    "\n",
    "\n",
    "eval(\"0 * units.units\")"
   ]
  },
  {
   "cell_type": "code",
   "execution_count": 3,
   "id": "d0b1bef9-bac2-4739-922f-6f3f85ded88b",
   "metadata": {},
   "outputs": [
    {
     "data": {
      "text/plain": [
       "'1.0 millimolar / milligram'"
      ]
     },
     "execution_count": 3,
     "metadata": {},
     "output_type": "execute_result"
    }
   ],
   "source": [
    "from vivarium.library.units import units as vivunits\n",
    "from ecoli.shared.registry import ecoli_core as ec\n",
    "from bigraph_schema.type_functions import apply_units, check_units, serialize_units, deserialize_units\n",
    "\n",
    "u = 1 * vivunits.mM / vivunits.mg\n",
    "\n",
    "serial = serialize_units({}, u, ec)\n",
    "deserial = deserialize_units({}, serial, ec)\n",
    "serial"
   ]
  },
  {
   "cell_type": "code",
   "execution_count": 1,
   "id": "d6fa6a98-43fd-4a58-88a5-8f9d970e18fb",
   "metadata": {},
   "outputs": [
    {
     "name": "stderr",
     "output_type": "stream",
     "text": [
      "<unknown>:1: SyntaxWarning: invalid escape sequence '\\s'\n"
     ]
    },
    {
     "data": {
      "text/plain": [
       "True"
      ]
     },
     "execution_count": 1,
     "metadata": {},
     "output_type": "execute_result"
    }
   ],
   "source": [
    "from ecoli import shared\n",
    "import os \n",
    "\n",
    "\n",
    "os.path.exists()"
   ]
  },
  {
   "cell_type": "code",
   "execution_count": 39,
   "id": "3bc3be8f-a275-440b-aece-8407f687b86e",
   "metadata": {},
   "outputs": [
    {
     "data": {
      "text/plain": [
       "['T',\n",
       " 'UnitsContainer',\n",
       " '_NumpyQuantity__ito_if_needed',\n",
       " '_REGISTRY',\n",
       " '__abs__',\n",
       " '__add__',\n",
       " '__annotations__',\n",
       " '__array__',\n",
       " '__array_function__',\n",
       " '__array_priority__',\n",
       " '__array_ufunc__',\n",
       " '__bool__',\n",
       " '__bytes__',\n",
       " '__class__',\n",
       " '__class_getitem__',\n",
       " '__complex__',\n",
       " '__copy__',\n",
       " '__dask_graph__',\n",
       " '__dask_keys__',\n",
       " '__dask_optimize__',\n",
       " '__dask_postcompute__',\n",
       " '__dask_postpersist__',\n",
       " '__dask_scheduler__',\n",
       " '__dask_tokenize__',\n",
       " '__deepcopy__',\n",
       " '__delattr__',\n",
       " '__dict__',\n",
       " '__dir__',\n",
       " '__div__',\n",
       " '__divmod__',\n",
       " '__doc__',\n",
       " '__eq__',\n",
       " '__float__',\n",
       " '__floordiv__',\n",
       " '__format__',\n",
       " '__ge__',\n",
       " '__getattr__',\n",
       " '__getattribute__',\n",
       " '__getitem__',\n",
       " '__getstate__',\n",
       " '__gt__',\n",
       " '__hash__',\n",
       " '__iadd__',\n",
       " '__idiv__',\n",
       " '__ifloordiv__',\n",
       " '__imod__',\n",
       " '__imul__',\n",
       " '__init__',\n",
       " '__init_subclass__',\n",
       " '__int__',\n",
       " '__ipow__',\n",
       " '__isub__',\n",
       " '__iter__',\n",
       " '__itruediv__',\n",
       " '__le__',\n",
       " '__len__',\n",
       " '__lt__',\n",
       " '__matmul__',\n",
       " '__mod__',\n",
       " '__module__',\n",
       " '__mul__',\n",
       " '__ne__',\n",
       " '__neg__',\n",
       " '__new__',\n",
       " '__nonzero__',\n",
       " '__orig_bases__',\n",
       " '__parameters__',\n",
       " '__pos__',\n",
       " '__pow__',\n",
       " '__radd__',\n",
       " '__rdiv__',\n",
       " '__rdivmod__',\n",
       " '__reduce__',\n",
       " '__reduce_ex__',\n",
       " '__repr__',\n",
       " '__rfloordiv__',\n",
       " '__rmatmul__',\n",
       " '__rmod__',\n",
       " '__rmul__',\n",
       " '__round__',\n",
       " '__rpow__',\n",
       " '__rsub__',\n",
       " '__rtruediv__',\n",
       " '__setattr__',\n",
       " '__setitem__',\n",
       " '__sizeof__',\n",
       " '__str__',\n",
       " '__sub__',\n",
       " '__subclasshook__',\n",
       " '__truediv__',\n",
       " '__weakref__',\n",
       " '_add_sub',\n",
       " '_check',\n",
       " '_convert_magnitude',\n",
       " '_convert_magnitude_not_inplace',\n",
       " '_dask_finalize',\n",
       " '_dimensionality',\n",
       " '_get_delta_units',\n",
       " '_get_non_multiplicative_units',\n",
       " '_get_unit_definition',\n",
       " '_has_compatible_delta',\n",
       " '_iadd_sub',\n",
       " '_imul_div',\n",
       " '_is_multiplicative',\n",
       " '_magnitude',\n",
       " '_mul_div',\n",
       " '_numpy_method_wrap',\n",
       " '_ok_for_muldiv',\n",
       " '_repr_html_',\n",
       " '_repr_latex_',\n",
       " '_repr_pretty_',\n",
       " '_truedivide_cast_int',\n",
       " '_units',\n",
       " '_wrapped_numpy_methods',\n",
       " 'check',\n",
       " 'clip',\n",
       " 'compare',\n",
       " 'compatible_units',\n",
       " 'compute',\n",
       " 'dimensionality',\n",
       " 'dimensionless',\n",
       " 'dot',\n",
       " 'dtype',\n",
       " 'fill',\n",
       " 'flat',\n",
       " 'force_ndarray',\n",
       " 'force_ndarray_like',\n",
       " 'format_babel',\n",
       " 'from_list',\n",
       " 'from_sequence',\n",
       " 'from_tuple',\n",
       " 'imag',\n",
       " 'is_compatible_with',\n",
       " 'ito',\n",
       " 'ito_base_units',\n",
       " 'ito_preferred',\n",
       " 'ito_reduced_units',\n",
       " 'ito_root_units',\n",
       " 'm',\n",
       " 'm_as',\n",
       " 'magnitude',\n",
       " 'ndim',\n",
       " 'persist',\n",
       " 'plus_minus',\n",
       " 'prod',\n",
       " 'put',\n",
       " 'real',\n",
       " 'searchsorted',\n",
       " 'shape',\n",
       " 'to',\n",
       " 'to_base_units',\n",
       " 'to_compact',\n",
       " 'to_preferred',\n",
       " 'to_reduced_units',\n",
       " 'to_root_units',\n",
       " 'to_timedelta',\n",
       " 'to_tuple',\n",
       " 'tolist',\n",
       " 'u',\n",
       " 'unit_items',\n",
       " 'unitless',\n",
       " 'units',\n",
       " 'visualize']"
      ]
     },
     "execution_count": 39,
     "metadata": {},
     "output_type": "execute_result"
    }
   ],
   "source": [
    "dir(deserial)"
   ]
  },
  {
   "cell_type": "code",
   "execution_count": 9,
   "id": "dd25f038-a7fb-4d91-a9be-a777b5e0c0a5",
   "metadata": {},
   "outputs": [],
   "source": [
    "bidirectional_ports = {\"wall_state\": {\n",
    "                \"lattice\": {\n",
    "                    \"_default\": None,\n",
    "                    \"_type\": \"list[list[float]]\",\n",
    "                    \"_divider\": 'd'\n",
    "                },\n",
    "                \"cracked\": {\n",
    "                    \"_default\": False,\n",
    "                    # TODO: does this need a divider?\n",
    "                    # \"_divider\": {\"divider\": \"set_value\", \"config\": {\"value\": False}},\n",
    "                },\n",
    "            }\n",
    "        }\n",
    "\n",
    "\n",
    "input_ports = {\n",
    "    \"wall_state\": {\n",
    "        **bidirectional_ports['wall_state'],\n",
    "        'x': {}\n",
    "    }\n",
    "}"
   ]
  },
  {
   "cell_type": "code",
   "execution_count": 11,
   "id": "a862ac40-68c9-4d77-94c2-1261d2638bd1",
   "metadata": {},
   "outputs": [
    {
     "data": {
      "text/plain": [
       "dict_keys(['lattice', 'cracked', 'x'])"
      ]
     },
     "execution_count": 11,
     "metadata": {},
     "output_type": "execute_result"
    }
   ],
   "source": [
    "input_ports['wall_state'].keys()"
   ]
  },
  {
   "cell_type": "code",
   "execution_count": null,
   "id": "2b3aa821-edf4-4852-9f1b-7b30c5c096de",
   "metadata": {},
   "outputs": [],
   "source": []
  }
 ],
 "metadata": {
  "kernelspec": {
   "display_name": "Python 3 (ipykernel)",
   "language": "python",
   "name": "python3"
  },
  "language_info": {
   "codemirror_mode": {
    "name": "ipython",
    "version": 3
   },
   "file_extension": ".py",
   "mimetype": "text/x-python",
   "name": "python",
   "nbconvert_exporter": "python",
   "pygments_lexer": "ipython3",
   "version": "3.12.8"
  }
 },
 "nbformat": 4,
 "nbformat_minor": 5
}
