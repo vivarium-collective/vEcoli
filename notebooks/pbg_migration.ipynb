{
 "cells": [
  {
   "cell_type": "code",
   "id": "initial_id",
   "metadata": {
    "collapsed": true,
    "ExecuteTime": {
     "end_time": "2025-03-17T15:21:52.832825Z",
     "start_time": "2025-03-17T15:21:51.757352Z"
    }
   },
   "source": [
    "from typing import Union\n",
    "\n",
    "from vivarium.core.types import State, Update\n",
    "\n",
    "from pbg.translate import get_port_mapping\n",
    "from pbg.parse import get_process, find_defaults\n",
    "from process_bigraph import ProcessTypes, pp\n",
    "from bigraph_schema.type_system import required_schema_keys, optional_schema_keys\n",
    "from ecoli.processes.antibiotics.cell_wall import CellWall\n",
    "from vivarium.core.registry import process_registry\n",
    "from vivarium.core.process import Process as VivariumProcess\n",
    "from ecoli.processes.registries import topology_registry\n",
    "from vivarium_interface.vivarium import Vivarium\n",
    "from pbg.data_model.base_process import BaseProcess, CORE\n",
    "from pbg.parse import find_defaults"
   ],
   "outputs": [
    {
     "name": "stderr",
     "output_type": "stream",
     "text": [
      "<unknown>:1: SyntaxWarning: invalid escape sequence '\\s'\n"
     ]
    }
   ],
   "execution_count": 1
  },
  {
   "metadata": {
    "ExecuteTime": {
     "end_time": "2025-03-17T15:21:53.269734Z",
     "start_time": "2025-03-17T15:21:53.265954Z"
    }
   },
   "cell_type": "code",
   "source": [
    "class Add(BaseProcess):\n",
    "    defaults = {\n",
    "        'k': 0.11 / 2.22\n",
    "    }\n",
    "    name = 'add'\n",
    "\n",
    "    def __init__(self, parameters=None, core=None):\n",
    "        super().__init__(parameters, core=core)\n",
    "\n",
    "    def ports_schema(self):\n",
    "        return {\n",
    "            'x': {\n",
    "                '_default': -0.11,\n",
    "                '_emit': True,\n",
    "            },\n",
    "            'y': {\n",
    "                '_default': 0.22,\n",
    "                '_emit': True,\n",
    "            }\n",
    "        }\n",
    "\n",
    "    def next_update(\n",
    "            self, timestep, states):\n",
    "        x0 = states['x']\n",
    "        x = x0 * self.parameters['k'] * timestep\n",
    "        return {\n",
    "            'x': x,\n",
    "            'y': x0 + (x * timestep)\n",
    "        }"
   ],
   "id": "85d751b11223fc58",
   "outputs": [],
   "execution_count": 2
  },
  {
   "metadata": {
    "ExecuteTime": {
     "end_time": "2025-03-17T15:21:54.526715Z",
     "start_time": "2025-03-17T15:21:54.515511Z"
    }
   },
   "cell_type": "code",
   "source": [
    "core = ProcessTypes()\n",
    "types: dict = core.types()\n",
    "processes = core.process_registry.registry\n",
    "processes.update(process_registry.registry)\n",
    "processes.update({'Add': Add})\n",
    "type_keys: set = required_schema_keys.union(optional_schema_keys)"
   ],
   "id": "951ee4810d9afee1",
   "outputs": [],
   "execution_count": 3
  },
  {
   "metadata": {
    "ExecuteTime": {
     "end_time": "2025-03-17T15:21:55.462857Z",
     "start_time": "2025-03-17T15:21:55.451643Z"
    }
   },
   "cell_type": "code",
   "source": "viv: Vivarium = Vivarium(types=types, processes=processes)",
   "id": "836c2c9afb9f4ddc",
   "outputs": [],
   "execution_count": 4
  },
  {
   "metadata": {
    "ExecuteTime": {
     "end_time": "2025-03-17T15:21:57.556149Z",
     "start_time": "2025-03-17T15:21:57.552997Z"
    }
   },
   "cell_type": "code",
   "source": "viv.add_process(process_id='Add', name='add', config={'k': -11.11})",
   "id": "dc1030ac27c00b24",
   "outputs": [],
   "execution_count": 5
  },
  {
   "metadata": {
    "ExecuteTime": {
     "end_time": "2025-03-17T15:21:59.071666Z",
     "start_time": "2025-03-17T15:21:59.067090Z"
    }
   },
   "cell_type": "code",
   "source": [
    "proc: BaseProcess = viv.get_state()['add']['instance']\n",
    "state = find_defaults(proc.ports_schema())\n",
    "\n",
    "state"
   ],
   "id": "ed694cd6e8d6bfc7",
   "outputs": [
    {
     "data": {
      "text/plain": [
       "{'x': -0.11, 'y': 0.22}"
      ]
     },
     "execution_count": 6,
     "metadata": {},
     "output_type": "execute_result"
    }
   ],
   "execution_count": 6
  },
  {
   "metadata": {
    "ExecuteTime": {
     "end_time": "2025-03-17T15:20:08.624997Z",
     "start_time": "2025-03-17T15:20:08.622095Z"
    }
   },
   "cell_type": "code",
   "source": "pp(viv)",
   "id": "9016f2f6abcdef65",
   "outputs": [
    {
     "name": "stdout",
     "output_type": "stream",
     "text": [
      "Vivarium( \n",
      "{ 'add': { 'address': 'local:Add',\n",
      "           'config': {'k': -11.11, 'timestep': 1.0},\n",
      "           'inputs': {},\n",
      "           'instance': <__main__.Add object at 0x1324bd820>,\n",
      "           'interval': 1.0,\n",
      "           'outputs': {}},\n",
      "  'global_time': 0.0})\n"
     ]
    }
   ],
   "execution_count": 8
  },
  {
   "metadata": {
    "ExecuteTime": {
     "end_time": "2025-03-17T15:22:11.117839Z",
     "start_time": "2025-03-17T15:22:11.114887Z"
    }
   },
   "cell_type": "code",
   "source": [
    "viv.connect_process(\n",
    "    process_name='add',\n",
    "    inputs={\n",
    "        'x': ['x']\n",
    "    },\n",
    "    outputs={\n",
    "        'y': ['y']\n",
    "    }\n",
    ")"
   ],
   "id": "20efd42370ddf179",
   "outputs": [],
   "execution_count": 7
  },
  {
   "metadata": {
    "ExecuteTime": {
     "end_time": "2025-03-17T15:22:28.327989Z",
     "start_time": "2025-03-17T15:22:28.324378Z"
    }
   },
   "cell_type": "code",
   "source": [
    "for k, v in state.items():\n",
    "    viv.set_value(path=k, value=v)"
   ],
   "id": "a058e1584960cc8b",
   "outputs": [],
   "execution_count": 9
  },
  {
   "metadata": {
    "ExecuteTime": {
     "end_time": "2025-03-17T15:22:28.824184Z",
     "start_time": "2025-03-17T15:22:28.821665Z"
    }
   },
   "cell_type": "code",
   "source": "pp(viv)",
   "id": "afb44ac354afbf2",
   "outputs": [
    {
     "name": "stdout",
     "output_type": "stream",
     "text": [
      "Vivarium( \n",
      "{ 'add': { 'address': 'local:Add',\n",
      "           'config': {'k': -11.11, 'timestep': 1.0},\n",
      "           'inputs': {'x': ['x']},\n",
      "           'instance': <__main__.Add object at 0x15f9eb440>,\n",
      "           'interval': 1.0,\n",
      "           'outputs': {'y': ['y']}},\n",
      "  'global_time': 0.0,\n",
      "  'x': -0.11,\n",
      "  'y': 0.22})\n"
     ]
    }
   ],
   "execution_count": 10
  },
  {
   "metadata": {
    "ExecuteTime": {
     "end_time": "2025-03-17T15:22:30.550301Z",
     "start_time": "2025-03-17T15:22:30.546667Z"
    }
   },
   "cell_type": "code",
   "source": "viv.add_emitter()",
   "id": "cff3639b373104d2",
   "outputs": [],
   "execution_count": 11
  },
  {
   "metadata": {
    "ExecuteTime": {
     "end_time": "2025-03-17T15:22:31.135098Z",
     "start_time": "2025-03-17T15:22:31.129299Z"
    }
   },
   "cell_type": "code",
   "source": [
    "viv.run(10)\n",
    "viv.get_results()"
   ],
   "id": "1f6ae4467f3abdbb",
   "outputs": [
    {
     "data": {
      "text/plain": [
       "[{'global_time': 0.0, 'x': -0.11, 'y': 0.22},\n",
       " {'global_time': 1.0, 'x': -0.11, 'y': 1.3320999999999998},\n",
       " {'global_time': 2.0, 'x': -0.11, 'y': 2.4441999999999995},\n",
       " {'global_time': 3.0, 'x': -0.11, 'y': 3.5562999999999994},\n",
       " {'global_time': 4.0, 'x': -0.11, 'y': 4.668399999999999},\n",
       " {'global_time': 5.0, 'x': -0.11, 'y': 5.780499999999999},\n",
       " {'global_time': 6.0, 'x': -0.11, 'y': 6.892599999999999},\n",
       " {'global_time': 7.0, 'x': -0.11, 'y': 8.0047},\n",
       " {'global_time': 8.0, 'x': -0.11, 'y': 9.1168},\n",
       " {'global_time': 9.0, 'x': -0.11, 'y': 10.2289},\n",
       " {'global_time': 10.0, 'x': -0.11, 'y': 11.341}]"
      ]
     },
     "execution_count": 12,
     "metadata": {},
     "output_type": "execute_result"
    }
   ],
   "execution_count": 12
  },
  {
   "metadata": {
    "ExecuteTime": {
     "end_time": "2025-03-17T15:22:54.612974Z",
     "start_time": "2025-03-17T15:22:54.609368Z"
    }
   },
   "cell_type": "code",
   "source": "proc.initial_state()",
   "id": "a45fdfa9f701b702",
   "outputs": [
    {
     "data": {
      "text/plain": [
       "{'x': -0.11, 'y': 0.22}"
      ]
     },
     "execution_count": 13,
     "metadata": {},
     "output_type": "execute_result"
    }
   ],
   "execution_count": 13
  },
  {
   "metadata": {
    "ExecuteTime": {
     "end_time": "2025-03-17T15:23:21.801813Z",
     "start_time": "2025-03-17T15:23:21.798455Z"
    }
   },
   "cell_type": "code",
   "source": "proc.update(state=proc.initial_state(), interval=2)",
   "id": "13b0aa50968bbf07",
   "outputs": [
    {
     "data": {
      "text/plain": [
       "{'x': 2.4442, 'y': 4.7783999999999995}"
      ]
     },
     "execution_count": 14,
     "metadata": {},
     "output_type": "execute_result"
    }
   ],
   "execution_count": 14
  },
  {
   "metadata": {
    "ExecuteTime": {
     "end_time": "2025-03-17T15:24:16.216005Z",
     "start_time": "2025-03-17T15:24:16.211763Z"
    }
   },
   "cell_type": "code",
   "source": [
    "viv.run(10)\n",
    "viv.get_results()"
   ],
   "id": "60172ffbe07450a3",
   "outputs": [
    {
     "data": {
      "text/plain": [
       "[{'global_time': 0.0, 'x': -0.11, 'y': 0.22},\n",
       " {'global_time': 1.0, 'x': -0.11, 'y': 1.3320999999999998},\n",
       " {'global_time': 2.0, 'x': -0.11, 'y': 2.4441999999999995},\n",
       " {'global_time': 3.0, 'x': -0.11, 'y': 3.5562999999999994},\n",
       " {'global_time': 4.0, 'x': -0.11, 'y': 4.668399999999999},\n",
       " {'global_time': 5.0, 'x': -0.11, 'y': 5.780499999999999},\n",
       " {'global_time': 6.0, 'x': -0.11, 'y': 6.892599999999999},\n",
       " {'global_time': 7.0, 'x': -0.11, 'y': 8.0047},\n",
       " {'global_time': 8.0, 'x': -0.11, 'y': 9.1168},\n",
       " {'global_time': 9.0, 'x': -0.11, 'y': 10.2289},\n",
       " {'global_time': 10.0, 'x': -0.11, 'y': 11.341},\n",
       " {'global_time': 11.0, 'x': -0.11, 'y': 12.4531},\n",
       " {'global_time': 12.0, 'x': -0.11, 'y': 13.565199999999999},\n",
       " {'global_time': 13.0, 'x': -0.11, 'y': 14.677299999999999},\n",
       " {'global_time': 14.0, 'x': -0.11, 'y': 15.789399999999999},\n",
       " {'global_time': 15.0, 'x': -0.11, 'y': 16.9015},\n",
       " {'global_time': 16.0, 'x': -0.11, 'y': 18.013599999999997},\n",
       " {'global_time': 17.0, 'x': -0.11, 'y': 19.125699999999995},\n",
       " {'global_time': 18.0, 'x': -0.11, 'y': 20.237799999999993},\n",
       " {'global_time': 19.0, 'x': -0.11, 'y': 21.34989999999999},\n",
       " {'global_time': 20.0, 'x': -0.11, 'y': 22.46199999999999}]"
      ]
     },
     "execution_count": 15,
     "metadata": {},
     "output_type": "execute_result"
    }
   ],
   "execution_count": 15
  },
  {
   "metadata": {
    "ExecuteTime": {
     "end_time": "2025-03-17T15:25:34.625153Z",
     "start_time": "2025-03-17T15:25:34.622746Z"
    }
   },
   "cell_type": "code",
   "source": "proc.name",
   "id": "25579bc8c8ee59da",
   "outputs": [
    {
     "data": {
      "text/plain": [
       "'add'"
      ]
     },
     "execution_count": 16,
     "metadata": {},
     "output_type": "execute_result"
    }
   ],
   "execution_count": 16
  },
  {
   "metadata": {},
   "cell_type": "code",
   "outputs": [],
   "execution_count": null,
   "source": "",
   "id": "cbbabb4ec14a2dfd"
  }
 ],
 "metadata": {
  "kernelspec": {
   "display_name": "Python 3",
   "language": "python",
   "name": "python3"
  },
  "language_info": {
   "codemirror_mode": {
    "name": "ipython",
    "version": 2
   },
   "file_extension": ".py",
   "mimetype": "text/x-python",
   "name": "python",
   "nbconvert_exporter": "python",
   "pygments_lexer": "ipython2",
   "version": "2.7.6"
  }
 },
 "nbformat": 4,
 "nbformat_minor": 5
}
