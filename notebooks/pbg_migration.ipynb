{
 "cells": [
  {
   "cell_type": "code",
   "id": "initial_id",
   "metadata": {
    "collapsed": true,
    "ExecuteTime": {
     "end_time": "2025-03-14T15:50:14.898948Z",
     "start_time": "2025-03-14T15:50:13.833664Z"
    }
   },
   "source": [
    "from pbg.translate import get_port_mapping\n",
    "from process_bigraph import ProcessTypes\n",
    "from bigraph_schema.type_system import required_schema_keys, optional_schema_keys\n",
    "from ecoli.processes.antibiotics.cell_wall import CellWall\n",
    "\n",
    "\n",
    "wall = CellWall()\n",
    "schema = wall.ports_schema()\n",
    "mapping = get_port_mapping(schema)"
   ],
   "outputs": [
    {
     "name": "stderr",
     "output_type": "stream",
     "text": [
      "<unknown>:1: SyntaxWarning: invalid escape sequence '\\s'\n"
     ]
    }
   ],
   "execution_count": 1
  },
  {
   "metadata": {
    "ExecuteTime": {
     "end_time": "2025-03-14T15:50:15.365269Z",
     "start_time": "2025-03-14T15:50:15.360454Z"
    }
   },
   "cell_type": "code",
   "source": "mapping",
   "id": "e8bea424355f91d5",
   "outputs": [
    {
     "data": {
      "text/plain": [
       "{'murein_state': {'incorporated_murein': 'int',\n",
       "  'unincorporated_murein': 'int',\n",
       "  'shadow_murein': 'int'},\n",
       " 'bulk': 'list',\n",
       " 'shape': {'volume': 'int'},\n",
       " 'wall_state': {'lattice': 'any',\n",
       "  'lattice_rows': 'int',\n",
       "  'lattice_cols': 'int',\n",
       "  'extension_factor': 'int',\n",
       "  'cracked': 'bool',\n",
       "  'attempted_shrinkage': 'bool'},\n",
       " 'pbp_state': {'active_fraction_PBP1A': 'float',\n",
       "  'active_fraction_PBP1B': 'float'},\n",
       " 'listeners': {'porosity': 'int',\n",
       "  'hole_size_distribution': 'ndarray',\n",
       "  'strand_length_distribution': 'list'}}"
      ]
     },
     "execution_count": 2,
     "metadata": {},
     "output_type": "execute_result"
    }
   ],
   "execution_count": 2
  },
  {
   "metadata": {
    "ExecuteTime": {
     "end_time": "2025-03-14T15:26:50.278353Z",
     "start_time": "2025-03-14T15:26:50.267563Z"
    }
   },
   "cell_type": "code",
   "source": [
    "core = ProcessTypes()\n",
    "types: dict = core.types()\n",
    "type_keys: set = required_schema_keys.union(optional_schema_keys)"
   ],
   "id": "951ee4810d9afee1",
   "outputs": [],
   "execution_count": 3
  }
 ],
 "metadata": {
  "kernelspec": {
   "display_name": "Python 3",
   "language": "python",
   "name": "python3"
  },
  "language_info": {
   "codemirror_mode": {
    "name": "ipython",
    "version": 2
   },
   "file_extension": ".py",
   "mimetype": "text/x-python",
   "name": "python",
   "nbconvert_exporter": "python",
   "pygments_lexer": "ipython2",
   "version": "2.7.6"
  }
 },
 "nbformat": 4,
 "nbformat_minor": 5
}
