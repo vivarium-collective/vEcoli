{
 "cells": [
  {
   "cell_type": "code",
   "id": "initial_id",
   "metadata": {
    "collapsed": true,
    "ExecuteTime": {
     "end_time": "2025-03-17T19:26:50.947683Z",
     "start_time": "2025-03-17T19:26:49.864066Z"
    }
   },
   "source": [
    "from typing import Union\n",
    "\n",
    "from vivarium.core.types import State, Update\n",
    "\n",
    "from pbg.translate import get_port_mapping\n",
    "from pbg.parse import get_process, find_defaults\n",
    "from process_bigraph import ProcessTypes, pp\n",
    "from bigraph_schema.type_system import required_schema_keys, optional_schema_keys\n",
    "from ecoli.processes.antibiotics.cell_wall import CellWall\n",
    "from vivarium.core.registry import process_registry\n",
    "from vivarium.core.process import Process as VivariumProcess\n",
    "from ecoli.processes.registries import topology_registry\n",
    "from vivarium_interface.vivarium import Vivarium\n",
    "from pbg.data_model.base_process import BaseProcess, CORE\n",
    "from pbg.test_output.cell_wall_edited import CellWall\n",
    "from pbg.parse import find_defaults"
   ],
   "outputs": [
    {
     "name": "stderr",
     "output_type": "stream",
     "text": [
      "<unknown>:1: SyntaxWarning: invalid escape sequence '\\s'\n"
     ]
    }
   ],
   "execution_count": 1
  },
  {
   "metadata": {
    "ExecuteTime": {
     "end_time": "2025-03-17T19:26:51.475888Z",
     "start_time": "2025-03-17T19:26:51.464988Z"
    }
   },
   "cell_type": "code",
   "source": "core = ProcessTypes()",
   "id": "c7a2c0e63ab820db",
   "outputs": [],
   "execution_count": 2
  },
  {
   "metadata": {
    "ExecuteTime": {
     "end_time": "2025-03-17T19:26:51.949060Z",
     "start_time": "2025-03-17T19:26:51.947003Z"
    }
   },
   "cell_type": "code",
   "source": "core.register_process('ecoli-cell-wall-edited', CellWall)",
   "id": "55544d45bd790117",
   "outputs": [],
   "execution_count": 3
  },
  {
   "metadata": {
    "ExecuteTime": {
     "end_time": "2025-03-17T19:26:52.462387Z",
     "start_time": "2025-03-17T19:26:52.459199Z"
    }
   },
   "cell_type": "code",
   "source": [
    "class Add(BaseProcess):\n",
    "    defaults = {\n",
    "        'k': 0.11 / 2.22\n",
    "    }\n",
    "    name = 'add'\n",
    "\n",
    "    def __init__(self, parameters=None, core=None):\n",
    "        super().__init__(parameters, core=core)\n",
    "\n",
    "    def ports_schema(self):\n",
    "        return {\n",
    "            'A': {\n",
    "                'x': {\n",
    "                    '_default': -0.11,\n",
    "                    '_emit': True,\n",
    "                },\n",
    "            },\n",
    "            'B': {\n",
    "                'y': {\n",
    "                    '_default': 0.22,\n",
    "                    '_emit': True,\n",
    "                }\n",
    "            }\n",
    "        }\n",
    "\n",
    "    def next_update(\n",
    "            self, timestep, states):\n",
    "        x0 = states['A']['x']\n",
    "        x = x0 * self.parameters['k'] * timestep\n",
    "        return {\n",
    "            'A': {\n",
    "                'x': x,\n",
    "            },\n",
    "            'B': {\n",
    "                'y': x0 + (x * timestep)\n",
    "            }\n",
    "        }\n",
    "\n",
    "\n",
    "core.register_process('Add', Add)"
   ],
   "id": "85d751b11223fc58",
   "outputs": [],
   "execution_count": 4
  },
  {
   "metadata": {
    "ExecuteTime": {
     "end_time": "2025-03-17T19:26:53.010172Z",
     "start_time": "2025-03-17T19:26:53.007715Z"
    }
   },
   "cell_type": "code",
   "source": [
    "def make_vivarium(core=core):\n",
    "    types: dict = core.types()\n",
    "    processes = core.process_registry.registry\n",
    "    processes.update(process_registry.registry)\n",
    "    type_keys: set = required_schema_keys.union(optional_schema_keys)\n",
    "    return Vivarium(types=types, processes=processes)\n",
    "\n",
    "\n",
    "def get_proc(viv: Vivarium, name: str) -> BaseProcess:\n",
    "    return viv.get_state()[name]['instance']"
   ],
   "id": "951ee4810d9afee1",
   "outputs": [],
   "execution_count": 5
  },
  {
   "metadata": {},
   "cell_type": "markdown",
   "source": "#### 1. Simple Example with Toy process",
   "id": "2a3f31c4cb07db3d"
  },
  {
   "metadata": {
    "ExecuteTime": {
     "end_time": "2025-03-17T19:26:53.421729Z",
     "start_time": "2025-03-17T19:26:53.413584Z"
    }
   },
   "cell_type": "code",
   "source": "viv = make_vivarium()",
   "id": "836c2c9afb9f4ddc",
   "outputs": [],
   "execution_count": 6
  },
  {
   "metadata": {
    "ExecuteTime": {
     "end_time": "2025-03-17T19:26:53.890244Z",
     "start_time": "2025-03-17T19:26:53.885576Z"
    }
   },
   "cell_type": "code",
   "source": [
    "viv.add_process(process_id='Add', name='add', config={'k': -11.11})\n",
    "\n",
    "viv"
   ],
   "id": "dc1030ac27c00b24",
   "outputs": [
    {
     "data": {
      "text/plain": [
       "Vivarium( \n",
       "{ 'add': { 'address': 'local:Add',\n",
       "           'config': {'k': -11.11, 'timestep': 1.0},\n",
       "           'inputs': {},\n",
       "           'instance': <__main__.Add object at 0x14e202b70>,\n",
       "           'interval': 1.0,\n",
       "           'outputs': {}},\n",
       "  'global_time': 0.0})"
      ]
     },
     "execution_count": 7,
     "metadata": {},
     "output_type": "execute_result"
    }
   ],
   "execution_count": 7
  },
  {
   "metadata": {
    "ExecuteTime": {
     "end_time": "2025-03-17T19:26:54.448749Z",
     "start_time": "2025-03-17T19:26:54.445557Z"
    }
   },
   "cell_type": "code",
   "source": [
    "proc: BaseProcess = get_proc(viv, 'add')\n",
    "\n",
    "proc.get_stores()"
   ],
   "id": "2b9c01f11d631b9b",
   "outputs": [
    {
     "data": {
      "text/plain": [
       "{'A': ['A'], 'B': ['B']}"
      ]
     },
     "execution_count": 8,
     "metadata": {},
     "output_type": "execute_result"
    }
   ],
   "execution_count": 8
  },
  {
   "metadata": {
    "ExecuteTime": {
     "end_time": "2025-03-17T19:26:55.151401Z",
     "start_time": "2025-03-17T19:26:55.147335Z"
    }
   },
   "cell_type": "code",
   "source": [
    "state = find_defaults(proc.ports_schema())\n",
    "\n",
    "viv.connect_process(\n",
    "    process_name='add',\n",
    "    inputs=proc.get_stores(),\n",
    "    outputs=proc.get_stores()\n",
    ")\n",
    "\n",
    "viv"
   ],
   "id": "20efd42370ddf179",
   "outputs": [
    {
     "data": {
      "text/plain": [
       "Vivarium( \n",
       "{ 'A': {'x': 0.0},\n",
       "  'B': {'y': 0.0},\n",
       "  'add': { 'address': 'local:Add',\n",
       "           'config': {'k': -11.11, 'timestep': 1.0},\n",
       "           'inputs': {'A': ['A'], 'B': ['B']},\n",
       "           'instance': <__main__.Add object at 0x14e202b70>,\n",
       "           'interval': 1.0,\n",
       "           'outputs': {'A': ['A'], 'B': ['B']}},\n",
       "  'global_time': 0.0})"
      ]
     },
     "execution_count": 9,
     "metadata": {},
     "output_type": "execute_result"
    }
   ],
   "execution_count": 9
  },
  {
   "metadata": {
    "ExecuteTime": {
     "end_time": "2025-03-17T19:26:56.255403Z",
     "start_time": "2025-03-17T19:26:56.250497Z"
    }
   },
   "cell_type": "code",
   "source": [
    "viv.set_value(path=['A', 'x'], value=-11.11)\n",
    "viv.set_value(path=['B', 'y'], value=22.22)\n",
    "\n",
    "viv"
   ],
   "id": "ee6a6ee4a3b9a753",
   "outputs": [
    {
     "data": {
      "text/plain": [
       "Vivarium( \n",
       "{ 'A': {'x': -11.11},\n",
       "  'B': {'y': 22.22},\n",
       "  'add': { 'address': 'local:Add',\n",
       "           'config': {'k': -11.11, 'timestep': 1.0},\n",
       "           'inputs': {'A': ['A'], 'B': ['B']},\n",
       "           'instance': <__main__.Add object at 0x14e202b70>,\n",
       "           'interval': 1.0,\n",
       "           'outputs': {'A': ['A'], 'B': ['B']}},\n",
       "  'global_time': 0.0})"
      ]
     },
     "execution_count": 10,
     "metadata": {},
     "output_type": "execute_result"
    }
   ],
   "execution_count": 10
  },
  {
   "metadata": {
    "ExecuteTime": {
     "end_time": "2025-03-17T19:26:56.724064Z",
     "start_time": "2025-03-17T19:26:56.719954Z"
    }
   },
   "cell_type": "code",
   "source": [
    "viv.add_emitter()\n",
    "\n",
    "viv"
   ],
   "id": "79b06bb9929bab65",
   "outputs": [
    {
     "data": {
      "text/plain": [
       "Vivarium( \n",
       "{ 'A': {'x': -11.11},\n",
       "  'B': {'y': 22.22},\n",
       "  'add': { 'address': 'local:Add',\n",
       "           'config': {'k': -11.11, 'timestep': 1.0},\n",
       "           'inputs': {'A': ['A'], 'B': ['B']},\n",
       "           'instance': <__main__.Add object at 0x14e202b70>,\n",
       "           'interval': 1.0,\n",
       "           'outputs': {'A': ['A'], 'B': ['B']}},\n",
       "  'emitter': { 'address': 'local:ram-emitter',\n",
       "               'config': { 'emit': { 'A': 'any',\n",
       "                                     'B': 'any',\n",
       "                                     'global_time': 'any'}},\n",
       "               'inputs': { 'A': ['A'],\n",
       "                           'B': ['B'],\n",
       "                           'global_time': ['global_time']},\n",
       "               'instance': <process_bigraph.composite.RAMEmitter object at 0x14038db80>,\n",
       "               'outputs': None},\n",
       "  'global_time': 0.0})"
      ]
     },
     "execution_count": 11,
     "metadata": {},
     "output_type": "execute_result"
    }
   ],
   "execution_count": 11
  },
  {
   "metadata": {
    "ExecuteTime": {
     "end_time": "2025-03-17T19:26:57.690100Z",
     "start_time": "2025-03-17T19:26:57.492631Z"
    }
   },
   "cell_type": "code",
   "source": [
    "import matplotlib.pyplot as plt\n",
    "%matplotlib inline\n",
    "\n",
    "viv.run(14)\n",
    "ts = viv.get_timeseries()\n",
    "viv.plot_timeseries()"
   ],
   "id": "9dae7de294a5f15a",
   "outputs": [
    {
     "data": {
      "text/plain": [
       "<Figure size 1000x1000 with 2 Axes>"
      ],
      "image/png": "[encoded data removed]"
     },
     "execution_count": 12,
     "metadata": {},
     "output_type": "execute_result"
    }
   ],
   "execution_count": 12
  },
  {
   "metadata": {},
   "cell_type": "markdown",
   "source": "#### 2. Example using an existing ecoli process which has been converted with the cli app",
   "id": "4ac41960dfc6bb2d"
  },
  {
   "metadata": {
    "ExecuteTime": {
     "end_time": "2025-03-17T19:26:58.905450Z",
     "start_time": "2025-03-17T19:26:58.894032Z"
    }
   },
   "cell_type": "code",
   "source": "viv2 = make_vivarium()",
   "id": "13aed6bd532a70dd",
   "outputs": [],
   "execution_count": 13
  },
  {
   "metadata": {
    "ExecuteTime": {
     "end_time": "2025-03-17T19:27:01.438932Z",
     "start_time": "2025-03-17T19:27:01.434711Z"
    }
   },
   "cell_type": "code",
   "source": [
    "wall_id = 'ecoli-cell-wall-edited'\n",
    "viv2.add_process(\n",
    "    process_id=wall_id,\n",
    "    name='wall-0',\n",
    ")"
   ],
   "id": "cff3639b373104d2",
   "outputs": [],
   "execution_count": 14
  },
  {
   "metadata": {
    "ExecuteTime": {
     "end_time": "2025-03-17T19:27:04.236341Z",
     "start_time": "2025-03-17T19:27:04.234079Z"
    }
   },
   "cell_type": "code",
   "source": "wall = get_proc(viv2, 'wall-0')",
   "id": "1bb3069397872ce",
   "outputs": [],
   "execution_count": 15
  },
  {
   "metadata": {
    "ExecuteTime": {
     "end_time": "2025-03-17T19:27:05.556043Z",
     "start_time": "2025-03-17T19:27:05.553409Z"
    }
   },
   "cell_type": "code",
   "source": "ports = wall.get_stores()",
   "id": "3c0f2ebd182235ca",
   "outputs": [],
   "execution_count": 16
  },
  {
   "metadata": {
    "ExecuteTime": {
     "end_time": "2025-03-17T19:27:16.738470Z",
     "start_time": "2025-03-17T19:27:16.734364Z"
    }
   },
   "cell_type": "code",
   "source": "wall.initial_state()",
   "id": "b00cb54c0e4e6b5c",
   "outputs": [
    {
     "data": {
      "text/plain": [
       "{'murein_state': {'incorporated_murein': 0,\n",
       "  'unincorporated_murein': 0,\n",
       "  'shadow_murein': 0},\n",
       " 'bulk': [],\n",
       " 'shape': {'volume': 0},\n",
       " 'wall_state': {'lattice': None,\n",
       "  'lattice_rows': 0,\n",
       "  'lattice_cols': 0,\n",
       "  'extension_factor': 1,\n",
       "  'cracked': False,\n",
       "  'attempted_shrinkage': False},\n",
       " 'pbp_state': {'active_fraction_PBP1A': 0.0, 'active_fraction_PBP1B': 0.0},\n",
       " 'listeners': {'porosity': 0,\n",
       "  'hole_size_distribution': array([], dtype=int64),\n",
       "  'strand_length_distribution': []}}"
      ]
     },
     "execution_count": 17,
     "metadata": {},
     "output_type": "execute_result"
    }
   ],
   "execution_count": 17
  },
  {
   "metadata": {
    "ExecuteTime": {
     "end_time": "2025-03-17T19:27:41.761140Z",
     "start_time": "2025-03-17T19:27:41.758864Z"
    }
   },
   "cell_type": "code",
   "source": "ports",
   "id": "f8c7074cba142e18",
   "outputs": [
    {
     "data": {
      "text/plain": [
       "{'murein_state': ['murein_state'],\n",
       " 'shape': ['shape'],\n",
       " 'wall_state': ['wall_state'],\n",
       " 'pbp_state': ['pbp_state'],\n",
       " 'listeners': ['listeners']}"
      ]
     },
     "execution_count": 18,
     "metadata": {},
     "output_type": "execute_result"
    }
   ],
   "execution_count": 18
  },
  {
   "metadata": {
    "ExecuteTime": {
     "end_time": "2025-03-17T19:28:00.869979Z",
     "start_time": "2025-03-17T19:28:00.612946Z"
    }
   },
   "cell_type": "code",
   "source": [
    "viv2.connect_process(\n",
    "    process_name='wall-0',\n",
    "    inputs=ports,\n",
    "    outputs=ports\n",
    ")"
   ],
   "id": "b1a78ee19bbec906",
   "outputs": [
    {
     "ename": "TypeError",
     "evalue": "string indices must be integers, not 'str'",
     "output_type": "error",
     "traceback": [
      "\u001B[0;31m---------------------------------------------------------------------------\u001B[0m",
      "\u001B[0;31mTypeError\u001B[0m                                 Traceback (most recent call last)",
      "Cell \u001B[0;32mIn[19], line 1\u001B[0m\n\u001B[0;32m----> 1\u001B[0m \u001B[43mviv2\u001B[49m\u001B[38;5;241;43m.\u001B[39;49m\u001B[43mconnect_process\u001B[49m\u001B[43m(\u001B[49m\n\u001B[1;32m      2\u001B[0m \u001B[43m    \u001B[49m\u001B[43mprocess_name\u001B[49m\u001B[38;5;241;43m=\u001B[39;49m\u001B[38;5;124;43m'\u001B[39;49m\u001B[38;5;124;43mwall-0\u001B[39;49m\u001B[38;5;124;43m'\u001B[39;49m\u001B[43m,\u001B[49m\n\u001B[1;32m      3\u001B[0m \u001B[43m    \u001B[49m\u001B[43minputs\u001B[49m\u001B[38;5;241;43m=\u001B[39;49m\u001B[43mports\u001B[49m\u001B[43m,\u001B[49m\n\u001B[1;32m      4\u001B[0m \u001B[43m    \u001B[49m\u001B[43moutputs\u001B[49m\u001B[38;5;241;43m=\u001B[39;49m\u001B[43mports\u001B[49m\n\u001B[1;32m      5\u001B[0m \u001B[43m)\u001B[49m\n",
      "File \u001B[0;32m~/Desktop/repos/vivarium-interface/vivarium_interface/vivarium.py:197\u001B[0m, in \u001B[0;36mVivarium.connect_process\u001B[0;34m(self, process_name, inputs, outputs, path)\u001B[0m\n\u001B[1;32m    194\u001B[0m     state[process_name][\u001B[38;5;124m\"\u001B[39m\u001B[38;5;124moutputs\u001B[39m\u001B[38;5;124m\"\u001B[39m] \u001B[38;5;241m=\u001B[39m outputs\n\u001B[1;32m    196\u001B[0m \u001B[38;5;66;03m# nest the process in the composite at the given path\u001B[39;00m\n\u001B[0;32m--> 197\u001B[0m \u001B[38;5;28;43mself\u001B[39;49m\u001B[38;5;241;43m.\u001B[39;49m\u001B[43mcomposite\u001B[49m\u001B[38;5;241;43m.\u001B[39;49m\u001B[43mmerge\u001B[49m\u001B[43m(\u001B[49m\u001B[43m{\u001B[49m\u001B[43m}\u001B[49m\u001B[43m,\u001B[49m\u001B[43m \u001B[49m\u001B[43mstate\u001B[49m\u001B[43m,\u001B[49m\u001B[43m \u001B[49m\u001B[43mpath\u001B[49m\u001B[43m)\u001B[49m\n\u001B[1;32m    198\u001B[0m \u001B[38;5;28mself\u001B[39m\u001B[38;5;241m.\u001B[39mcomposite\u001B[38;5;241m.\u001B[39mbuild_step_network()\n",
      "File \u001B[0;32m~/Desktop/repos/v2Ecoli/.venv/lib/python3.12/site-packages/process_bigraph/composite.py:975\u001B[0m, in \u001B[0;36mComposite.merge\u001B[0;34m(self, schema, state, path)\u001B[0m\n\u001B[1;32m    973\u001B[0m \u001B[38;5;28;01mdef\u001B[39;00m \u001B[38;5;21mmerge\u001B[39m(\u001B[38;5;28mself\u001B[39m, schema, state, path\u001B[38;5;241m=\u001B[39m\u001B[38;5;28;01mNone\u001B[39;00m):\n\u001B[1;32m    974\u001B[0m     path \u001B[38;5;241m=\u001B[39m path \u001B[38;5;129;01mor\u001B[39;00m []\n\u001B[0;32m--> 975\u001B[0m     \u001B[38;5;28mself\u001B[39m\u001B[38;5;241m.\u001B[39mcomposition, \u001B[38;5;28mself\u001B[39m\u001B[38;5;241m.\u001B[39mstate \u001B[38;5;241m=\u001B[39m \u001B[38;5;28;43mself\u001B[39;49m\u001B[38;5;241;43m.\u001B[39;49m\u001B[43mcore\u001B[49m\u001B[38;5;241;43m.\u001B[39;49m\u001B[43mmerge\u001B[49m\u001B[43m(\u001B[49m\n\u001B[1;32m    976\u001B[0m \u001B[43m        \u001B[49m\u001B[38;5;28;43mself\u001B[39;49m\u001B[38;5;241;43m.\u001B[39;49m\u001B[43mcomposition\u001B[49m\u001B[43m,\u001B[49m\n\u001B[1;32m    977\u001B[0m \u001B[43m        \u001B[49m\u001B[38;5;28;43mself\u001B[39;49m\u001B[38;5;241;43m.\u001B[39;49m\u001B[43mstate\u001B[49m\u001B[43m,\u001B[49m\n\u001B[1;32m    978\u001B[0m \u001B[43m        \u001B[49m\u001B[43mpath\u001B[49m\u001B[43m,\u001B[49m\n\u001B[1;32m    979\u001B[0m \u001B[43m        \u001B[49m\u001B[43mschema\u001B[49m\u001B[43m,\u001B[49m\n\u001B[1;32m    980\u001B[0m \u001B[43m        \u001B[49m\u001B[43mstate\u001B[49m\u001B[43m)\u001B[49m\n",
      "File \u001B[0;32m~/Desktop/repos/v2Ecoli/.venv/lib/python3.12/site-packages/bigraph_schema/type_system.py:1288\u001B[0m, in \u001B[0;36mTypeSystem.merge\u001B[0;34m(self, schema, state, path, update_schema, update_state, defer)\u001B[0m\n\u001B[1;32m   1279\u001B[0m \u001B[38;5;28;01mdef\u001B[39;00m \u001B[38;5;21mmerge\u001B[39m(\u001B[38;5;28mself\u001B[39m, schema, state, path, update_schema, update_state, defer\u001B[38;5;241m=\u001B[39m\u001B[38;5;28;01mFalse\u001B[39;00m):\n\u001B[1;32m   1280\u001B[0m     top_schema, top_state \u001B[38;5;241m=\u001B[39m \u001B[38;5;28mself\u001B[39m\u001B[38;5;241m.\u001B[39mset_slice(\n\u001B[1;32m   1281\u001B[0m         schema,\n\u001B[1;32m   1282\u001B[0m         state,\n\u001B[0;32m   (...)\u001B[0m\n\u001B[1;32m   1285\u001B[0m         update_state,\n\u001B[1;32m   1286\u001B[0m         defer)\n\u001B[0;32m-> 1288\u001B[0m     \u001B[38;5;28;01mreturn\u001B[39;00m \u001B[38;5;28;43mself\u001B[39;49m\u001B[38;5;241;43m.\u001B[39;49m\u001B[43mgenerate\u001B[49m\u001B[43m(\u001B[49m\u001B[43mtop_schema\u001B[49m\u001B[43m,\u001B[49m\u001B[43m \u001B[49m\u001B[43mtop_state\u001B[49m\u001B[43m)\u001B[49m\n",
      "File \u001B[0;32m~/Desktop/repos/v2Ecoli/.venv/lib/python3.12/site-packages/bigraph_schema/type_system.py:2073\u001B[0m, in \u001B[0;36mTypeSystem.generate\u001B[0;34m(self, schema, state)\u001B[0m\n\u001B[1;32m   2068\u001B[0m \u001B[38;5;28;01mdef\u001B[39;00m \u001B[38;5;21mgenerate\u001B[39m(\u001B[38;5;28mself\u001B[39m, schema, state):\n\u001B[1;32m   2069\u001B[0m     merged_schema, merged_state \u001B[38;5;241m=\u001B[39m \u001B[38;5;28mself\u001B[39m\u001B[38;5;241m.\u001B[39msort(\n\u001B[1;32m   2070\u001B[0m         schema,\n\u001B[1;32m   2071\u001B[0m         state)\n\u001B[0;32m-> 2073\u001B[0m     _, _, top_schema, top_state \u001B[38;5;241m=\u001B[39m \u001B[38;5;28;43mself\u001B[39;49m\u001B[38;5;241;43m.\u001B[39;49m\u001B[43mgenerate_recur\u001B[49m\u001B[43m(\u001B[49m\n\u001B[1;32m   2074\u001B[0m \u001B[43m        \u001B[49m\u001B[43mmerged_schema\u001B[49m\u001B[43m,\u001B[49m\n\u001B[1;32m   2075\u001B[0m \u001B[43m        \u001B[49m\u001B[43mmerged_state\u001B[49m\u001B[43m)\u001B[49m\n\u001B[1;32m   2077\u001B[0m     \u001B[38;5;28;01mreturn\u001B[39;00m top_schema, top_state\n",
      "File \u001B[0;32m~/Desktop/repos/v2Ecoli/.venv/lib/python3.12/site-packages/bigraph_schema/type_system.py:2059\u001B[0m, in \u001B[0;36mTypeSystem.generate_recur\u001B[0;34m(self, schema, state, top_schema, top_state, path)\u001B[0m\n\u001B[1;32m   2051\u001B[0m found \u001B[38;5;241m=\u001B[39m \u001B[38;5;28mself\u001B[39m\u001B[38;5;241m.\u001B[39mretrieve(\n\u001B[1;32m   2052\u001B[0m     schema)\n\u001B[1;32m   2054\u001B[0m generate_function \u001B[38;5;241m=\u001B[39m \u001B[38;5;28mself\u001B[39m\u001B[38;5;241m.\u001B[39mchoose_method(\n\u001B[1;32m   2055\u001B[0m     found,\n\u001B[1;32m   2056\u001B[0m     state,\n\u001B[1;32m   2057\u001B[0m     \u001B[38;5;124m'\u001B[39m\u001B[38;5;124mgenerate\u001B[39m\u001B[38;5;124m'\u001B[39m)\n\u001B[0;32m-> 2059\u001B[0m \u001B[38;5;28;01mreturn\u001B[39;00m \u001B[43mgenerate_function\u001B[49m\u001B[43m(\u001B[49m\n\u001B[1;32m   2060\u001B[0m \u001B[43m    \u001B[49m\u001B[38;5;28;43mself\u001B[39;49m\u001B[43m,\u001B[49m\n\u001B[1;32m   2061\u001B[0m \u001B[43m    \u001B[49m\u001B[43mfound\u001B[49m\u001B[43m,\u001B[49m\n\u001B[1;32m   2062\u001B[0m \u001B[43m    \u001B[49m\u001B[43mstate\u001B[49m\u001B[43m,\u001B[49m\n\u001B[1;32m   2063\u001B[0m \u001B[43m    \u001B[49m\u001B[43mtop_schema\u001B[49m\u001B[38;5;241;43m=\u001B[39;49m\u001B[43mtop_schema\u001B[49m\u001B[43m,\u001B[49m\n\u001B[1;32m   2064\u001B[0m \u001B[43m    \u001B[49m\u001B[43mtop_state\u001B[49m\u001B[38;5;241;43m=\u001B[39;49m\u001B[43mtop_state\u001B[49m\u001B[43m,\u001B[49m\n\u001B[1;32m   2065\u001B[0m \u001B[43m    \u001B[49m\u001B[43mpath\u001B[49m\u001B[38;5;241;43m=\u001B[39;49m\u001B[43mpath\u001B[49m\u001B[43m)\u001B[49m\n",
      "File \u001B[0;32m~/Desktop/repos/v2Ecoli/.venv/lib/python3.12/site-packages/bigraph_schema/type_functions.py:1884\u001B[0m, in \u001B[0;36mgenerate_any\u001B[0;34m(core, schema, state, top_schema, top_state, path)\u001B[0m\n\u001B[1;32m   1879\u001B[0m     generated_schema[key] \u001B[38;5;241m=\u001B[39m state\u001B[38;5;241m.\u001B[39mget(\n\u001B[1;32m   1880\u001B[0m         key,\n\u001B[1;32m   1881\u001B[0m         schema\u001B[38;5;241m.\u001B[39mget(key))\n\u001B[1;32m   1883\u001B[0m \u001B[38;5;28;01melse\u001B[39;00m:\n\u001B[0;32m-> 1884\u001B[0m     subschema, substate, top_schema, top_state \u001B[38;5;241m=\u001B[39m \u001B[43mcore\u001B[49m\u001B[38;5;241;43m.\u001B[39;49m\u001B[43mgenerate_recur\u001B[49m\u001B[43m(\u001B[49m\n\u001B[1;32m   1885\u001B[0m \u001B[43m        \u001B[49m\u001B[43mschema\u001B[49m\u001B[38;5;241;43m.\u001B[39;49m\u001B[43mget\u001B[49m\u001B[43m(\u001B[49m\u001B[43mkey\u001B[49m\u001B[43m)\u001B[49m\u001B[43m,\u001B[49m\n\u001B[1;32m   1886\u001B[0m \u001B[43m        \u001B[49m\u001B[43mstate\u001B[49m\u001B[38;5;241;43m.\u001B[39;49m\u001B[43mget\u001B[49m\u001B[43m(\u001B[49m\u001B[43mkey\u001B[49m\u001B[43m)\u001B[49m\u001B[43m,\u001B[49m\n\u001B[1;32m   1887\u001B[0m \u001B[43m        \u001B[49m\u001B[43mtop_schema\u001B[49m\u001B[38;5;241;43m=\u001B[39;49m\u001B[43mtop_schema\u001B[49m\u001B[43m,\u001B[49m\n\u001B[1;32m   1888\u001B[0m \u001B[43m        \u001B[49m\u001B[43mtop_state\u001B[49m\u001B[38;5;241;43m=\u001B[39;49m\u001B[43mtop_state\u001B[49m\u001B[43m,\u001B[49m\n\u001B[1;32m   1889\u001B[0m \u001B[43m        \u001B[49m\u001B[43mpath\u001B[49m\u001B[38;5;241;43m=\u001B[39;49m\u001B[43mpath\u001B[49m\u001B[38;5;241;43m+\u001B[39;49m\u001B[43m[\u001B[49m\u001B[43mkey\u001B[49m\u001B[43m]\u001B[49m\u001B[43m)\u001B[49m\n\u001B[1;32m   1891\u001B[0m     generated_schema[key] \u001B[38;5;241m=\u001B[39m core\u001B[38;5;241m.\u001B[39mresolve_schemas(\n\u001B[1;32m   1892\u001B[0m         schema\u001B[38;5;241m.\u001B[39mget(key, {}),\n\u001B[1;32m   1893\u001B[0m         subschema)\n\u001B[1;32m   1895\u001B[0m     generated_state[key] \u001B[38;5;241m=\u001B[39m substate\n",
      "File \u001B[0;32m~/Desktop/repos/v2Ecoli/.venv/lib/python3.12/site-packages/bigraph_schema/type_system.py:2059\u001B[0m, in \u001B[0;36mTypeSystem.generate_recur\u001B[0;34m(self, schema, state, top_schema, top_state, path)\u001B[0m\n\u001B[1;32m   2051\u001B[0m found \u001B[38;5;241m=\u001B[39m \u001B[38;5;28mself\u001B[39m\u001B[38;5;241m.\u001B[39mretrieve(\n\u001B[1;32m   2052\u001B[0m     schema)\n\u001B[1;32m   2054\u001B[0m generate_function \u001B[38;5;241m=\u001B[39m \u001B[38;5;28mself\u001B[39m\u001B[38;5;241m.\u001B[39mchoose_method(\n\u001B[1;32m   2055\u001B[0m     found,\n\u001B[1;32m   2056\u001B[0m     state,\n\u001B[1;32m   2057\u001B[0m     \u001B[38;5;124m'\u001B[39m\u001B[38;5;124mgenerate\u001B[39m\u001B[38;5;124m'\u001B[39m)\n\u001B[0;32m-> 2059\u001B[0m \u001B[38;5;28;01mreturn\u001B[39;00m \u001B[43mgenerate_function\u001B[49m\u001B[43m(\u001B[49m\n\u001B[1;32m   2060\u001B[0m \u001B[43m    \u001B[49m\u001B[38;5;28;43mself\u001B[39;49m\u001B[43m,\u001B[49m\n\u001B[1;32m   2061\u001B[0m \u001B[43m    \u001B[49m\u001B[43mfound\u001B[49m\u001B[43m,\u001B[49m\n\u001B[1;32m   2062\u001B[0m \u001B[43m    \u001B[49m\u001B[43mstate\u001B[49m\u001B[43m,\u001B[49m\n\u001B[1;32m   2063\u001B[0m \u001B[43m    \u001B[49m\u001B[43mtop_schema\u001B[49m\u001B[38;5;241;43m=\u001B[39;49m\u001B[43mtop_schema\u001B[49m\u001B[43m,\u001B[49m\n\u001B[1;32m   2064\u001B[0m \u001B[43m    \u001B[49m\u001B[43mtop_state\u001B[49m\u001B[38;5;241;43m=\u001B[39;49m\u001B[43mtop_state\u001B[49m\u001B[43m,\u001B[49m\n\u001B[1;32m   2065\u001B[0m \u001B[43m    \u001B[49m\u001B[43mpath\u001B[49m\u001B[38;5;241;43m=\u001B[39;49m\u001B[43mpath\u001B[49m\u001B[43m)\u001B[49m\n",
      "File \u001B[0;32m~/Desktop/repos/v2Ecoli/.venv/lib/python3.12/site-packages/bigraph_schema/type_functions.py:2117\u001B[0m, in \u001B[0;36mgenerate_edge\u001B[0;34m(core, schema, state, top_schema, top_state, path)\u001B[0m\n\u001B[1;32m   2112\u001B[0m     port_schema \u001B[38;5;241m=\u001B[39m merged_schema\u001B[38;5;241m.\u001B[39mget(\n\u001B[1;32m   2113\u001B[0m         \u001B[38;5;124mf\u001B[39m\u001B[38;5;124m'\u001B[39m\u001B[38;5;124m_\u001B[39m\u001B[38;5;132;01m{\u001B[39;00mport_key\u001B[38;5;132;01m}\u001B[39;00m\u001B[38;5;124m'\u001B[39m, {})\n\u001B[1;32m   2114\u001B[0m     ports \u001B[38;5;241m=\u001B[39m merged_state\u001B[38;5;241m.\u001B[39mget(\n\u001B[1;32m   2115\u001B[0m         port_key, {})\n\u001B[0;32m-> 2117\u001B[0m     top_schema, top_state \u001B[38;5;241m=\u001B[39m \u001B[43mgenerate_ports\u001B[49m\u001B[43m(\u001B[49m\n\u001B[1;32m   2118\u001B[0m \u001B[43m        \u001B[49m\u001B[43mcore\u001B[49m\u001B[43m,\u001B[49m\n\u001B[1;32m   2119\u001B[0m \u001B[43m        \u001B[49m\u001B[43mport_schema\u001B[49m\u001B[43m,\u001B[49m\n\u001B[1;32m   2120\u001B[0m \u001B[43m        \u001B[49m\u001B[43mports\u001B[49m\u001B[43m,\u001B[49m\n\u001B[1;32m   2121\u001B[0m \u001B[43m        \u001B[49m\u001B[43mtop_schema\u001B[49m\u001B[38;5;241;43m=\u001B[39;49m\u001B[43mtop_schema\u001B[49m\u001B[43m,\u001B[49m\n\u001B[1;32m   2122\u001B[0m \u001B[43m        \u001B[49m\u001B[43mtop_state\u001B[49m\u001B[38;5;241;43m=\u001B[39;49m\u001B[43mtop_state\u001B[49m\u001B[43m,\u001B[49m\n\u001B[1;32m   2123\u001B[0m \u001B[43m        \u001B[49m\u001B[43mpath\u001B[49m\u001B[38;5;241;43m=\u001B[39;49m\u001B[43mpath\u001B[49m\u001B[43m)\u001B[49m\n\u001B[1;32m   2125\u001B[0m \u001B[38;5;28;01mreturn\u001B[39;00m merged_schema, merged_state, top_schema, top_state\n",
      "File \u001B[0;32m~/Desktop/repos/v2Ecoli/.venv/lib/python3.12/site-packages/bigraph_schema/type_functions.py:2068\u001B[0m, in \u001B[0;36mgenerate_ports\u001B[0;34m(core, schema, wires, top_schema, top_state, path)\u001B[0m\n\u001B[1;32m   2065\u001B[0m         \u001B[38;5;28;01mif\u001B[39;00m \u001B[38;5;28misinstance\u001B[39m(subwires, \u001B[38;5;28mstr\u001B[39m):\n\u001B[1;32m   2066\u001B[0m             subwires \u001B[38;5;241m=\u001B[39m [subwires]\n\u001B[0;32m-> 2068\u001B[0m         default_state \u001B[38;5;241m=\u001B[39m \u001B[43mcore\u001B[49m\u001B[38;5;241;43m.\u001B[39;49m\u001B[43mdefault\u001B[49m\u001B[43m(\u001B[49m\n\u001B[1;32m   2069\u001B[0m \u001B[43m            \u001B[49m\u001B[43mport_schema\u001B[49m\u001B[43m)\u001B[49m\n\u001B[1;32m   2071\u001B[0m         top_schema, top_state \u001B[38;5;241m=\u001B[39m core\u001B[38;5;241m.\u001B[39mset_slice(\n\u001B[1;32m   2072\u001B[0m             top_schema,\n\u001B[1;32m   2073\u001B[0m             top_state,\n\u001B[0;32m   (...)\u001B[0m\n\u001B[1;32m   2076\u001B[0m             default_state,\n\u001B[1;32m   2077\u001B[0m             defer\u001B[38;5;241m=\u001B[39m\u001B[38;5;28;01mTrue\u001B[39;00m)\n\u001B[1;32m   2079\u001B[0m \u001B[38;5;28;01mreturn\u001B[39;00m top_schema, top_state\n",
      "File \u001B[0;32m~/Desktop/repos/v2Ecoli/.venv/lib/python3.12/site-packages/bigraph_schema/type_system.py:715\u001B[0m, in \u001B[0;36mTypeSystem.default\u001B[0;34m(self, schema)\u001B[0m\n\u001B[1;32m    713\u001B[0m     \u001B[38;5;28;01mfor\u001B[39;00m key, subschema \u001B[38;5;129;01min\u001B[39;00m found\u001B[38;5;241m.\u001B[39mitems():\n\u001B[1;32m    714\u001B[0m         \u001B[38;5;28;01mif\u001B[39;00m \u001B[38;5;129;01mnot\u001B[39;00m is_schema_key(key):\n\u001B[0;32m--> 715\u001B[0m             default[key] \u001B[38;5;241m=\u001B[39m \u001B[38;5;28;43mself\u001B[39;49m\u001B[38;5;241;43m.\u001B[39;49m\u001B[43mdefault\u001B[49m\u001B[43m(\u001B[49m\u001B[43msubschema\u001B[49m\u001B[43m)\u001B[49m\n\u001B[1;32m    717\u001B[0m \u001B[38;5;28;01mreturn\u001B[39;00m default\n",
      "File \u001B[0;32m~/Desktop/repos/v2Ecoli/.venv/lib/python3.12/site-packages/bigraph_schema/type_system.py:698\u001B[0m, in \u001B[0;36mTypeSystem.default\u001B[0;34m(self, schema)\u001B[0m\n\u001B[1;32m    696\u001B[0m default_method \u001B[38;5;241m=\u001B[39m \u001B[38;5;28mself\u001B[39m\u001B[38;5;241m.\u001B[39mdefault_registry\u001B[38;5;241m.\u001B[39maccess(default_value)\n\u001B[1;32m    697\u001B[0m \u001B[38;5;28;01mif\u001B[39;00m default_method \u001B[38;5;129;01mand\u001B[39;00m \u001B[38;5;28mcallable\u001B[39m(default_method):\n\u001B[0;32m--> 698\u001B[0m     default \u001B[38;5;241m=\u001B[39m \u001B[43mdefault_method\u001B[49m\u001B[43m(\u001B[49m\u001B[43mfound\u001B[49m\u001B[43m,\u001B[49m\u001B[43m \u001B[49m\u001B[38;5;28;43mself\u001B[39;49m\u001B[43m)\u001B[49m\n\u001B[1;32m    699\u001B[0m \u001B[38;5;28;01melse\u001B[39;00m:\n\u001B[1;32m    700\u001B[0m     default \u001B[38;5;241m=\u001B[39m \u001B[38;5;28mself\u001B[39m\u001B[38;5;241m.\u001B[39mdeserialize(\n\u001B[1;32m    701\u001B[0m         found,\n\u001B[1;32m    702\u001B[0m         default_value)\n",
      "File \u001B[0;32m~/Desktop/repos/v2Ecoli/.venv/lib/python3.12/site-packages/bigraph_schema/type_functions.py:1824\u001B[0m, in \u001B[0;36mdefault_array\u001B[0;34m(schema, core)\u001B[0m\n\u001B[1;32m   1819\u001B[0m \u001B[38;5;28;01mdef\u001B[39;00m \u001B[38;5;21mdefault_array\u001B[39m(schema, core):\n\u001B[1;32m   1820\u001B[0m     data_schema \u001B[38;5;241m=\u001B[39m core\u001B[38;5;241m.\u001B[39mfind_parameter(\n\u001B[1;32m   1821\u001B[0m         schema,\n\u001B[1;32m   1822\u001B[0m         \u001B[38;5;124m'\u001B[39m\u001B[38;5;124mdata\u001B[39m\u001B[38;5;124m'\u001B[39m)\n\u001B[0;32m-> 1824\u001B[0m     dtype \u001B[38;5;241m=\u001B[39m \u001B[43mread_datatype\u001B[49m\u001B[43m(\u001B[49m\n\u001B[1;32m   1825\u001B[0m \u001B[43m        \u001B[49m\u001B[43mdata_schema\u001B[49m\u001B[43m)\u001B[49m\n\u001B[1;32m   1827\u001B[0m     shape \u001B[38;5;241m=\u001B[39m read_shape(\n\u001B[1;32m   1828\u001B[0m         schema[\u001B[38;5;124m'\u001B[39m\u001B[38;5;124m_shape\u001B[39m\u001B[38;5;124m'\u001B[39m])\n\u001B[1;32m   1830\u001B[0m     \u001B[38;5;28;01mreturn\u001B[39;00m np\u001B[38;5;241m.\u001B[39mzeros(\n\u001B[1;32m   1831\u001B[0m         shape,\n\u001B[1;32m   1832\u001B[0m         dtype\u001B[38;5;241m=\u001B[39mdtype)\n",
      "File \u001B[0;32m~/Desktop/repos/v2Ecoli/.venv/lib/python3.12/site-packages/bigraph_schema/utilities.py:150\u001B[0m, in \u001B[0;36mread_datatype\u001B[0;34m(data_schema)\u001B[0m\n\u001B[1;32m    148\u001B[0m \u001B[38;5;28;01mdef\u001B[39;00m \u001B[38;5;21mread_datatype\u001B[39m(data_schema):\n\u001B[1;32m    149\u001B[0m     \u001B[38;5;28;01mreturn\u001B[39;00m lookup_dtype(\n\u001B[0;32m--> 150\u001B[0m         \u001B[43mdata_schema\u001B[49m\u001B[43m[\u001B[49m\u001B[38;5;124;43m'\u001B[39;49m\u001B[38;5;124;43m_type\u001B[39;49m\u001B[38;5;124;43m'\u001B[39;49m\u001B[43m]\u001B[49m)\n",
      "\u001B[0;31mTypeError\u001B[0m: string indices must be integers, not 'str'"
     ]
    }
   ],
   "execution_count": 19
  },
  {
   "metadata": {
    "ExecuteTime": {
     "end_time": "2025-03-17T15:55:28.976954Z",
     "start_time": "2025-03-17T15:55:28.924616Z"
    }
   },
   "cell_type": "code",
   "source": "viv2",
   "id": "75a31d2764806b0",
   "outputs": [
    {
     "ename": "TypeError",
     "evalue": "string indices must be integers, not 'str'",
     "output_type": "error",
     "traceback": [
      "\u001B[0;31m---------------------------------------------------------------------------\u001B[0m",
      "\u001B[0;31mTypeError\u001B[0m                                 Traceback (most recent call last)",
      "Cell \u001B[0;32mIn[17], line 1\u001B[0m\n\u001B[0;32m----> 1\u001B[0m \u001B[43mviv\u001B[49m\u001B[38;5;241;43m.\u001B[39;49m\u001B[43mconnect_process\u001B[49m\u001B[43m(\u001B[49m\u001B[43mprocess_name\u001B[49m\u001B[38;5;241;43m=\u001B[39;49m\u001B[38;5;124;43m'\u001B[39;49m\u001B[38;5;124;43mwall-0\u001B[39;49m\u001B[38;5;124;43m'\u001B[39;49m\u001B[43m)\u001B[49m\n",
      "File \u001B[0;32m~/Desktop/repos/vivarium-interface/vivarium_interface/vivarium.py:197\u001B[0m, in \u001B[0;36mVivarium.connect_process\u001B[0;34m(self, process_name, inputs, outputs, path)\u001B[0m\n\u001B[1;32m    194\u001B[0m     state[process_name][\u001B[38;5;124m\"\u001B[39m\u001B[38;5;124moutputs\u001B[39m\u001B[38;5;124m\"\u001B[39m] \u001B[38;5;241m=\u001B[39m outputs\n\u001B[1;32m    196\u001B[0m \u001B[38;5;66;03m# nest the process in the composite at the given path\u001B[39;00m\n\u001B[0;32m--> 197\u001B[0m \u001B[38;5;28;43mself\u001B[39;49m\u001B[38;5;241;43m.\u001B[39;49m\u001B[43mcomposite\u001B[49m\u001B[38;5;241;43m.\u001B[39;49m\u001B[43mmerge\u001B[49m\u001B[43m(\u001B[49m\u001B[43m{\u001B[49m\u001B[43m}\u001B[49m\u001B[43m,\u001B[49m\u001B[43m \u001B[49m\u001B[43mstate\u001B[49m\u001B[43m,\u001B[49m\u001B[43m \u001B[49m\u001B[43mpath\u001B[49m\u001B[43m)\u001B[49m\n\u001B[1;32m    198\u001B[0m \u001B[38;5;28mself\u001B[39m\u001B[38;5;241m.\u001B[39mcomposite\u001B[38;5;241m.\u001B[39mbuild_step_network()\n",
      "File \u001B[0;32m~/Desktop/repos/v2Ecoli/.venv/lib/python3.12/site-packages/process_bigraph/composite.py:975\u001B[0m, in \u001B[0;36mComposite.merge\u001B[0;34m(self, schema, state, path)\u001B[0m\n\u001B[1;32m    973\u001B[0m \u001B[38;5;28;01mdef\u001B[39;00m \u001B[38;5;21mmerge\u001B[39m(\u001B[38;5;28mself\u001B[39m, schema, state, path\u001B[38;5;241m=\u001B[39m\u001B[38;5;28;01mNone\u001B[39;00m):\n\u001B[1;32m    974\u001B[0m     path \u001B[38;5;241m=\u001B[39m path \u001B[38;5;129;01mor\u001B[39;00m []\n\u001B[0;32m--> 975\u001B[0m     \u001B[38;5;28mself\u001B[39m\u001B[38;5;241m.\u001B[39mcomposition, \u001B[38;5;28mself\u001B[39m\u001B[38;5;241m.\u001B[39mstate \u001B[38;5;241m=\u001B[39m \u001B[38;5;28;43mself\u001B[39;49m\u001B[38;5;241;43m.\u001B[39;49m\u001B[43mcore\u001B[49m\u001B[38;5;241;43m.\u001B[39;49m\u001B[43mmerge\u001B[49m\u001B[43m(\u001B[49m\n\u001B[1;32m    976\u001B[0m \u001B[43m        \u001B[49m\u001B[38;5;28;43mself\u001B[39;49m\u001B[38;5;241;43m.\u001B[39;49m\u001B[43mcomposition\u001B[49m\u001B[43m,\u001B[49m\n\u001B[1;32m    977\u001B[0m \u001B[43m        \u001B[49m\u001B[38;5;28;43mself\u001B[39;49m\u001B[38;5;241;43m.\u001B[39;49m\u001B[43mstate\u001B[49m\u001B[43m,\u001B[49m\n\u001B[1;32m    978\u001B[0m \u001B[43m        \u001B[49m\u001B[43mpath\u001B[49m\u001B[43m,\u001B[49m\n\u001B[1;32m    979\u001B[0m \u001B[43m        \u001B[49m\u001B[43mschema\u001B[49m\u001B[43m,\u001B[49m\n\u001B[1;32m    980\u001B[0m \u001B[43m        \u001B[49m\u001B[43mstate\u001B[49m\u001B[43m)\u001B[49m\n",
      "File \u001B[0;32m~/Desktop/repos/v2Ecoli/.venv/lib/python3.12/site-packages/bigraph_schema/type_system.py:1288\u001B[0m, in \u001B[0;36mTypeSystem.merge\u001B[0;34m(self, schema, state, path, update_schema, update_state, defer)\u001B[0m\n\u001B[1;32m   1279\u001B[0m \u001B[38;5;28;01mdef\u001B[39;00m \u001B[38;5;21mmerge\u001B[39m(\u001B[38;5;28mself\u001B[39m, schema, state, path, update_schema, update_state, defer\u001B[38;5;241m=\u001B[39m\u001B[38;5;28;01mFalse\u001B[39;00m):\n\u001B[1;32m   1280\u001B[0m     top_schema, top_state \u001B[38;5;241m=\u001B[39m \u001B[38;5;28mself\u001B[39m\u001B[38;5;241m.\u001B[39mset_slice(\n\u001B[1;32m   1281\u001B[0m         schema,\n\u001B[1;32m   1282\u001B[0m         state,\n\u001B[0;32m   (...)\u001B[0m\n\u001B[1;32m   1285\u001B[0m         update_state,\n\u001B[1;32m   1286\u001B[0m         defer)\n\u001B[0;32m-> 1288\u001B[0m     \u001B[38;5;28;01mreturn\u001B[39;00m \u001B[38;5;28;43mself\u001B[39;49m\u001B[38;5;241;43m.\u001B[39;49m\u001B[43mgenerate\u001B[49m\u001B[43m(\u001B[49m\u001B[43mtop_schema\u001B[49m\u001B[43m,\u001B[49m\u001B[43m \u001B[49m\u001B[43mtop_state\u001B[49m\u001B[43m)\u001B[49m\n",
      "File \u001B[0;32m~/Desktop/repos/v2Ecoli/.venv/lib/python3.12/site-packages/bigraph_schema/type_system.py:2073\u001B[0m, in \u001B[0;36mTypeSystem.generate\u001B[0;34m(self, schema, state)\u001B[0m\n\u001B[1;32m   2068\u001B[0m \u001B[38;5;28;01mdef\u001B[39;00m \u001B[38;5;21mgenerate\u001B[39m(\u001B[38;5;28mself\u001B[39m, schema, state):\n\u001B[1;32m   2069\u001B[0m     merged_schema, merged_state \u001B[38;5;241m=\u001B[39m \u001B[38;5;28mself\u001B[39m\u001B[38;5;241m.\u001B[39msort(\n\u001B[1;32m   2070\u001B[0m         schema,\n\u001B[1;32m   2071\u001B[0m         state)\n\u001B[0;32m-> 2073\u001B[0m     _, _, top_schema, top_state \u001B[38;5;241m=\u001B[39m \u001B[38;5;28;43mself\u001B[39;49m\u001B[38;5;241;43m.\u001B[39;49m\u001B[43mgenerate_recur\u001B[49m\u001B[43m(\u001B[49m\n\u001B[1;32m   2074\u001B[0m \u001B[43m        \u001B[49m\u001B[43mmerged_schema\u001B[49m\u001B[43m,\u001B[49m\n\u001B[1;32m   2075\u001B[0m \u001B[43m        \u001B[49m\u001B[43mmerged_state\u001B[49m\u001B[43m)\u001B[49m\n\u001B[1;32m   2077\u001B[0m     \u001B[38;5;28;01mreturn\u001B[39;00m top_schema, top_state\n",
      "File \u001B[0;32m~/Desktop/repos/v2Ecoli/.venv/lib/python3.12/site-packages/bigraph_schema/type_system.py:2059\u001B[0m, in \u001B[0;36mTypeSystem.generate_recur\u001B[0;34m(self, schema, state, top_schema, top_state, path)\u001B[0m\n\u001B[1;32m   2051\u001B[0m found \u001B[38;5;241m=\u001B[39m \u001B[38;5;28mself\u001B[39m\u001B[38;5;241m.\u001B[39mretrieve(\n\u001B[1;32m   2052\u001B[0m     schema)\n\u001B[1;32m   2054\u001B[0m generate_function \u001B[38;5;241m=\u001B[39m \u001B[38;5;28mself\u001B[39m\u001B[38;5;241m.\u001B[39mchoose_method(\n\u001B[1;32m   2055\u001B[0m     found,\n\u001B[1;32m   2056\u001B[0m     state,\n\u001B[1;32m   2057\u001B[0m     \u001B[38;5;124m'\u001B[39m\u001B[38;5;124mgenerate\u001B[39m\u001B[38;5;124m'\u001B[39m)\n\u001B[0;32m-> 2059\u001B[0m \u001B[38;5;28;01mreturn\u001B[39;00m \u001B[43mgenerate_function\u001B[49m\u001B[43m(\u001B[49m\n\u001B[1;32m   2060\u001B[0m \u001B[43m    \u001B[49m\u001B[38;5;28;43mself\u001B[39;49m\u001B[43m,\u001B[49m\n\u001B[1;32m   2061\u001B[0m \u001B[43m    \u001B[49m\u001B[43mfound\u001B[49m\u001B[43m,\u001B[49m\n\u001B[1;32m   2062\u001B[0m \u001B[43m    \u001B[49m\u001B[43mstate\u001B[49m\u001B[43m,\u001B[49m\n\u001B[1;32m   2063\u001B[0m \u001B[43m    \u001B[49m\u001B[43mtop_schema\u001B[49m\u001B[38;5;241;43m=\u001B[39;49m\u001B[43mtop_schema\u001B[49m\u001B[43m,\u001B[49m\n\u001B[1;32m   2064\u001B[0m \u001B[43m    \u001B[49m\u001B[43mtop_state\u001B[49m\u001B[38;5;241;43m=\u001B[39;49m\u001B[43mtop_state\u001B[49m\u001B[43m,\u001B[49m\n\u001B[1;32m   2065\u001B[0m \u001B[43m    \u001B[49m\u001B[43mpath\u001B[49m\u001B[38;5;241;43m=\u001B[39;49m\u001B[43mpath\u001B[49m\u001B[43m)\u001B[49m\n",
      "File \u001B[0;32m~/Desktop/repos/v2Ecoli/.venv/lib/python3.12/site-packages/bigraph_schema/type_functions.py:1884\u001B[0m, in \u001B[0;36mgenerate_any\u001B[0;34m(core, schema, state, top_schema, top_state, path)\u001B[0m\n\u001B[1;32m   1879\u001B[0m     generated_schema[key] \u001B[38;5;241m=\u001B[39m state\u001B[38;5;241m.\u001B[39mget(\n\u001B[1;32m   1880\u001B[0m         key,\n\u001B[1;32m   1881\u001B[0m         schema\u001B[38;5;241m.\u001B[39mget(key))\n\u001B[1;32m   1883\u001B[0m \u001B[38;5;28;01melse\u001B[39;00m:\n\u001B[0;32m-> 1884\u001B[0m     subschema, substate, top_schema, top_state \u001B[38;5;241m=\u001B[39m \u001B[43mcore\u001B[49m\u001B[38;5;241;43m.\u001B[39;49m\u001B[43mgenerate_recur\u001B[49m\u001B[43m(\u001B[49m\n\u001B[1;32m   1885\u001B[0m \u001B[43m        \u001B[49m\u001B[43mschema\u001B[49m\u001B[38;5;241;43m.\u001B[39;49m\u001B[43mget\u001B[49m\u001B[43m(\u001B[49m\u001B[43mkey\u001B[49m\u001B[43m)\u001B[49m\u001B[43m,\u001B[49m\n\u001B[1;32m   1886\u001B[0m \u001B[43m        \u001B[49m\u001B[43mstate\u001B[49m\u001B[38;5;241;43m.\u001B[39;49m\u001B[43mget\u001B[49m\u001B[43m(\u001B[49m\u001B[43mkey\u001B[49m\u001B[43m)\u001B[49m\u001B[43m,\u001B[49m\n\u001B[1;32m   1887\u001B[0m \u001B[43m        \u001B[49m\u001B[43mtop_schema\u001B[49m\u001B[38;5;241;43m=\u001B[39;49m\u001B[43mtop_schema\u001B[49m\u001B[43m,\u001B[49m\n\u001B[1;32m   1888\u001B[0m \u001B[43m        \u001B[49m\u001B[43mtop_state\u001B[49m\u001B[38;5;241;43m=\u001B[39;49m\u001B[43mtop_state\u001B[49m\u001B[43m,\u001B[49m\n\u001B[1;32m   1889\u001B[0m \u001B[43m        \u001B[49m\u001B[43mpath\u001B[49m\u001B[38;5;241;43m=\u001B[39;49m\u001B[43mpath\u001B[49m\u001B[38;5;241;43m+\u001B[39;49m\u001B[43m[\u001B[49m\u001B[43mkey\u001B[49m\u001B[43m]\u001B[49m\u001B[43m)\u001B[49m\n\u001B[1;32m   1891\u001B[0m     generated_schema[key] \u001B[38;5;241m=\u001B[39m core\u001B[38;5;241m.\u001B[39mresolve_schemas(\n\u001B[1;32m   1892\u001B[0m         schema\u001B[38;5;241m.\u001B[39mget(key, {}),\n\u001B[1;32m   1893\u001B[0m         subschema)\n\u001B[1;32m   1895\u001B[0m     generated_state[key] \u001B[38;5;241m=\u001B[39m substate\n",
      "File \u001B[0;32m~/Desktop/repos/v2Ecoli/.venv/lib/python3.12/site-packages/bigraph_schema/type_system.py:2059\u001B[0m, in \u001B[0;36mTypeSystem.generate_recur\u001B[0;34m(self, schema, state, top_schema, top_state, path)\u001B[0m\n\u001B[1;32m   2051\u001B[0m found \u001B[38;5;241m=\u001B[39m \u001B[38;5;28mself\u001B[39m\u001B[38;5;241m.\u001B[39mretrieve(\n\u001B[1;32m   2052\u001B[0m     schema)\n\u001B[1;32m   2054\u001B[0m generate_function \u001B[38;5;241m=\u001B[39m \u001B[38;5;28mself\u001B[39m\u001B[38;5;241m.\u001B[39mchoose_method(\n\u001B[1;32m   2055\u001B[0m     found,\n\u001B[1;32m   2056\u001B[0m     state,\n\u001B[1;32m   2057\u001B[0m     \u001B[38;5;124m'\u001B[39m\u001B[38;5;124mgenerate\u001B[39m\u001B[38;5;124m'\u001B[39m)\n\u001B[0;32m-> 2059\u001B[0m \u001B[38;5;28;01mreturn\u001B[39;00m \u001B[43mgenerate_function\u001B[49m\u001B[43m(\u001B[49m\n\u001B[1;32m   2060\u001B[0m \u001B[43m    \u001B[49m\u001B[38;5;28;43mself\u001B[39;49m\u001B[43m,\u001B[49m\n\u001B[1;32m   2061\u001B[0m \u001B[43m    \u001B[49m\u001B[43mfound\u001B[49m\u001B[43m,\u001B[49m\n\u001B[1;32m   2062\u001B[0m \u001B[43m    \u001B[49m\u001B[43mstate\u001B[49m\u001B[43m,\u001B[49m\n\u001B[1;32m   2063\u001B[0m \u001B[43m    \u001B[49m\u001B[43mtop_schema\u001B[49m\u001B[38;5;241;43m=\u001B[39;49m\u001B[43mtop_schema\u001B[49m\u001B[43m,\u001B[49m\n\u001B[1;32m   2064\u001B[0m \u001B[43m    \u001B[49m\u001B[43mtop_state\u001B[49m\u001B[38;5;241;43m=\u001B[39;49m\u001B[43mtop_state\u001B[49m\u001B[43m,\u001B[49m\n\u001B[1;32m   2065\u001B[0m \u001B[43m    \u001B[49m\u001B[43mpath\u001B[49m\u001B[38;5;241;43m=\u001B[39;49m\u001B[43mpath\u001B[49m\u001B[43m)\u001B[49m\n",
      "File \u001B[0;32m~/Desktop/repos/v2Ecoli/.venv/lib/python3.12/site-packages/bigraph_schema/type_functions.py:2117\u001B[0m, in \u001B[0;36mgenerate_edge\u001B[0;34m(core, schema, state, top_schema, top_state, path)\u001B[0m\n\u001B[1;32m   2112\u001B[0m     port_schema \u001B[38;5;241m=\u001B[39m merged_schema\u001B[38;5;241m.\u001B[39mget(\n\u001B[1;32m   2113\u001B[0m         \u001B[38;5;124mf\u001B[39m\u001B[38;5;124m'\u001B[39m\u001B[38;5;124m_\u001B[39m\u001B[38;5;132;01m{\u001B[39;00mport_key\u001B[38;5;132;01m}\u001B[39;00m\u001B[38;5;124m'\u001B[39m, {})\n\u001B[1;32m   2114\u001B[0m     ports \u001B[38;5;241m=\u001B[39m merged_state\u001B[38;5;241m.\u001B[39mget(\n\u001B[1;32m   2115\u001B[0m         port_key, {})\n\u001B[0;32m-> 2117\u001B[0m     top_schema, top_state \u001B[38;5;241m=\u001B[39m \u001B[43mgenerate_ports\u001B[49m\u001B[43m(\u001B[49m\n\u001B[1;32m   2118\u001B[0m \u001B[43m        \u001B[49m\u001B[43mcore\u001B[49m\u001B[43m,\u001B[49m\n\u001B[1;32m   2119\u001B[0m \u001B[43m        \u001B[49m\u001B[43mport_schema\u001B[49m\u001B[43m,\u001B[49m\n\u001B[1;32m   2120\u001B[0m \u001B[43m        \u001B[49m\u001B[43mports\u001B[49m\u001B[43m,\u001B[49m\n\u001B[1;32m   2121\u001B[0m \u001B[43m        \u001B[49m\u001B[43mtop_schema\u001B[49m\u001B[38;5;241;43m=\u001B[39;49m\u001B[43mtop_schema\u001B[49m\u001B[43m,\u001B[49m\n\u001B[1;32m   2122\u001B[0m \u001B[43m        \u001B[49m\u001B[43mtop_state\u001B[49m\u001B[38;5;241;43m=\u001B[39;49m\u001B[43mtop_state\u001B[49m\u001B[43m,\u001B[49m\n\u001B[1;32m   2123\u001B[0m \u001B[43m        \u001B[49m\u001B[43mpath\u001B[49m\u001B[38;5;241;43m=\u001B[39;49m\u001B[43mpath\u001B[49m\u001B[43m)\u001B[49m\n\u001B[1;32m   2125\u001B[0m \u001B[38;5;28;01mreturn\u001B[39;00m merged_schema, merged_state, top_schema, top_state\n",
      "File \u001B[0;32m~/Desktop/repos/v2Ecoli/.venv/lib/python3.12/site-packages/bigraph_schema/type_functions.py:2068\u001B[0m, in \u001B[0;36mgenerate_ports\u001B[0;34m(core, schema, wires, top_schema, top_state, path)\u001B[0m\n\u001B[1;32m   2065\u001B[0m         \u001B[38;5;28;01mif\u001B[39;00m \u001B[38;5;28misinstance\u001B[39m(subwires, \u001B[38;5;28mstr\u001B[39m):\n\u001B[1;32m   2066\u001B[0m             subwires \u001B[38;5;241m=\u001B[39m [subwires]\n\u001B[0;32m-> 2068\u001B[0m         default_state \u001B[38;5;241m=\u001B[39m \u001B[43mcore\u001B[49m\u001B[38;5;241;43m.\u001B[39;49m\u001B[43mdefault\u001B[49m\u001B[43m(\u001B[49m\n\u001B[1;32m   2069\u001B[0m \u001B[43m            \u001B[49m\u001B[43mport_schema\u001B[49m\u001B[43m)\u001B[49m\n\u001B[1;32m   2071\u001B[0m         top_schema, top_state \u001B[38;5;241m=\u001B[39m core\u001B[38;5;241m.\u001B[39mset_slice(\n\u001B[1;32m   2072\u001B[0m             top_schema,\n\u001B[1;32m   2073\u001B[0m             top_state,\n\u001B[0;32m   (...)\u001B[0m\n\u001B[1;32m   2076\u001B[0m             default_state,\n\u001B[1;32m   2077\u001B[0m             defer\u001B[38;5;241m=\u001B[39m\u001B[38;5;28;01mTrue\u001B[39;00m)\n\u001B[1;32m   2079\u001B[0m \u001B[38;5;28;01mreturn\u001B[39;00m top_schema, top_state\n",
      "File \u001B[0;32m~/Desktop/repos/v2Ecoli/.venv/lib/python3.12/site-packages/bigraph_schema/type_system.py:715\u001B[0m, in \u001B[0;36mTypeSystem.default\u001B[0;34m(self, schema)\u001B[0m\n\u001B[1;32m    713\u001B[0m     \u001B[38;5;28;01mfor\u001B[39;00m key, subschema \u001B[38;5;129;01min\u001B[39;00m found\u001B[38;5;241m.\u001B[39mitems():\n\u001B[1;32m    714\u001B[0m         \u001B[38;5;28;01mif\u001B[39;00m \u001B[38;5;129;01mnot\u001B[39;00m is_schema_key(key):\n\u001B[0;32m--> 715\u001B[0m             default[key] \u001B[38;5;241m=\u001B[39m \u001B[38;5;28;43mself\u001B[39;49m\u001B[38;5;241;43m.\u001B[39;49m\u001B[43mdefault\u001B[49m\u001B[43m(\u001B[49m\u001B[43msubschema\u001B[49m\u001B[43m)\u001B[49m\n\u001B[1;32m    717\u001B[0m \u001B[38;5;28;01mreturn\u001B[39;00m default\n",
      "File \u001B[0;32m~/Desktop/repos/v2Ecoli/.venv/lib/python3.12/site-packages/bigraph_schema/type_system.py:698\u001B[0m, in \u001B[0;36mTypeSystem.default\u001B[0;34m(self, schema)\u001B[0m\n\u001B[1;32m    696\u001B[0m default_method \u001B[38;5;241m=\u001B[39m \u001B[38;5;28mself\u001B[39m\u001B[38;5;241m.\u001B[39mdefault_registry\u001B[38;5;241m.\u001B[39maccess(default_value)\n\u001B[1;32m    697\u001B[0m \u001B[38;5;28;01mif\u001B[39;00m default_method \u001B[38;5;129;01mand\u001B[39;00m \u001B[38;5;28mcallable\u001B[39m(default_method):\n\u001B[0;32m--> 698\u001B[0m     default \u001B[38;5;241m=\u001B[39m \u001B[43mdefault_method\u001B[49m\u001B[43m(\u001B[49m\u001B[43mfound\u001B[49m\u001B[43m,\u001B[49m\u001B[43m \u001B[49m\u001B[38;5;28;43mself\u001B[39;49m\u001B[43m)\u001B[49m\n\u001B[1;32m    699\u001B[0m \u001B[38;5;28;01melse\u001B[39;00m:\n\u001B[1;32m    700\u001B[0m     default \u001B[38;5;241m=\u001B[39m \u001B[38;5;28mself\u001B[39m\u001B[38;5;241m.\u001B[39mdeserialize(\n\u001B[1;32m    701\u001B[0m         found,\n\u001B[1;32m    702\u001B[0m         default_value)\n",
      "File \u001B[0;32m~/Desktop/repos/v2Ecoli/.venv/lib/python3.12/site-packages/bigraph_schema/type_functions.py:1824\u001B[0m, in \u001B[0;36mdefault_array\u001B[0;34m(schema, core)\u001B[0m\n\u001B[1;32m   1819\u001B[0m \u001B[38;5;28;01mdef\u001B[39;00m \u001B[38;5;21mdefault_array\u001B[39m(schema, core):\n\u001B[1;32m   1820\u001B[0m     data_schema \u001B[38;5;241m=\u001B[39m core\u001B[38;5;241m.\u001B[39mfind_parameter(\n\u001B[1;32m   1821\u001B[0m         schema,\n\u001B[1;32m   1822\u001B[0m         \u001B[38;5;124m'\u001B[39m\u001B[38;5;124mdata\u001B[39m\u001B[38;5;124m'\u001B[39m)\n\u001B[0;32m-> 1824\u001B[0m     dtype \u001B[38;5;241m=\u001B[39m \u001B[43mread_datatype\u001B[49m\u001B[43m(\u001B[49m\n\u001B[1;32m   1825\u001B[0m \u001B[43m        \u001B[49m\u001B[43mdata_schema\u001B[49m\u001B[43m)\u001B[49m\n\u001B[1;32m   1827\u001B[0m     shape \u001B[38;5;241m=\u001B[39m read_shape(\n\u001B[1;32m   1828\u001B[0m         schema[\u001B[38;5;124m'\u001B[39m\u001B[38;5;124m_shape\u001B[39m\u001B[38;5;124m'\u001B[39m])\n\u001B[1;32m   1830\u001B[0m     \u001B[38;5;28;01mreturn\u001B[39;00m np\u001B[38;5;241m.\u001B[39mzeros(\n\u001B[1;32m   1831\u001B[0m         shape,\n\u001B[1;32m   1832\u001B[0m         dtype\u001B[38;5;241m=\u001B[39mdtype)\n",
      "File \u001B[0;32m~/Desktop/repos/v2Ecoli/.venv/lib/python3.12/site-packages/bigraph_schema/utilities.py:150\u001B[0m, in \u001B[0;36mread_datatype\u001B[0;34m(data_schema)\u001B[0m\n\u001B[1;32m    148\u001B[0m \u001B[38;5;28;01mdef\u001B[39;00m \u001B[38;5;21mread_datatype\u001B[39m(data_schema):\n\u001B[1;32m    149\u001B[0m     \u001B[38;5;28;01mreturn\u001B[39;00m lookup_dtype(\n\u001B[0;32m--> 150\u001B[0m         \u001B[43mdata_schema\u001B[49m\u001B[43m[\u001B[49m\u001B[38;5;124;43m'\u001B[39;49m\u001B[38;5;124;43m_type\u001B[39;49m\u001B[38;5;124;43m'\u001B[39;49m\u001B[43m]\u001B[49m)\n",
      "\u001B[0;31mTypeError\u001B[0m: string indices must be integers, not 'str'"
     ]
    }
   ],
   "execution_count": 17
  },
  {
   "metadata": {},
   "cell_type": "code",
   "outputs": [],
   "execution_count": null,
   "source": "",
   "id": "f6bdbe94c98c4646"
  }
 ],
 "metadata": {
  "kernelspec": {
   "display_name": "Python 3",
   "language": "python",
   "name": "python3"
  },
  "language_info": {
   "codemirror_mode": {
    "name": "ipython",
    "version": 2
   },
   "file_extension": ".py",
   "mimetype": "text/x-python",
   "name": "python",
   "nbconvert_exporter": "python",
   "pygments_lexer": "ipython2",
   "version": "2.7.6"
  }
 },
 "nbformat": 4,
 "nbformat_minor": 5
}
