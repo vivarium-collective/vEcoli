{
 "cells": [
  {
   "cell_type": "code",
   "id": "initial_id",
   "metadata": {
    "collapsed": true,
    "ExecuteTime": {
     "end_time": "2025-03-18T18:03:48.881385Z",
     "start_time": "2025-03-18T18:03:47.775243Z"
    }
   },
   "source": [
    "from typing import Union\n",
    "\n",
    "from vivarium.core.types import State, Update\n",
    "\n",
    "from pbg.translate import get_port_mapping\n",
    "from pbg.parse import get_process, find_defaults\n",
    "from process_bigraph import ProcessTypes, pp\n",
    "from bigraph_schema.type_system import required_schema_keys, optional_schema_keys\n",
    "from vivarium.core.registry import process_registry\n",
    "from vivarium.core.process import Process as VivariumProcess\n",
    "from ecoli.processes.registries import topology_registry\n",
    "from vivarium_interface.vivarium import Vivarium\n",
    "from pbg.data_model.base_process import BaseProcess, CORE\n",
    "from pbg.parse import find_defaults\n",
    "\n",
    "from pbg.test_output.partition_converted import PartitionedProcess\n",
    "from pbg.test_output.demo_converted import Tx"
   ],
   "outputs": [
    {
     "name": "stderr",
     "output_type": "stream",
     "text": [
      "<unknown>:1: SyntaxWarning: invalid escape sequence '\\s'\n"
     ]
    }
   ],
   "execution_count": 1
  },
  {
   "metadata": {
    "ExecuteTime": {
     "end_time": "2025-03-18T18:03:49.314526Z",
     "start_time": "2025-03-18T18:03:49.303207Z"
    }
   },
   "cell_type": "code",
   "source": [
    "core = ProcessTypes()\n",
    "\n",
    "processes_to_register = dict(zip(\n",
    "    ['partition-converted', 'tx'],\n",
    "    [PartitionedProcess, Tx]\n",
    "))\n",
    "for proc_id, process in processes_to_register.items():\n",
    "    core.register_process(proc_id, process)\n",
    "    print(f'Registered {process} to: {proc_id}')"
   ],
   "id": "c7a2c0e63ab820db",
   "outputs": [
    {
     "name": "stdout",
     "output_type": "stream",
     "text": [
      "Registered <class 'pbg.test_output.partition_converted.PartitionedProcess'> to: partition-converted\n",
      "Registered <class 'pbg.test_output.demo_converted.Tx'> to: tx\n"
     ]
    }
   ],
   "execution_count": 2
  },
  {
   "metadata": {
    "ExecuteTime": {
     "end_time": "2025-03-18T18:03:49.797808Z",
     "start_time": "2025-03-18T18:03:49.795335Z"
    }
   },
   "cell_type": "code",
   "source": [
    "def make_vivarium(core):\n",
    "    types: dict = core.types()\n",
    "    processes = core.process_registry.registry\n",
    "    processes.update(process_registry.registry)\n",
    "    type_keys: set = required_schema_keys.union(optional_schema_keys)\n",
    "    return Vivarium(types=types, processes=processes)\n",
    "\n",
    "\n",
    "def get_proc(viv: Vivarium, name: str) -> BaseProcess:\n",
    "    return viv.get_state()[name]['instance']"
   ],
   "id": "55544d45bd790117",
   "outputs": [],
   "execution_count": 3
  },
  {
   "metadata": {},
   "cell_type": "markdown",
   "source": "#### 1. Simple Example with Toy process",
   "id": "2a3f31c4cb07db3d"
  },
  {
   "metadata": {
    "ExecuteTime": {
     "end_time": "2025-03-18T18:03:50.495254Z",
     "start_time": "2025-03-18T18:03:50.492396Z"
    }
   },
   "cell_type": "code",
   "source": [
    "class Add(BaseProcess):\n",
    "    defaults = {\n",
    "        'k': 0.11 / 2.22\n",
    "    }\n",
    "    name = 'add'\n",
    "\n",
    "    def __init__(self, parameters=None, core=None):\n",
    "        super().__init__(parameters, core=core)\n",
    "\n",
    "    def ports_schema(self):\n",
    "        return {\n",
    "            'A': {\n",
    "                'x': {\n",
    "                    '_default': -0.11,\n",
    "                    '_emit': True,\n",
    "                },\n",
    "            },\n",
    "            'B': {\n",
    "                'y': {\n",
    "                    '_default': 0.22,\n",
    "                    '_emit': True,\n",
    "                }\n",
    "            }\n",
    "        }\n",
    "\n",
    "    def next_update(\n",
    "            self, timestep, states):\n",
    "        x0 = states['A']['x']\n",
    "        x = x0 * self.parameters['k'] * timestep\n",
    "        return {\n",
    "            'A': {\n",
    "                'x': x,\n",
    "            },\n",
    "            'B': {\n",
    "                'y': x0 + (x * timestep)\n",
    "            }\n",
    "        }\n",
    "\n",
    "\n",
    "core.register_process('Add', Add)"
   ],
   "id": "11b2b723479129d0",
   "outputs": [],
   "execution_count": 4
  },
  {
   "metadata": {
    "ExecuteTime": {
     "end_time": "2025-03-18T18:03:50.972482Z",
     "start_time": "2025-03-18T18:03:50.959139Z"
    }
   },
   "cell_type": "code",
   "source": [
    "viv = make_vivarium(core)\n",
    "viv.add_process(process_id='Add', name='add', config={'k': -11.11})\n",
    "\n",
    "viv"
   ],
   "id": "dc1030ac27c00b24",
   "outputs": [
    {
     "data": {
      "text/plain": [
       "Vivarium( \n",
       "{ 'add': { 'address': 'local:Add',\n",
       "           'config': {'k': -11.11, 'timestep': 1.0},\n",
       "           'inputs': {},\n",
       "           'instance': <__main__.Add object at 0x124849e80>,\n",
       "           'interval': 1.0,\n",
       "           'outputs': {}},\n",
       "  'global_time': 0.0})"
      ]
     },
     "execution_count": 5,
     "metadata": {},
     "output_type": "execute_result"
    }
   ],
   "execution_count": 5
  },
  {
   "metadata": {
    "ExecuteTime": {
     "end_time": "2025-03-18T18:03:52.825672Z",
     "start_time": "2025-03-18T18:03:52.821355Z"
    }
   },
   "cell_type": "code",
   "source": [
    "proc: BaseProcess = get_proc(viv, 'add')\n",
    "\n",
    "viv.connect_process(\n",
    "    process_name='add',\n",
    "    inputs=proc.stores,\n",
    "    outputs=proc.stores\n",
    ")\n",
    "\n",
    "viv"
   ],
   "id": "20efd42370ddf179",
   "outputs": [
    {
     "data": {
      "text/plain": [
       "Vivarium( \n",
       "{ 'A': {'x': 0.0},\n",
       "  'B': {'y': 0.0},\n",
       "  'add': { 'address': 'local:Add',\n",
       "           'config': {'k': -11.11, 'timestep': 1.0},\n",
       "           'inputs': {'A': ['A'], 'B': ['B']},\n",
       "           'instance': <__main__.Add object at 0x124849e80>,\n",
       "           'interval': 1.0,\n",
       "           'outputs': {'A': ['A'], 'B': ['B']}},\n",
       "  'global_time': 0.0})"
      ]
     },
     "execution_count": 6,
     "metadata": {},
     "output_type": "execute_result"
    }
   ],
   "execution_count": 6
  },
  {
   "metadata": {
    "ExecuteTime": {
     "end_time": "2025-03-18T18:03:53.381460Z",
     "start_time": "2025-03-18T18:03:53.376511Z"
    }
   },
   "cell_type": "code",
   "source": [
    "viv.set_value(path=['A', 'x'], value=-11.11)\n",
    "viv.set_value(path=['B', 'y'], value=22.22)\n",
    "\n",
    "viv.add_emitter()\n",
    "\n",
    "viv"
   ],
   "id": "ee6a6ee4a3b9a753",
   "outputs": [
    {
     "data": {
      "text/plain": [
       "Vivarium( \n",
       "{ 'A': {'x': -11.11},\n",
       "  'B': {'y': 22.22},\n",
       "  'add': { 'address': 'local:Add',\n",
       "           'config': {'k': -11.11, 'timestep': 1.0},\n",
       "           'inputs': {'A': ['A'], 'B': ['B']},\n",
       "           'instance': <__main__.Add object at 0x124849e80>,\n",
       "           'interval': 1.0,\n",
       "           'outputs': {'A': ['A'], 'B': ['B']}},\n",
       "  'emitter': { 'address': 'local:ram-emitter',\n",
       "               'config': { 'emit': { 'A': 'any',\n",
       "                                     'B': 'any',\n",
       "                                     'global_time': 'any'}},\n",
       "               'inputs': { 'A': ['A'],\n",
       "                           'B': ['B'],\n",
       "                           'global_time': ['global_time']},\n",
       "               'instance': <process_bigraph.composite.RAMEmitter object at 0x115ff1cd0>,\n",
       "               'outputs': None},\n",
       "  'global_time': 0.0})"
      ]
     },
     "execution_count": 7,
     "metadata": {},
     "output_type": "execute_result"
    }
   ],
   "execution_count": 7
  },
  {
   "metadata": {
    "ExecuteTime": {
     "end_time": "2025-03-18T18:03:54.229730Z",
     "start_time": "2025-03-18T18:03:54.031094Z"
    }
   },
   "cell_type": "code",
   "source": [
    "import matplotlib.pyplot as plt\n",
    "%matplotlib inline\n",
    "\n",
    "viv.run(20)\n",
    "ts = viv.get_timeseries()\n",
    "viv.plot_timeseries()"
   ],
   "id": "9dae7de294a5f15a",
   "outputs": [
    {
     "data": {
      "text/plain": [
       "<Figure size 1000x1000 with 2 Axes>"
      ],
      "image/png": "[encoded data removed]"
     },
     "execution_count": 8,
     "metadata": {},
     "output_type": "execute_result"
    }
   ],
   "execution_count": 8
  },
  {
   "metadata": {},
   "cell_type": "markdown",
   "source": "#### 2. Example using an existing ecoli process which has been converted with the cli app (using the Vivarium Core demo transcription process)",
   "id": "4ac41960dfc6bb2d"
  },
  {
   "metadata": {
    "ExecuteTime": {
     "end_time": "2025-03-18T18:03:55.335916Z",
     "start_time": "2025-03-18T18:03:55.326750Z"
    }
   },
   "cell_type": "code",
   "source": "viv2 = make_vivarium(core)",
   "id": "d37e83ea05693e4e",
   "outputs": [],
   "execution_count": 9
  },
  {
   "metadata": {
    "ExecuteTime": {
     "end_time": "2025-03-18T18:03:55.759045Z",
     "start_time": "2025-03-18T18:03:55.755201Z"
    }
   },
   "cell_type": "code",
   "source": [
    "from pbg.test_output.demo_converted import Tx\n",
    "\n",
    "tx = Tx({}, core=core)\n",
    "tx.stores\n"
   ],
   "id": "39c88ec74a0cb3d5",
   "outputs": [
    {
     "data": {
      "text/plain": [
       "{'DNA': ['DNA'], 'mRNA': ['mRNA']}"
      ]
     },
     "execution_count": 10,
     "metadata": {},
     "output_type": "execute_result"
    }
   ],
   "execution_count": 10
  },
  {
   "metadata": {
    "ExecuteTime": {
     "end_time": "2025-03-18T18:03:56.492245Z",
     "start_time": "2025-03-18T18:03:56.481672Z"
    }
   },
   "cell_type": "code",
   "source": [
    "# add process\n",
    "viv2.add_process(\n",
    "    process_id='tx',\n",
    "    name='Tx',\n",
    "    inputs=tx.stores,\n",
    "    outputs=tx.stores\n",
    ")\n",
    "\n",
    "# set initial vals\n",
    "initial_state = tx.initial_state()\n",
    "viv2.set_value(\n",
    "    path=['DNA', 'G'],\n",
    "    value=initial_state.get('DNA').get('G')\n",
    ")\n",
    "viv2.set_value(\n",
    "    path=['mRNA', 'C'],\n",
    "    value=initial_state.get('mRNA').get('C')\n",
    ")\n",
    "\n",
    "# add emitter\n",
    "viv2.add_emitter()\n",
    "viv2"
   ],
   "id": "2060285dd01d7e5d",
   "outputs": [
    {
     "data": {
      "text/plain": [
       "Vivarium( \n",
       "{ 'DNA': {'G': 10.0},\n",
       "  'Tx': { 'address': 'local:tx',\n",
       "          'config': {'kdeg': 0.001, 'ktsc': 0.01, 'timestep': 1.0},\n",
       "          'inputs': {'DNA': ['DNA'], 'mRNA': ['mRNA']},\n",
       "          'instance': <pbg.test_output.demo_converted.Tx object at 0x10ddc2450>,\n",
       "          'interval': 1.0,\n",
       "          'outputs': {'DNA': ['DNA'], 'mRNA': ['mRNA']}},\n",
       "  'emitter': { 'address': 'local:ram-emitter',\n",
       "               'config': { 'emit': { 'DNA': 'any',\n",
       "                                     'global_time': 'any',\n",
       "                                     'mRNA': 'any'}},\n",
       "               'inputs': { 'DNA': ['DNA'],\n",
       "                           'global_time': ['global_time'],\n",
       "                           'mRNA': ['mRNA']},\n",
       "               'instance': <process_bigraph.composite.RAMEmitter object at 0x1249d11c0>,\n",
       "               'outputs': None},\n",
       "  'global_time': 0.0,\n",
       "  'mRNA': {'C': 100.0}})"
      ]
     },
     "execution_count": 11,
     "metadata": {},
     "output_type": "execute_result"
    }
   ],
   "execution_count": 11
  },
  {
   "metadata": {
    "ExecuteTime": {
     "end_time": "2025-03-18T18:04:26.499479Z",
     "start_time": "2025-03-18T18:04:26.485406Z"
    }
   },
   "cell_type": "code",
   "source": [
    "%matplotlib inline\n",
    "\n",
    "viv2.run(22)\n",
    "ts2 = viv2.get_timeseries()\n",
    "ts2"
   ],
   "id": "d8468f8fa73695e0",
   "outputs": [
    {
     "data": {
      "text/plain": [
       "    global_time       DNA.G         mRNA.C\n",
       "0           0.0        10.0     100.000000\n",
       "1           1.0        20.0     100.000000\n",
       "2           2.0        40.0     100.100000\n",
       "3           3.0        80.0     100.399900\n",
       "4           4.0       160.0     101.099500\n",
       "5           5.0       320.0     102.598401\n",
       "6           6.0       640.0     105.695802\n",
       "7           7.0      1280.0     111.990106\n",
       "8           8.0      2560.0     124.678116\n",
       "9           9.0      5120.0     150.153438\n",
       "10         10.0     10240.0     201.203285\n",
       "11         11.0     20480.0     303.402081\n",
       "12         12.0     40960.0     507.898679\n",
       "13         13.0     81920.0     916.990781\n",
       "14         14.0    163840.0    1735.273790\n",
       "15         15.0    327680.0    3371.938516\n",
       "16         16.0    655360.0    6645.366578\n",
       "17         17.0   1310720.0   13192.321211\n",
       "18         18.0   2621440.0   26286.328890\n",
       "19         19.0   5242880.0   52474.442561\n",
       "20         20.0  10485760.0  104850.768118\n",
       "21         21.0  20971520.0  209603.517350\n",
       "22         22.0  41943040.0  419109.113833"
      ],
      "text/html": [
       "<div>\n",
       "<style scoped>\n",
       "    .dataframe tbody tr th:only-of-type {\n",
       "        vertical-align: middle;\n",
       "    }\n",
       "\n",
       "    .dataframe tbody tr th {\n",
       "        vertical-align: top;\n",
       "    }\n",
       "\n",
       "    .dataframe thead th {\n",
       "        text-align: right;\n",
       "    }\n",
       "</style>\n",
       "<table border=\"1\" class=\"dataframe\">\n",
       "  <thead>\n",
       "    <tr style=\"text-align: right;\">\n",
       "      <th></th>\n",
       "      <th>global_time</th>\n",
       "      <th>DNA.G</th>\n",
       "      <th>mRNA.C</th>\n",
       "    </tr>\n",
       "  </thead>\n",
       "  <tbody>\n",
       "    <tr>\n",
       "      <th>0</th>\n",
       "      <td>0.0</td>\n",
       "      <td>10.0</td>\n",
       "      <td>100.000000</td>\n",
       "    </tr>\n",
       "    <tr>\n",
       "      <th>1</th>\n",
       "      <td>1.0</td>\n",
       "      <td>20.0</td>\n",
       "      <td>100.000000</td>\n",
       "    </tr>\n",
       "    <tr>\n",
       "      <th>2</th>\n",
       "      <td>2.0</td>\n",
       "      <td>40.0</td>\n",
       "      <td>100.100000</td>\n",
       "    </tr>\n",
       "    <tr>\n",
       "      <th>3</th>\n",
       "      <td>3.0</td>\n",
       "      <td>80.0</td>\n",
       "      <td>100.399900</td>\n",
       "    </tr>\n",
       "    <tr>\n",
       "      <th>4</th>\n",
       "      <td>4.0</td>\n",
       "      <td>160.0</td>\n",
       "      <td>101.099500</td>\n",
       "    </tr>\n",
       "    <tr>\n",
       "      <th>5</th>\n",
       "      <td>5.0</td>\n",
       "      <td>320.0</td>\n",
       "      <td>102.598401</td>\n",
       "    </tr>\n",
       "    <tr>\n",
       "      <th>6</th>\n",
       "      <td>6.0</td>\n",
       "      <td>640.0</td>\n",
       "      <td>105.695802</td>\n",
       "    </tr>\n",
       "    <tr>\n",
       "      <th>7</th>\n",
       "      <td>7.0</td>\n",
       "      <td>1280.0</td>\n",
       "      <td>111.990106</td>\n",
       "    </tr>\n",
       "    <tr>\n",
       "      <th>8</th>\n",
       "      <td>8.0</td>\n",
       "      <td>2560.0</td>\n",
       "      <td>124.678116</td>\n",
       "    </tr>\n",
       "    <tr>\n",
       "      <th>9</th>\n",
       "      <td>9.0</td>\n",
       "      <td>5120.0</td>\n",
       "      <td>150.153438</td>\n",
       "    </tr>\n",
       "    <tr>\n",
       "      <th>10</th>\n",
       "      <td>10.0</td>\n",
       "      <td>10240.0</td>\n",
       "      <td>201.203285</td>\n",
       "    </tr>\n",
       "    <tr>\n",
       "      <th>11</th>\n",
       "      <td>11.0</td>\n",
       "      <td>20480.0</td>\n",
       "      <td>303.402081</td>\n",
       "    </tr>\n",
       "    <tr>\n",
       "      <th>12</th>\n",
       "      <td>12.0</td>\n",
       "      <td>40960.0</td>\n",
       "      <td>507.898679</td>\n",
       "    </tr>\n",
       "    <tr>\n",
       "      <th>13</th>\n",
       "      <td>13.0</td>\n",
       "      <td>81920.0</td>\n",
       "      <td>916.990781</td>\n",
       "    </tr>\n",
       "    <tr>\n",
       "      <th>14</th>\n",
       "      <td>14.0</td>\n",
       "      <td>163840.0</td>\n",
       "      <td>1735.273790</td>\n",
       "    </tr>\n",
       "    <tr>\n",
       "      <th>15</th>\n",
       "      <td>15.0</td>\n",
       "      <td>327680.0</td>\n",
       "      <td>3371.938516</td>\n",
       "    </tr>\n",
       "    <tr>\n",
       "      <th>16</th>\n",
       "      <td>16.0</td>\n",
       "      <td>655360.0</td>\n",
       "      <td>6645.366578</td>\n",
       "    </tr>\n",
       "    <tr>\n",
       "      <th>17</th>\n",
       "      <td>17.0</td>\n",
       "      <td>1310720.0</td>\n",
       "      <td>13192.321211</td>\n",
       "    </tr>\n",
       "    <tr>\n",
       "      <th>18</th>\n",
       "      <td>18.0</td>\n",
       "      <td>2621440.0</td>\n",
       "      <td>26286.328890</td>\n",
       "    </tr>\n",
       "    <tr>\n",
       "      <th>19</th>\n",
       "      <td>19.0</td>\n",
       "      <td>5242880.0</td>\n",
       "      <td>52474.442561</td>\n",
       "    </tr>\n",
       "    <tr>\n",
       "      <th>20</th>\n",
       "      <td>20.0</td>\n",
       "      <td>10485760.0</td>\n",
       "      <td>104850.768118</td>\n",
       "    </tr>\n",
       "    <tr>\n",
       "      <th>21</th>\n",
       "      <td>21.0</td>\n",
       "      <td>20971520.0</td>\n",
       "      <td>209603.517350</td>\n",
       "    </tr>\n",
       "    <tr>\n",
       "      <th>22</th>\n",
       "      <td>22.0</td>\n",
       "      <td>41943040.0</td>\n",
       "      <td>419109.113833</td>\n",
       "    </tr>\n",
       "  </tbody>\n",
       "</table>\n",
       "</div>"
      ]
     },
     "execution_count": 12,
     "metadata": {},
     "output_type": "execute_result"
    }
   ],
   "execution_count": 12
  },
  {
   "metadata": {},
   "cell_type": "markdown",
   "source": "#### 3. Fitting a backwards compatible ecoli process generated with the CLI in a more complex example:",
   "id": "c794f167e29fc723"
  },
  {
   "metadata": {
    "ExecuteTime": {
     "end_time": "2025-03-17T22:33:31.961466Z",
     "start_time": "2025-03-17T22:33:31.950474Z"
    }
   },
   "cell_type": "code",
   "source": "viv3 = make_vivarium(core)",
   "id": "13aed6bd532a70dd",
   "outputs": [],
   "execution_count": 12
  },
  {
   "metadata": {
    "ExecuteTime": {
     "end_time": "2025-03-17T22:33:33.063797Z",
     "start_time": "2025-03-17T22:33:32.813471Z"
    }
   },
   "cell_type": "code",
   "source": [
    "pid = 'threshold-converted'\n",
    "viv3.add_process(\n",
    "    process_id=pid,\n",
    "    name='thresh-0',\n",
    ")"
   ],
   "id": "cff3639b373104d2",
   "outputs": [
    {
     "ename": "AttributeError",
     "evalue": "'DeathThreshold' object has no attribute 'topology'",
     "output_type": "error",
     "traceback": [
      "\u001B[0;31m---------------------------------------------------------------------------\u001B[0m",
      "\u001B[0;31mAttributeError\u001B[0m                            Traceback (most recent call last)",
      "Cell \u001B[0;32mIn[13], line 2\u001B[0m\n\u001B[1;32m      1\u001B[0m pid \u001B[38;5;241m=\u001B[39m \u001B[38;5;124m'\u001B[39m\u001B[38;5;124mthreshold-converted\u001B[39m\u001B[38;5;124m'\u001B[39m\n\u001B[0;32m----> 2\u001B[0m \u001B[43mviv2\u001B[49m\u001B[38;5;241;43m.\u001B[39;49m\u001B[43madd_process\u001B[49m\u001B[43m(\u001B[49m\n\u001B[1;32m      3\u001B[0m \u001B[43m    \u001B[49m\u001B[43mprocess_id\u001B[49m\u001B[38;5;241;43m=\u001B[39;49m\u001B[43mpid\u001B[49m\u001B[43m,\u001B[49m\n\u001B[1;32m      4\u001B[0m \u001B[43m    \u001B[49m\u001B[43mname\u001B[49m\u001B[38;5;241;43m=\u001B[39;49m\u001B[38;5;124;43m'\u001B[39;49m\u001B[38;5;124;43mthresh-0\u001B[39;49m\u001B[38;5;124;43m'\u001B[39;49m\u001B[43m,\u001B[49m\n\u001B[1;32m      5\u001B[0m \u001B[43m)\u001B[49m\n",
      "File \u001B[0;32m~/Desktop/repos/vivarium-interface/vivarium_interface/vivarium.py:175\u001B[0m, in \u001B[0;36mVivarium.add_process\u001B[0;34m(self, name, process_id, config, inputs, outputs, path)\u001B[0m\n\u001B[1;32m    162\u001B[0m state \u001B[38;5;241m=\u001B[39m {\n\u001B[1;32m    163\u001B[0m     name: {\n\u001B[1;32m    164\u001B[0m         \u001B[38;5;124m\"\u001B[39m\u001B[38;5;124m_type\u001B[39m\u001B[38;5;124m\"\u001B[39m: edge_type,\n\u001B[0;32m   (...)\u001B[0m\n\u001B[1;32m    171\u001B[0m     }\n\u001B[1;32m    172\u001B[0m }\n\u001B[1;32m    174\u001B[0m \u001B[38;5;66;03m# nest the process in the composite at the given path\u001B[39;00m\n\u001B[0;32m--> 175\u001B[0m \u001B[38;5;28;43mself\u001B[39;49m\u001B[38;5;241;43m.\u001B[39;49m\u001B[43mcomposite\u001B[49m\u001B[38;5;241;43m.\u001B[39;49m\u001B[43mmerge\u001B[49m\u001B[43m(\u001B[49m\u001B[43m{\u001B[49m\u001B[43m}\u001B[49m\u001B[43m,\u001B[49m\u001B[43m \u001B[49m\u001B[43mstate\u001B[49m\u001B[43m,\u001B[49m\u001B[43m \u001B[49m\u001B[43mpath\u001B[49m\u001B[43m)\u001B[49m\n\u001B[1;32m    176\u001B[0m \u001B[38;5;28mself\u001B[39m\u001B[38;5;241m.\u001B[39mreset_emitters()\n\u001B[1;32m    177\u001B[0m \u001B[38;5;28mself\u001B[39m\u001B[38;5;241m.\u001B[39mreset_paths()\n",
      "File \u001B[0;32m~/Desktop/repos/v2Ecoli/.venv/lib/python3.12/site-packages/process_bigraph/composite.py:975\u001B[0m, in \u001B[0;36mComposite.merge\u001B[0;34m(self, schema, state, path)\u001B[0m\n\u001B[1;32m    973\u001B[0m \u001B[38;5;28;01mdef\u001B[39;00m \u001B[38;5;21mmerge\u001B[39m(\u001B[38;5;28mself\u001B[39m, schema, state, path\u001B[38;5;241m=\u001B[39m\u001B[38;5;28;01mNone\u001B[39;00m):\n\u001B[1;32m    974\u001B[0m     path \u001B[38;5;241m=\u001B[39m path \u001B[38;5;129;01mor\u001B[39;00m []\n\u001B[0;32m--> 975\u001B[0m     \u001B[38;5;28mself\u001B[39m\u001B[38;5;241m.\u001B[39mcomposition, \u001B[38;5;28mself\u001B[39m\u001B[38;5;241m.\u001B[39mstate \u001B[38;5;241m=\u001B[39m \u001B[38;5;28;43mself\u001B[39;49m\u001B[38;5;241;43m.\u001B[39;49m\u001B[43mcore\u001B[49m\u001B[38;5;241;43m.\u001B[39;49m\u001B[43mmerge\u001B[49m\u001B[43m(\u001B[49m\n\u001B[1;32m    976\u001B[0m \u001B[43m        \u001B[49m\u001B[38;5;28;43mself\u001B[39;49m\u001B[38;5;241;43m.\u001B[39;49m\u001B[43mcomposition\u001B[49m\u001B[43m,\u001B[49m\n\u001B[1;32m    977\u001B[0m \u001B[43m        \u001B[49m\u001B[38;5;28;43mself\u001B[39;49m\u001B[38;5;241;43m.\u001B[39;49m\u001B[43mstate\u001B[49m\u001B[43m,\u001B[49m\n\u001B[1;32m    978\u001B[0m \u001B[43m        \u001B[49m\u001B[43mpath\u001B[49m\u001B[43m,\u001B[49m\n\u001B[1;32m    979\u001B[0m \u001B[43m        \u001B[49m\u001B[43mschema\u001B[49m\u001B[43m,\u001B[49m\n\u001B[1;32m    980\u001B[0m \u001B[43m        \u001B[49m\u001B[43mstate\u001B[49m\u001B[43m)\u001B[49m\n",
      "File \u001B[0;32m~/Desktop/repos/v2Ecoli/.venv/lib/python3.12/site-packages/bigraph_schema/type_system.py:1288\u001B[0m, in \u001B[0;36mTypeSystem.merge\u001B[0;34m(self, schema, state, path, update_schema, update_state, defer)\u001B[0m\n\u001B[1;32m   1279\u001B[0m \u001B[38;5;28;01mdef\u001B[39;00m \u001B[38;5;21mmerge\u001B[39m(\u001B[38;5;28mself\u001B[39m, schema, state, path, update_schema, update_state, defer\u001B[38;5;241m=\u001B[39m\u001B[38;5;28;01mFalse\u001B[39;00m):\n\u001B[1;32m   1280\u001B[0m     top_schema, top_state \u001B[38;5;241m=\u001B[39m \u001B[38;5;28mself\u001B[39m\u001B[38;5;241m.\u001B[39mset_slice(\n\u001B[1;32m   1281\u001B[0m         schema,\n\u001B[1;32m   1282\u001B[0m         state,\n\u001B[0;32m   (...)\u001B[0m\n\u001B[1;32m   1285\u001B[0m         update_state,\n\u001B[1;32m   1286\u001B[0m         defer)\n\u001B[0;32m-> 1288\u001B[0m     \u001B[38;5;28;01mreturn\u001B[39;00m \u001B[38;5;28;43mself\u001B[39;49m\u001B[38;5;241;43m.\u001B[39;49m\u001B[43mgenerate\u001B[49m\u001B[43m(\u001B[49m\u001B[43mtop_schema\u001B[49m\u001B[43m,\u001B[49m\u001B[43m \u001B[49m\u001B[43mtop_state\u001B[49m\u001B[43m)\u001B[49m\n",
      "File \u001B[0;32m~/Desktop/repos/v2Ecoli/.venv/lib/python3.12/site-packages/bigraph_schema/type_system.py:2073\u001B[0m, in \u001B[0;36mTypeSystem.generate\u001B[0;34m(self, schema, state)\u001B[0m\n\u001B[1;32m   2068\u001B[0m \u001B[38;5;28;01mdef\u001B[39;00m \u001B[38;5;21mgenerate\u001B[39m(\u001B[38;5;28mself\u001B[39m, schema, state):\n\u001B[1;32m   2069\u001B[0m     merged_schema, merged_state \u001B[38;5;241m=\u001B[39m \u001B[38;5;28mself\u001B[39m\u001B[38;5;241m.\u001B[39msort(\n\u001B[1;32m   2070\u001B[0m         schema,\n\u001B[1;32m   2071\u001B[0m         state)\n\u001B[0;32m-> 2073\u001B[0m     _, _, top_schema, top_state \u001B[38;5;241m=\u001B[39m \u001B[38;5;28;43mself\u001B[39;49m\u001B[38;5;241;43m.\u001B[39;49m\u001B[43mgenerate_recur\u001B[49m\u001B[43m(\u001B[49m\n\u001B[1;32m   2074\u001B[0m \u001B[43m        \u001B[49m\u001B[43mmerged_schema\u001B[49m\u001B[43m,\u001B[49m\n\u001B[1;32m   2075\u001B[0m \u001B[43m        \u001B[49m\u001B[43mmerged_state\u001B[49m\u001B[43m)\u001B[49m\n\u001B[1;32m   2077\u001B[0m     \u001B[38;5;28;01mreturn\u001B[39;00m top_schema, top_state\n",
      "File \u001B[0;32m~/Desktop/repos/v2Ecoli/.venv/lib/python3.12/site-packages/bigraph_schema/type_system.py:2059\u001B[0m, in \u001B[0;36mTypeSystem.generate_recur\u001B[0;34m(self, schema, state, top_schema, top_state, path)\u001B[0m\n\u001B[1;32m   2051\u001B[0m found \u001B[38;5;241m=\u001B[39m \u001B[38;5;28mself\u001B[39m\u001B[38;5;241m.\u001B[39mretrieve(\n\u001B[1;32m   2052\u001B[0m     schema)\n\u001B[1;32m   2054\u001B[0m generate_function \u001B[38;5;241m=\u001B[39m \u001B[38;5;28mself\u001B[39m\u001B[38;5;241m.\u001B[39mchoose_method(\n\u001B[1;32m   2055\u001B[0m     found,\n\u001B[1;32m   2056\u001B[0m     state,\n\u001B[1;32m   2057\u001B[0m     \u001B[38;5;124m'\u001B[39m\u001B[38;5;124mgenerate\u001B[39m\u001B[38;5;124m'\u001B[39m)\n\u001B[0;32m-> 2059\u001B[0m \u001B[38;5;28;01mreturn\u001B[39;00m \u001B[43mgenerate_function\u001B[49m\u001B[43m(\u001B[49m\n\u001B[1;32m   2060\u001B[0m \u001B[43m    \u001B[49m\u001B[38;5;28;43mself\u001B[39;49m\u001B[43m,\u001B[49m\n\u001B[1;32m   2061\u001B[0m \u001B[43m    \u001B[49m\u001B[43mfound\u001B[49m\u001B[43m,\u001B[49m\n\u001B[1;32m   2062\u001B[0m \u001B[43m    \u001B[49m\u001B[43mstate\u001B[49m\u001B[43m,\u001B[49m\n\u001B[1;32m   2063\u001B[0m \u001B[43m    \u001B[49m\u001B[43mtop_schema\u001B[49m\u001B[38;5;241;43m=\u001B[39;49m\u001B[43mtop_schema\u001B[49m\u001B[43m,\u001B[49m\n\u001B[1;32m   2064\u001B[0m \u001B[43m    \u001B[49m\u001B[43mtop_state\u001B[49m\u001B[38;5;241;43m=\u001B[39;49m\u001B[43mtop_state\u001B[49m\u001B[43m,\u001B[49m\n\u001B[1;32m   2065\u001B[0m \u001B[43m    \u001B[49m\u001B[43mpath\u001B[49m\u001B[38;5;241;43m=\u001B[39;49m\u001B[43mpath\u001B[49m\u001B[43m)\u001B[49m\n",
      "File \u001B[0;32m~/Desktop/repos/v2Ecoli/.venv/lib/python3.12/site-packages/bigraph_schema/type_functions.py:1884\u001B[0m, in \u001B[0;36mgenerate_any\u001B[0;34m(core, schema, state, top_schema, top_state, path)\u001B[0m\n\u001B[1;32m   1879\u001B[0m     generated_schema[key] \u001B[38;5;241m=\u001B[39m state\u001B[38;5;241m.\u001B[39mget(\n\u001B[1;32m   1880\u001B[0m         key,\n\u001B[1;32m   1881\u001B[0m         schema\u001B[38;5;241m.\u001B[39mget(key))\n\u001B[1;32m   1883\u001B[0m \u001B[38;5;28;01melse\u001B[39;00m:\n\u001B[0;32m-> 1884\u001B[0m     subschema, substate, top_schema, top_state \u001B[38;5;241m=\u001B[39m \u001B[43mcore\u001B[49m\u001B[38;5;241;43m.\u001B[39;49m\u001B[43mgenerate_recur\u001B[49m\u001B[43m(\u001B[49m\n\u001B[1;32m   1885\u001B[0m \u001B[43m        \u001B[49m\u001B[43mschema\u001B[49m\u001B[38;5;241;43m.\u001B[39;49m\u001B[43mget\u001B[49m\u001B[43m(\u001B[49m\u001B[43mkey\u001B[49m\u001B[43m)\u001B[49m\u001B[43m,\u001B[49m\n\u001B[1;32m   1886\u001B[0m \u001B[43m        \u001B[49m\u001B[43mstate\u001B[49m\u001B[38;5;241;43m.\u001B[39;49m\u001B[43mget\u001B[49m\u001B[43m(\u001B[49m\u001B[43mkey\u001B[49m\u001B[43m)\u001B[49m\u001B[43m,\u001B[49m\n\u001B[1;32m   1887\u001B[0m \u001B[43m        \u001B[49m\u001B[43mtop_schema\u001B[49m\u001B[38;5;241;43m=\u001B[39;49m\u001B[43mtop_schema\u001B[49m\u001B[43m,\u001B[49m\n\u001B[1;32m   1888\u001B[0m \u001B[43m        \u001B[49m\u001B[43mtop_state\u001B[49m\u001B[38;5;241;43m=\u001B[39;49m\u001B[43mtop_state\u001B[49m\u001B[43m,\u001B[49m\n\u001B[1;32m   1889\u001B[0m \u001B[43m        \u001B[49m\u001B[43mpath\u001B[49m\u001B[38;5;241;43m=\u001B[39;49m\u001B[43mpath\u001B[49m\u001B[38;5;241;43m+\u001B[39;49m\u001B[43m[\u001B[49m\u001B[43mkey\u001B[49m\u001B[43m]\u001B[49m\u001B[43m)\u001B[49m\n\u001B[1;32m   1891\u001B[0m     generated_schema[key] \u001B[38;5;241m=\u001B[39m core\u001B[38;5;241m.\u001B[39mresolve_schemas(\n\u001B[1;32m   1892\u001B[0m         schema\u001B[38;5;241m.\u001B[39mget(key, {}),\n\u001B[1;32m   1893\u001B[0m         subschema)\n\u001B[1;32m   1895\u001B[0m     generated_state[key] \u001B[38;5;241m=\u001B[39m substate\n",
      "File \u001B[0;32m~/Desktop/repos/v2Ecoli/.venv/lib/python3.12/site-packages/bigraph_schema/type_system.py:2059\u001B[0m, in \u001B[0;36mTypeSystem.generate_recur\u001B[0;34m(self, schema, state, top_schema, top_state, path)\u001B[0m\n\u001B[1;32m   2051\u001B[0m found \u001B[38;5;241m=\u001B[39m \u001B[38;5;28mself\u001B[39m\u001B[38;5;241m.\u001B[39mretrieve(\n\u001B[1;32m   2052\u001B[0m     schema)\n\u001B[1;32m   2054\u001B[0m generate_function \u001B[38;5;241m=\u001B[39m \u001B[38;5;28mself\u001B[39m\u001B[38;5;241m.\u001B[39mchoose_method(\n\u001B[1;32m   2055\u001B[0m     found,\n\u001B[1;32m   2056\u001B[0m     state,\n\u001B[1;32m   2057\u001B[0m     \u001B[38;5;124m'\u001B[39m\u001B[38;5;124mgenerate\u001B[39m\u001B[38;5;124m'\u001B[39m)\n\u001B[0;32m-> 2059\u001B[0m \u001B[38;5;28;01mreturn\u001B[39;00m \u001B[43mgenerate_function\u001B[49m\u001B[43m(\u001B[49m\n\u001B[1;32m   2060\u001B[0m \u001B[43m    \u001B[49m\u001B[38;5;28;43mself\u001B[39;49m\u001B[43m,\u001B[49m\n\u001B[1;32m   2061\u001B[0m \u001B[43m    \u001B[49m\u001B[43mfound\u001B[49m\u001B[43m,\u001B[49m\n\u001B[1;32m   2062\u001B[0m \u001B[43m    \u001B[49m\u001B[43mstate\u001B[49m\u001B[43m,\u001B[49m\n\u001B[1;32m   2063\u001B[0m \u001B[43m    \u001B[49m\u001B[43mtop_schema\u001B[49m\u001B[38;5;241;43m=\u001B[39;49m\u001B[43mtop_schema\u001B[49m\u001B[43m,\u001B[49m\n\u001B[1;32m   2064\u001B[0m \u001B[43m    \u001B[49m\u001B[43mtop_state\u001B[49m\u001B[38;5;241;43m=\u001B[39;49m\u001B[43mtop_state\u001B[49m\u001B[43m,\u001B[49m\n\u001B[1;32m   2065\u001B[0m \u001B[43m    \u001B[49m\u001B[43mpath\u001B[49m\u001B[38;5;241;43m=\u001B[39;49m\u001B[43mpath\u001B[49m\u001B[43m)\u001B[49m\n",
      "File \u001B[0;32m~/Desktop/repos/v2Ecoli/.venv/lib/python3.12/site-packages/bigraph_schema/type_functions.py:2096\u001B[0m, in \u001B[0;36mgenerate_edge\u001B[0;34m(core, schema, state, top_schema, top_state, path)\u001B[0m\n\u001B[1;32m   2086\u001B[0m path \u001B[38;5;241m=\u001B[39m path \u001B[38;5;129;01mor\u001B[39;00m []\n\u001B[1;32m   2088\u001B[0m generated_schema, generated_state, top_schema, top_state \u001B[38;5;241m=\u001B[39m generate_any(\n\u001B[1;32m   2089\u001B[0m     core,\n\u001B[1;32m   2090\u001B[0m     schema,\n\u001B[0;32m   (...)\u001B[0m\n\u001B[1;32m   2093\u001B[0m     top_state\u001B[38;5;241m=\u001B[39mtop_state,\n\u001B[1;32m   2094\u001B[0m     path\u001B[38;5;241m=\u001B[39mpath)\n\u001B[0;32m-> 2096\u001B[0m deserialized_state \u001B[38;5;241m=\u001B[39m \u001B[43mcore\u001B[49m\u001B[38;5;241;43m.\u001B[39;49m\u001B[43mdeserialize\u001B[49m\u001B[43m(\u001B[49m\n\u001B[1;32m   2097\u001B[0m \u001B[43m    \u001B[49m\u001B[43mgenerated_schema\u001B[49m\u001B[43m,\u001B[49m\n\u001B[1;32m   2098\u001B[0m \u001B[43m    \u001B[49m\u001B[43mgenerated_state\u001B[49m\u001B[43m)\u001B[49m\n\u001B[1;32m   2100\u001B[0m merged_schema, merged_state \u001B[38;5;241m=\u001B[39m core\u001B[38;5;241m.\u001B[39msort(\n\u001B[1;32m   2101\u001B[0m     generated_schema,\n\u001B[1;32m   2102\u001B[0m     deserialized_state)\n\u001B[1;32m   2104\u001B[0m top_schema, top_state \u001B[38;5;241m=\u001B[39m core\u001B[38;5;241m.\u001B[39mset_slice(\n\u001B[1;32m   2105\u001B[0m     top_schema,\n\u001B[1;32m   2106\u001B[0m     top_state,\n\u001B[1;32m   2107\u001B[0m     path,\n\u001B[1;32m   2108\u001B[0m     merged_schema,\n\u001B[1;32m   2109\u001B[0m     merged_state)\n",
      "File \u001B[0;32m~/Desktop/repos/v2Ecoli/.venv/lib/python3.12/site-packages/bigraph_schema/type_system.py:1407\u001B[0m, in \u001B[0;36mTypeSystem.deserialize\u001B[0;34m(self, schema, state)\u001B[0m\n\u001B[1;32m   1400\u001B[0m schema \u001B[38;5;241m=\u001B[39m \u001B[38;5;28mself\u001B[39m\u001B[38;5;241m.\u001B[39mretrieve(schema)\n\u001B[1;32m   1402\u001B[0m deserialize_function \u001B[38;5;241m=\u001B[39m \u001B[38;5;28mself\u001B[39m\u001B[38;5;241m.\u001B[39mchoose_method(\n\u001B[1;32m   1403\u001B[0m     schema,\n\u001B[1;32m   1404\u001B[0m     state,\n\u001B[1;32m   1405\u001B[0m     \u001B[38;5;124m'\u001B[39m\u001B[38;5;124mdeserialize\u001B[39m\u001B[38;5;124m'\u001B[39m)\n\u001B[0;32m-> 1407\u001B[0m deserialized \u001B[38;5;241m=\u001B[39m \u001B[43mdeserialize_function\u001B[49m\u001B[43m(\u001B[49m\n\u001B[1;32m   1408\u001B[0m \u001B[43m    \u001B[49m\u001B[43mschema\u001B[49m\u001B[43m,\u001B[49m\n\u001B[1;32m   1409\u001B[0m \u001B[43m    \u001B[49m\u001B[43mstate\u001B[49m\u001B[43m,\u001B[49m\n\u001B[1;32m   1410\u001B[0m \u001B[43m    \u001B[49m\u001B[38;5;28;43mself\u001B[39;49m\u001B[43m)\u001B[49m\n\u001B[1;32m   1412\u001B[0m \u001B[38;5;28;01mreturn\u001B[39;00m deserialized\n",
      "File \u001B[0;32m~/Desktop/repos/v2Ecoli/.venv/lib/python3.12/site-packages/process_bigraph/composite.py:372\u001B[0m, in \u001B[0;36mdeserialize_process\u001B[0;34m(schema, encoded, core)\u001B[0m\n\u001B[1;32m    366\u001B[0m     interval \u001B[38;5;241m=\u001B[39m core\u001B[38;5;241m.\u001B[39mdefault(\n\u001B[1;32m    367\u001B[0m         schema\u001B[38;5;241m.\u001B[39mget(\n\u001B[1;32m    368\u001B[0m             \u001B[38;5;124m'\u001B[39m\u001B[38;5;124minterval\u001B[39m\u001B[38;5;124m'\u001B[39m,\n\u001B[1;32m    369\u001B[0m             \u001B[38;5;124m'\u001B[39m\u001B[38;5;124minterval\u001B[39m\u001B[38;5;124m'\u001B[39m))\n\u001B[1;32m    371\u001B[0m \u001B[38;5;28;01mif\u001B[39;00m \u001B[38;5;129;01mnot\u001B[39;00m \u001B[38;5;124m'\u001B[39m\u001B[38;5;124minstance\u001B[39m\u001B[38;5;124m'\u001B[39m \u001B[38;5;129;01min\u001B[39;00m deserialized:\n\u001B[0;32m--> 372\u001B[0m     process \u001B[38;5;241m=\u001B[39m \u001B[43minstantiate\u001B[49m\u001B[43m(\u001B[49m\n\u001B[1;32m    373\u001B[0m \u001B[43m        \u001B[49m\u001B[43mconfig\u001B[49m\u001B[43m,\u001B[49m\n\u001B[1;32m    374\u001B[0m \u001B[43m        \u001B[49m\u001B[43mcore\u001B[49m\u001B[38;5;241;43m=\u001B[39;49m\u001B[43mcore\u001B[49m\u001B[43m)\u001B[49m\n\u001B[1;32m    376\u001B[0m     deserialized[\u001B[38;5;124m'\u001B[39m\u001B[38;5;124minstance\u001B[39m\u001B[38;5;124m'\u001B[39m] \u001B[38;5;241m=\u001B[39m process\n\u001B[1;32m    378\u001B[0m deserialized[\u001B[38;5;124m'\u001B[39m\u001B[38;5;124mconfig\u001B[39m\u001B[38;5;124m'\u001B[39m] \u001B[38;5;241m=\u001B[39m config\n",
      "File \u001B[0;32m~/Desktop/repos/v2Ecoli/pbg/test_output/demo_converted.py:24\u001B[0m, in \u001B[0;36mDeathThreshold.__init__\u001B[0;34m(self, parameters, core)\u001B[0m\n\u001B[1;32m     23\u001B[0m \u001B[38;5;28;01mdef\u001B[39;00m \u001B[38;5;21m__init__\u001B[39m(\u001B[38;5;28mself\u001B[39m, parameters, core\u001B[38;5;241m=\u001B[39m\u001B[38;5;28;01mNone\u001B[39;00m):\n\u001B[0;32m---> 24\u001B[0m     \u001B[38;5;28;43msuper\u001B[39;49m\u001B[43m(\u001B[49m\u001B[43m)\u001B[49m\u001B[38;5;241;43m.\u001B[39;49m\u001B[38;5;21;43m__init__\u001B[39;49m\u001B[43m(\u001B[49m\u001B[43mparameters\u001B[49m\u001B[43m,\u001B[49m\u001B[43m \u001B[49m\u001B[43mcore\u001B[49m\u001B[43m)\u001B[49m\n\u001B[1;32m     25\u001B[0m     \u001B[38;5;28mself\u001B[39m\u001B[38;5;241m.\u001B[39mmolecule_id \u001B[38;5;241m=\u001B[39m \u001B[38;5;28mself\u001B[39m\u001B[38;5;241m.\u001B[39mparameters[\u001B[38;5;124m\"\u001B[39m\u001B[38;5;124mmolecule_id\u001B[39m\u001B[38;5;124m\"\u001B[39m]\n\u001B[1;32m     26\u001B[0m     \u001B[38;5;28mself\u001B[39m\u001B[38;5;241m.\u001B[39mthreshold \u001B[38;5;241m=\u001B[39m \u001B[38;5;28mself\u001B[39m\u001B[38;5;241m.\u001B[39mparameters[\u001B[38;5;124m\"\u001B[39m\u001B[38;5;124mthreshold\u001B[39m\u001B[38;5;124m\"\u001B[39m]\n",
      "File \u001B[0;32m~/Desktop/repos/v2Ecoli/pbg/test_output/partition_converted.py:175\u001B[0m, in \u001B[0;36mPartitionedProcess.__init__\u001B[0;34m(self, parameters, core)\u001B[0m\n\u001B[1;32m    173\u001B[0m \u001B[38;5;28mself\u001B[39m\u001B[38;5;241m.\u001B[39mrequest_set \u001B[38;5;241m=\u001B[39m \u001B[38;5;28;01mFalse\u001B[39;00m\n\u001B[1;32m    174\u001B[0m \u001B[38;5;28;01massert\u001B[39;00m \u001B[38;5;28mself\u001B[39m\u001B[38;5;241m.\u001B[39mname\n\u001B[0;32m--> 175\u001B[0m \u001B[38;5;28;01massert\u001B[39;00m \u001B[38;5;28;43mself\u001B[39;49m\u001B[38;5;241;43m.\u001B[39;49m\u001B[43mtopology\u001B[49m\n\u001B[1;32m    176\u001B[0m topology_registry\u001B[38;5;241m.\u001B[39mregister(\u001B[38;5;28mself\u001B[39m\u001B[38;5;241m.\u001B[39mname, \u001B[38;5;28mself\u001B[39m\u001B[38;5;241m.\u001B[39mtopology)\n",
      "\u001B[0;31mAttributeError\u001B[0m: 'DeathThreshold' object has no attribute 'topology'"
     ]
    }
   ],
   "execution_count": 13
  },
  {
   "metadata": {
    "ExecuteTime": {
     "end_time": "2025-03-17T22:12:32.050606Z",
     "start_time": "2025-03-17T22:12:32.048802Z"
    }
   },
   "cell_type": "code",
   "source": "wall = get_proc(viv3, 'wall-0')",
   "id": "1bb3069397872ce",
   "outputs": [],
   "execution_count": 14
  },
  {
   "metadata": {
    "ExecuteTime": {
     "end_time": "2025-03-17T22:12:32.062819Z",
     "start_time": "2025-03-17T22:12:32.060321Z"
    }
   },
   "cell_type": "code",
   "source": [
    "ports = wall.get_stores()\n",
    "\n",
    "wall.inputs()"
   ],
   "id": "3c0f2ebd182235ca",
   "outputs": [
    {
     "data": {
      "text/plain": [
       "{'murein_state': {'incorporated_murein': 'integer',\n",
       "  'unincorporated_murein': 'integer',\n",
       "  'shadow_murein': 'integer'},\n",
       " 'bulk': {},\n",
       " 'shape': {'volume': 'integer'},\n",
       " 'wall_state': {'lattice': 'any',\n",
       "  'lattice_rows': 'integer',\n",
       "  'lattice_cols': 'integer',\n",
       "  'extension_factor': 'integer',\n",
       "  'cracked': 'boolean',\n",
       "  'attempted_shrinkage': 'boolean'},\n",
       " 'pbp_state': {'active_fraction_PBP1A': 'float',\n",
       "  'active_fraction_PBP1B': 'float'},\n",
       " 'listeners': {'porosity': 'integer',\n",
       "  'hole_size_distribution': 'array',\n",
       "  'strand_length_distribution': 'list'}}"
      ]
     },
     "execution_count": 15,
     "metadata": {},
     "output_type": "execute_result"
    }
   ],
   "execution_count": 15
  },
  {
   "metadata": {
    "ExecuteTime": {
     "end_time": "2025-03-17T22:12:32.218797Z",
     "start_time": "2025-03-17T22:12:32.069893Z"
    }
   },
   "cell_type": "code",
   "source": "update = wall.update(state=wall.initial_state(), interval=3)",
   "id": "b00cb54c0e4e6b5c",
   "outputs": [
    {
     "ename": "KeyError",
     "evalue": "'id'",
     "output_type": "error",
     "traceback": [
      "\u001B[0;31m---------------------------------------------------------------------------\u001B[0m",
      "\u001B[0;31mKeyError\u001B[0m                                  Traceback (most recent call last)",
      "Cell \u001B[0;32mIn[16], line 1\u001B[0m\n\u001B[0;32m----> 1\u001B[0m update \u001B[38;5;241m=\u001B[39m \u001B[43mwall\u001B[49m\u001B[38;5;241;43m.\u001B[39;49m\u001B[43mupdate\u001B[49m\u001B[43m(\u001B[49m\u001B[43mstate\u001B[49m\u001B[38;5;241;43m=\u001B[39;49m\u001B[43mwall\u001B[49m\u001B[38;5;241;43m.\u001B[39;49m\u001B[43minitial_state\u001B[49m\u001B[43m(\u001B[49m\u001B[43m)\u001B[49m\u001B[43m,\u001B[49m\u001B[43m \u001B[49m\u001B[43minterval\u001B[49m\u001B[38;5;241;43m=\u001B[39;49m\u001B[38;5;241;43m3\u001B[39;49m\u001B[43m)\u001B[49m\n",
      "File \u001B[0;32m~/Desktop/repos/v2Ecoli/pbg/data_model/base_process.py:38\u001B[0m, in \u001B[0;36mBaseProcess.update\u001B[0;34m(self, state, interval)\u001B[0m\n\u001B[1;32m     37\u001B[0m \u001B[38;5;28;01mdef\u001B[39;00m \u001B[38;5;21mupdate\u001B[39m(\u001B[38;5;28mself\u001B[39m, state, interval):\n\u001B[0;32m---> 38\u001B[0m     \u001B[38;5;28;01mreturn\u001B[39;00m \u001B[38;5;28;43mself\u001B[39;49m\u001B[38;5;241;43m.\u001B[39;49m\u001B[43mnext_update\u001B[49m\u001B[43m(\u001B[49m\u001B[43mtimestep\u001B[49m\u001B[38;5;241;43m=\u001B[39;49m\u001B[43minterval\u001B[49m\u001B[43m,\u001B[49m\u001B[43m \u001B[49m\u001B[43mstates\u001B[49m\u001B[38;5;241;43m=\u001B[39;49m\u001B[43mstate\u001B[49m\u001B[43m)\u001B[49m\n",
      "File \u001B[0;32m~/Desktop/repos/v2Ecoli/pbg/test_output/cell_wall_edited.py:220\u001B[0m, in \u001B[0;36mCellWall.next_update\u001B[0;34m(self, timestep, states)\u001B[0m\n\u001B[1;32m    218\u001B[0m \u001B[38;5;28;01mdef\u001B[39;00m \u001B[38;5;21mnext_update\u001B[39m(\u001B[38;5;28mself\u001B[39m, timestep, states):\n\u001B[1;32m    219\u001B[0m     \u001B[38;5;28;01mif\u001B[39;00m \u001B[38;5;28mself\u001B[39m\u001B[38;5;241m.\u001B[39mpbp_idx \u001B[38;5;129;01mis\u001B[39;00m \u001B[38;5;28;01mNone\u001B[39;00m:\n\u001B[0;32m--> 220\u001B[0m         \u001B[38;5;28mself\u001B[39m\u001B[38;5;241m.\u001B[39mpbp_idx \u001B[38;5;241m=\u001B[39m bulk_name_to_idx(\u001B[38;5;28mself\u001B[39m\u001B[38;5;241m.\u001B[39mpbp_ids, \u001B[43mstates\u001B[49m\u001B[43m[\u001B[49m\u001B[38;5;124;43m\"\u001B[39;49m\u001B[38;5;124;43mbulk\u001B[39;49m\u001B[38;5;124;43m\"\u001B[39;49m\u001B[43m]\u001B[49m\u001B[43m[\u001B[49m\u001B[38;5;124;43m\"\u001B[39;49m\u001B[38;5;124;43mid\u001B[39;49m\u001B[38;5;124;43m\"\u001B[39;49m\u001B[43m]\u001B[49m)\n\u001B[1;32m    221\u001B[0m     update \u001B[38;5;241m=\u001B[39m {}\n\u001B[1;32m    222\u001B[0m     volume \u001B[38;5;241m=\u001B[39m states[\u001B[38;5;124m\"\u001B[39m\u001B[38;5;124mshape\u001B[39m\u001B[38;5;124m\"\u001B[39m][\u001B[38;5;124m\"\u001B[39m\u001B[38;5;124mvolume\u001B[39m\u001B[38;5;124m\"\u001B[39m]\n",
      "\u001B[0;31mKeyError\u001B[0m: 'id'"
     ]
    }
   ],
   "execution_count": 16
  },
  {
   "metadata": {
    "ExecuteTime": {
     "end_time": "2025-03-17T22:12:32.219566Z",
     "start_time": "2025-03-17T19:56:21.056880Z"
    }
   },
   "cell_type": "code",
   "source": "ports",
   "id": "f8c7074cba142e18",
   "outputs": [
    {
     "data": {
      "text/plain": [
       "{'murein_state': ['murein_state'],\n",
       " 'shape': ['shape'],\n",
       " 'wall_state': ['wall_state'],\n",
       " 'pbp_state': ['pbp_state'],\n",
       " 'listeners': ['listeners']}"
      ]
     },
     "execution_count": 20,
     "metadata": {},
     "output_type": "execute_result"
    }
   ],
   "execution_count": 20
  },
  {
   "metadata": {
    "ExecuteTime": {
     "end_time": "2025-03-17T22:12:32.223367Z",
     "start_time": "2025-03-17T19:56:24.018365Z"
    }
   },
   "cell_type": "code",
   "source": [
    "# Add object?\n",
    "wall.inputs()"
   ],
   "id": "a3de60dd27cc1ba7",
   "outputs": [
    {
     "data": {
      "text/plain": [
       "{'murein_state': 'murein_state_type',\n",
       " 'bulk': 'bulk_type',\n",
       " 'shape': 'shape_type',\n",
       " 'wall_state': 'wall_state_type',\n",
       " 'pbp_state': 'pbp_state_type',\n",
       " 'listeners': 'listeners_type'}"
      ]
     },
     "execution_count": 21,
     "metadata": {},
     "output_type": "execute_result"
    }
   ],
   "execution_count": 21
  },
  {
   "metadata": {
    "ExecuteTime": {
     "end_time": "2025-03-17T22:12:32.224685Z",
     "start_time": "2025-03-17T19:58:30.249496Z"
    }
   },
   "cell_type": "code",
   "source": "wall.config_schema",
   "id": "3d6a34a97caff6bb",
   "outputs": [
    {
     "data": {
      "text/plain": [
       "{'murein': {'_type': 'any', '_default': 'CPD-12261[p]'},\n",
       " 'PBP': {'PBP1A': {'_type': 'any', '_default': 'CPLX0-7717[m]'},\n",
       "  'PBP1B_alpha': {'_type': 'any', '_default': 'CPLX0-3951[i]'},\n",
       "  'PBP1B_gamma': {'_type': 'any', '_default': 'CPLX0-8300[c]'}},\n",
       " 'strand_term_p': {'_type': 'any', '_default': 0.07675577224377576},\n",
       " 'critical_radius': {'_type': 'any', '_default': 20},\n",
       " 'cell_radius': {'_type': 'any', '_default': 0.5},\n",
       " 'disaccharide_height': {'_type': 'any', '_default': 1.03},\n",
       " 'disaccharide_width': {'_type': 'any', '_default': 1.4},\n",
       " 'inter_strand_distance': {'_type': 'any', '_default': 0.6},\n",
       " 'max_expansion': {'_type': 'any', '_default': 3},\n",
       " 'seed': {'_type': 'any', '_default': 0},\n",
       " 'time_step': {'_type': 'any', '_default': 10},\n",
       " 'timestep': {'_type': 'any', '_default': 10}}"
      ]
     },
     "execution_count": 24,
     "metadata": {},
     "output_type": "execute_result"
    }
   ],
   "execution_count": 24
  },
  {
   "metadata": {},
   "cell_type": "code",
   "source": [
    "viv3.connect_process(\n",
    "    process_name='wall-0',\n",
    "    inputs=ports,\n",
    "    outputs=ports\n",
    ")\n",
    "\n",
    "viv3"
   ],
   "id": "b1a78ee19bbec906",
   "outputs": [],
   "execution_count": null
  },
  {
   "metadata": {},
   "cell_type": "code",
   "outputs": [],
   "execution_count": null,
   "source": "",
   "id": "bf60c01409356897"
  }
 ],
 "metadata": {
  "kernelspec": {
   "display_name": "Python 3",
   "language": "python",
   "name": "python3"
  },
  "language_info": {
   "codemirror_mode": {
    "name": "ipython",
    "version": 2
   },
   "file_extension": ".py",
   "mimetype": "text/x-python",
   "name": "python",
   "nbconvert_exporter": "python",
   "pygments_lexer": "ipython2",
   "version": "2.7.6"
  }
 },
 "nbformat": 4,
 "nbformat_minor": 5
}
